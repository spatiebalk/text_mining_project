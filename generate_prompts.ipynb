{
 "cells": [
  {
   "cell_type": "code",
   "execution_count": 1,
   "metadata": {},
   "outputs": [],
   "source": [
    "import numpy as np\n",
    "import os\n",
    "from os.path import join, isfile\n",
    "import spacy\n",
    "nlp = spacy.load(\"en_core_web_sm\")\n",
    "import random\n",
    "import string"
   ]
  },
  {
   "cell_type": "markdown",
   "metadata": {},
   "source": [
    "# Harry Potter"
   ]
  },
  {
   "cell_type": "code",
   "execution_count": 2,
   "metadata": {},
   "outputs": [
    {
     "name": "stdout",
     "output_type": "stream",
     "text": [
      "6251649\n"
     ]
    }
   ],
   "source": [
    "text = open('data/harrypotter.txt', encoding=\"utf8\").read()\n",
    "print(len(text))"
   ]
  },
  {
   "cell_type": "code",
   "execution_count": 3,
   "metadata": {},
   "outputs": [
    {
     "name": "stdout",
     "output_type": "stream",
     "text": [
      "22937\n"
     ]
    }
   ],
   "source": [
    "text_tokenized = [token.text for token in nlp(text[0:100000])]\n",
    "text_tokenized = text_tokenized[:-1]\n",
    "print(len(text_tokenized))"
   ]
  },
  {
   "cell_type": "code",
   "execution_count": 21,
   "metadata": {},
   "outputs": [
    {
     "name": "stdout",
     "output_type": "stream",
     "text": [
      "\n",
      "\n",
      " it was staring\n",
      "it was staring\n"
     ]
    }
   ],
   "source": [
    "with open('data/hp_prompts.txt', 'w') as outfile:\n",
    "    \n",
    "    nr_prompts = 0\n",
    "    while nr_prompts != 100:\n",
    "        rand_int = random.randrange(0, len(text_tokenized)-4)\n",
    "        prompt = text_tokenized[rand_int:rand_int+4]\n",
    "        prompt_string = ' '.join(word.lower() for word in prompt)\n",
    "        no_punct = True\n",
    "        \n",
    "        for p in string.punctuation:\n",
    "            if p in prompt_string:\n",
    "                no_punct = False\n",
    "                \n",
    "        if no_punct:            \n",
    "            outfile.write(prompt_string.strip()+\"\\n\")\n",
    "            nr_prompts += 1"
   ]
  },
  {
   "cell_type": "markdown",
   "metadata": {},
   "source": [
    "# News"
   ]
  },
  {
   "cell_type": "code",
   "execution_count": 2,
   "metadata": {},
   "outputs": [
    {
     "name": "stdout",
     "output_type": "stream",
     "text": [
      "192772685\n"
     ]
    }
   ],
   "source": [
    "text = open('data/news_data.txt', encoding=\"utf8\").read()\n",
    "print(len(text))"
   ]
  },
  {
   "cell_type": "code",
   "execution_count": 3,
   "metadata": {},
   "outputs": [
    {
     "name": "stdout",
     "output_type": "stream",
     "text": [
      "20183\n"
     ]
    }
   ],
   "source": [
    "text_tokenized = [token.text for token in nlp(text[0:100000])]\n",
    "text_tokenized = text_tokenized[:-1]\n",
    "print(len(text_tokenized))"
   ]
  },
  {
   "cell_type": "code",
   "execution_count": 6,
   "metadata": {},
   "outputs": [],
   "source": [
    "text_tokenized = [token.text for token in nlp(text[0:100000])]\n",
    "text_tokenized = text_tokenized[:-1]\n",
    "\n",
    "with open('data/news_prompts.txt', 'w') as outfile:\n",
    "    \n",
    "    nr_prompts = 0\n",
    "    while nr_prompts != 100:\n",
    "        rand_int = random.randrange(0, len(text_tokenized)-4)\n",
    "        prompt = text_tokenized[rand_int:rand_int+4]\n",
    "        prompt_string = ' '.join(word.lower() for word in prompt)\n",
    "        no_punct = True\n",
    "        \n",
    "        for p in string.punctuation:\n",
    "            if p in prompt_string:\n",
    "                no_punct = False\n",
    "                \n",
    "        if no_punct:     \n",
    "            prompt = prompt_string.strip()+\"\\n\"\n",
    "            outfile.write(prompt)\n",
    "            nr_prompts += 1"
   ]
  },
  {
   "cell_type": "code",
   "execution_count": null,
   "metadata": {},
   "outputs": [],
   "source": []
  }
 ],
 "metadata": {
  "kernelspec": {
   "display_name": "Python 3",
   "language": "python",
   "name": "python3"
  },
  "language_info": {
   "codemirror_mode": {
    "name": "ipython",
    "version": 3
   },
   "file_extension": ".py",
   "mimetype": "text/x-python",
   "name": "python",
   "nbconvert_exporter": "python",
   "pygments_lexer": "ipython3",
   "version": "3.7.7"
  }
 },
 "nbformat": 4,
 "nbformat_minor": 4
}
