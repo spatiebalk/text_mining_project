{
  "nbformat": 4,
  "nbformat_minor": 0,
  "metadata": {
    "colab": {
      "name": "text_generation_GPT-2_hp.ipynb",
      "provenance": [],
      "collapsed_sections": [],
      "toc_visible": true,
      "include_colab_link": true
    },
    "kernelspec": {
      "name": "python3",
      "display_name": "Python 3"
    },
    "accelerator": "GPU"
  },
  "cells": [
    {
      "cell_type": "markdown",
      "metadata": {
        "id": "view-in-github",
        "colab_type": "text"
      },
      "source": [
        "<a href=\"https://colab.research.google.com/github/spatiebalk/text_mining_project/blob/master/text_generation_GPT_2_hp.ipynb\" target=\"_parent\"><img src=\"https://colab.research.google.com/assets/colab-badge.svg\" alt=\"Open In Colab\"/></a>"
      ]
    },
    {
      "cell_type": "markdown",
      "metadata": {
        "id": "H7LoMj4GA4n_"
      },
      "source": [
        "#  Train a GPT-2 Text-Generating Model w/ GPU For Free \n",
        "\n",
        "by [Max Woolf](http://minimaxir.com)\n",
        "\n",
        "*Last updated: November 10th, 2019*\n",
        "\n",
        "Retrain an advanced text generating neural network on any text dataset **for free on a GPU using Collaboratory** using `gpt-2-simple`!\n",
        "\n",
        "For more about `gpt-2-simple`, you can visit [this GitHub repository](https://github.com/minimaxir/gpt-2-simple). You can also read my [blog post](https://minimaxir.com/2019/09/howto-gpt2/) for more information how to use this notebook!\n",
        "\n",
        "\n",
        "To get started:\n",
        "\n",
        "1. Copy this notebook to your Google Drive to keep it and save your changes. (File -> Save a Copy in Drive)\n",
        "2. Make sure you're running the notebook in Google Chrome.\n",
        "3. Run the cells below:\n"
      ]
    },
    {
      "cell_type": "code",
      "metadata": {
        "id": "KBkpRgBCBS2_",
        "colab": {
          "base_uri": "https://localhost:8080/"
        },
        "outputId": "8bfa3dbb-10be-4d9c-87cc-5cba7139889b"
      },
      "source": [
        "%tensorflow_version 1.x\n",
        "!pip install -q gpt-2-simple\n",
        "import gpt_2_simple as gpt2\n",
        "from datetime import datetime\n",
        "from google.colab import files\n",
        "from tqdm import tqdm"
      ],
      "execution_count": 1,
      "outputs": [
        {
          "output_type": "stream",
          "text": [
            "TensorFlow 1.x selected.\n",
            "WARNING:tensorflow:\n",
            "The TensorFlow contrib module will not be included in TensorFlow 2.0.\n",
            "For more information, please see:\n",
            "  * https://github.com/tensorflow/community/blob/master/rfcs/20180907-contrib-sunset.md\n",
            "  * https://github.com/tensorflow/addons\n",
            "  * https://github.com/tensorflow/io (for I/O related ops)\n",
            "If you depend on functionality not listed there, please file an issue.\n",
            "\n"
          ],
          "name": "stdout"
        }
      ]
    },
    {
      "cell_type": "markdown",
      "metadata": {
        "id": "Bj2IJLHP3KwE"
      },
      "source": [
        "## GPU\n",
        "\n",
        "Colaboratory uses either a Nvidia T4 GPU or an Nvidia K80 GPU. The T4 is slightly faster than the old K80 for training GPT-2, and has more memory allowing you to train the larger GPT-2 models and generate more text.\n",
        "\n",
        "You can verify which GPU is active by running the cell below."
      ]
    },
    {
      "cell_type": "code",
      "metadata": {
        "id": "sUmTooTW3osf",
        "colab": {
          "base_uri": "https://localhost:8080/"
        },
        "outputId": "c0814f2c-33df-49e7-f144-ab6a879648e8"
      },
      "source": [
        "!nvidia-smi"
      ],
      "execution_count": 2,
      "outputs": [
        {
          "output_type": "stream",
          "text": [
            "Wed Dec 30 09:59:11 2020       \n",
            "+-----------------------------------------------------------------------------+\n",
            "| NVIDIA-SMI 460.27.04    Driver Version: 418.67       CUDA Version: 10.1     |\n",
            "|-------------------------------+----------------------+----------------------+\n",
            "| GPU  Name        Persistence-M| Bus-Id        Disp.A | Volatile Uncorr. ECC |\n",
            "| Fan  Temp  Perf  Pwr:Usage/Cap|         Memory-Usage | GPU-Util  Compute M. |\n",
            "|                               |                      |               MIG M. |\n",
            "|===============================+======================+======================|\n",
            "|   0  Tesla P100-PCIE...  Off  | 00000000:00:04.0 Off |                    0 |\n",
            "| N/A   32C    P0    25W / 250W |      0MiB / 16280MiB |      0%      Default |\n",
            "|                               |                      |                 ERR! |\n",
            "+-------------------------------+----------------------+----------------------+\n",
            "                                                                               \n",
            "+-----------------------------------------------------------------------------+\n",
            "| Processes:                                                                  |\n",
            "|  GPU   GI   CI        PID   Type   Process name                  GPU Memory |\n",
            "|        ID   ID                                                   Usage      |\n",
            "|=============================================================================|\n",
            "|  No running processes found                                                 |\n",
            "+-----------------------------------------------------------------------------+\n"
          ],
          "name": "stdout"
        }
      ]
    },
    {
      "cell_type": "markdown",
      "metadata": {
        "id": "0wXB05bPDYxS"
      },
      "source": [
        "## Downloading GPT-2\n",
        "\n",
        "If you're retraining a model on new text, you need to download the GPT-2 model first. \n",
        "\n",
        "There are three released sizes of GPT-2:\n",
        "\n",
        "* `124M` (default): the \"small\" model, 500MB on disk.\n",
        "* `355M`: the \"medium\" model, 1.5GB on disk.\n",
        "* `774M`: the \"large\" model, cannot currently be finetuned with Colaboratory but can be used to generate text from the pretrained model (see later in Notebook)\n",
        "* `1558M`: the \"extra large\", true model. Will not work if a K80 GPU is attached to the notebook. (like `774M`, it cannot be finetuned).\n",
        "\n",
        "Larger models have more knowledge, but take longer to finetune and longer to generate text. You can specify which base model to use by changing `model_name` in the cells below.\n",
        "\n",
        "The next cell downloads it from Google Cloud Storage and saves it in the Colaboratory VM at `/models/<model_name>`.\n",
        "\n",
        "This model isn't permanently saved in the Colaboratory VM; you'll have to redownload it if you want to retrain it at a later time."
      ]
    },
    {
      "cell_type": "code",
      "metadata": {
        "id": "P8wSlgXoDPCR",
        "colab": {
          "base_uri": "https://localhost:8080/"
        },
        "outputId": "5120ef8d-1d85-4fff-ac76-925cf625c372"
      },
      "source": [
        "gpt2.download_gpt2(model_name=\"124M\")"
      ],
      "execution_count": 3,
      "outputs": [
        {
          "output_type": "stream",
          "text": [
            "Fetching checkpoint: 1.05Mit [00:00, 325Mit/s]                                                      \n",
            "Fetching encoder.json: 1.05Mit [00:00, 126Mit/s]                                                    \n",
            "Fetching hparams.json: 1.05Mit [00:00, 377Mit/s]                                                    \n",
            "Fetching model.ckpt.data-00000-of-00001: 498Mit [00:01, 260Mit/s]                                   \n",
            "Fetching model.ckpt.index: 1.05Mit [00:00, 304Mit/s]                                                \n",
            "Fetching model.ckpt.meta: 1.05Mit [00:00, 168Mit/s]                                                 \n",
            "Fetching vocab.bpe: 1.05Mit [00:00, 154Mit/s]                                                       \n"
          ],
          "name": "stderr"
        }
      ]
    },
    {
      "cell_type": "markdown",
      "metadata": {
        "id": "N8KXuKWzQSsN"
      },
      "source": [
        "## Mounting Google Drive\n",
        "\n",
        "The best way to get input text to-be-trained into the Colaboratory VM, and to get the trained model *out* of Colaboratory, is to route it through Google Drive *first*.\n",
        "\n",
        "Running this cell (which will only work in Colaboratory) will mount your personal Google Drive in the VM, which later cells can use to get data in/out. (it will ask for an auth code; that auth is not saved anywhere)"
      ]
    },
    {
      "cell_type": "code",
      "metadata": {
        "id": "puq4iC6vUAHc",
        "colab": {
          "base_uri": "https://localhost:8080/"
        },
        "outputId": "fce30a84-03c7-441b-8b4c-ccd7aba6640b"
      },
      "source": [
        "gpt2.mount_gdrive()"
      ],
      "execution_count": 4,
      "outputs": [
        {
          "output_type": "stream",
          "text": [
            "Drive already mounted at /content/drive; to attempt to forcibly remount, call drive.mount(\"/content/drive\", force_remount=True).\n"
          ],
          "name": "stdout"
        }
      ]
    },
    {
      "cell_type": "markdown",
      "metadata": {
        "id": "BT__brhBCvJu"
      },
      "source": [
        "## Uploading a Text File to be Trained to Colaboratory\n",
        "\n",
        "In the Colaboratory Notebook sidebar on the left of the screen, select *Files*. From there you can upload files:\n",
        "\n",
        "![alt text](https://i.imgur.com/TGcZT4h.png)\n",
        "\n",
        "Upload **any smaller text file**  (<10 MB) and update the file name in the cell below, then run the cell."
      ]
    },
    {
      "cell_type": "code",
      "metadata": {
        "id": "6OFnPCLADfll"
      },
      "source": [
        "file_name = \"harrypotter.txt\""
      ],
      "execution_count": 5,
      "outputs": []
    },
    {
      "cell_type": "markdown",
      "metadata": {
        "id": "HeeSKtNWUedE"
      },
      "source": [
        "If your text file is larger than 10MB, it is recommended to upload that file to Google Drive first, then copy that file from Google Drive to the Colaboratory VM."
      ]
    },
    {
      "cell_type": "code",
      "metadata": {
        "id": "-Z6okFD8VKtS"
      },
      "source": [
        "gpt2.copy_file_from_gdrive(file_name)"
      ],
      "execution_count": 6,
      "outputs": []
    },
    {
      "cell_type": "markdown",
      "metadata": {
        "id": "LdpZQXknFNY3"
      },
      "source": [
        "## Finetune GPT-2\n",
        "\n",
        "The next cell will start the actual finetuning of GPT-2. It creates a persistent TensorFlow session which stores the training config, then runs the training for the specified number of `steps`. (to have the finetuning run indefinitely, set `steps = -1`)\n",
        "\n",
        "The model checkpoints will be saved in `/checkpoint/run1` by default. The checkpoints are saved every 500 steps (can be changed) and when the cell is stopped.\n",
        "\n",
        "The training might time out after 4ish hours; make sure you end training and save the results so you don't lose them!\n",
        "\n",
        "**IMPORTANT NOTE:** If you want to rerun this cell, **restart the VM first** (Runtime -> Restart Runtime). You will need to rerun imports but not recopy files.\n",
        "\n",
        "Other optional-but-helpful parameters for `gpt2.finetune`:\n",
        "\n",
        "\n",
        "*  **`restore_from`**: Set to `fresh` to start training from the base GPT-2, or set to `latest` to restart training from an existing checkpoint.\n",
        "* **`sample_every`**: Number of steps to print example output\n",
        "* **`print_every`**: Number of steps to print training progress.\n",
        "* **`learning_rate`**:  Learning rate for the training. (default `1e-4`, can lower to `1e-5` if you have <1MB input data)\n",
        "*  **`run_name`**: subfolder within `checkpoint` to save the model. This is useful if you want to work with multiple models (will also need to specify  `run_name` when loading the model)\n",
        "* **`overwrite`**: Set to `True` if you want to continue finetuning an existing model (w/ `restore_from='latest'`) without creating duplicate copies. "
      ]
    },
    {
      "cell_type": "code",
      "metadata": {
        "id": "aeXshJM-Cuaf",
        "colab": {
          "base_uri": "https://localhost:8080/"
        },
        "outputId": "822b4249-e0bd-4208-92fb-e07a7fa4ebfb"
      },
      "source": [
        "sess = gpt2.start_tf_sess()\n",
        "\n",
        "gpt2.finetune(sess,\n",
        "              dataset=file_name,\n",
        "              model_name='124M',\n",
        "              steps=5000,\n",
        "              restore_from='fresh',\n",
        "              run_name='run1_hp',\n",
        "              print_every=100,\n",
        "              sample_every=100,\n",
        "              save_every=500\n",
        "              )"
      ],
      "execution_count": 7,
      "outputs": [
        {
          "output_type": "stream",
          "text": [
            "WARNING:tensorflow:From /usr/local/lib/python3.6/dist-packages/gpt_2_simple/src/sample.py:17: where (from tensorflow.python.ops.array_ops) is deprecated and will be removed in a future version.\n",
            "Instructions for updating:\n",
            "Use tf.where in 2.0, which has the same broadcast rule as np.where\n",
            "Loading checkpoint models/124M/model.ckpt\n",
            "INFO:tensorflow:Restoring parameters from models/124M/model.ckpt\n"
          ],
          "name": "stdout"
        },
        {
          "output_type": "stream",
          "text": [
            "\r  0%|          | 0/1 [00:00<?, ?it/s]"
          ],
          "name": "stderr"
        },
        {
          "output_type": "stream",
          "text": [
            "Loading dataset...\n"
          ],
          "name": "stdout"
        },
        {
          "output_type": "stream",
          "text": [
            "100%|██████████| 1/1 [00:07<00:00,  7.34s/it]\n"
          ],
          "name": "stderr"
        },
        {
          "output_type": "stream",
          "text": [
            "dataset has 1579909 tokens\n",
            "Training...\n",
            "[100 | 129.98] loss=3.13 avg=3.13\n",
            "======== SAMPLE 1 ========\n",
            ", if you've got the power to do so.\"\n",
            "\n",
            "\"It's my job to ensure your safety,\" said Harry. \"You have a duty as teacher and champion, and you know that, too, it is, as a student, to defend yourselves against all who would dare challenge you.\n",
            "\n",
            "\"The only thing I must learn is what your students know about you, and the one thing they don't know about you is that they are no longer your students, but the teachers who you know.\"\n",
            "\n",
            "\"The teachers who are the objects of your greatest admiration,\" said Ron, \"come from across the country. They're the ones whom I would have preferred to see as my second mate. I've given them plenty of hours in the classroom, but I have never let a bad fight between them distract me, and I do think that they'll be a very good match for us at least.\"\n",
            "\n",
            "\"Well?\" said Harry, \"you said you wished you'd been able to look after your two best friends more closely; why didn't you do so today?\" He had hoped, in fact, that Hermione would be able to take over; it gave her better control, but he was very worried that it would be a very nasty fight for the two of them, and that the first was going to try and distract Ron, in which case they were going to have to make the other side look as friendly as possible, so that even if he did get to see Hermione, it would be a rather embarrassing duel.\n",
            "\n",
            "\"There's nothing to be ashamed of, though, as it's not my fault that I'll be fighting you in your office, I mean,\" said Ron, \"but the moment I'm ready to face you I'll be on my way. I can't expect anything to happen tomorrow after this, at least. You have to look after your staff, you know that. I'd be happy about leaving a message for the rest of us at the end. And if you're so worried about me, I'll be able to tell you where the last few days of my stay have taken place. I'll tell you what. Well, the place is quite empty.\"\n",
            "\n",
            "The two of them did not reply; they were still walking past the desk where the door to their dormitories had been. The air to the dormitory was very thin, but Harry had felt it over the years, as the walls were quite covered in books rather than in air.\n",
            "\n",
            "\"Well, it's the end,\" said Hermione quietly, as the others were now coming out of the wall in their seats. She did not look upset, but she did smile at them. \"I'm sure that it'll all come to a head in the next few days.\"\n",
            "\n",
            "\"Yeah,\" said Harry, as each one of them disappeared behind a desk, then continued on down the aisle into the hall.\n",
            "\n",
            "The empty classroom was full to the brim with books and pictures, the last remaining set included a small collection of photographs of Professor McGonagall, as had been written on the wall, and several books which contained Harry Potter.\n",
            "\n",
            "\"But I think you've just got to go on a few minutes,\" said Ron, \"and get to practice for the rest of the hour, then go back into bed, then do another test, which I'm sure will impress everyone. You're doing so well in the first place that if you continue to concentrate, you'll get better grades.\"\n",
            "\n",
            "There were a few of them in this class, the others who stood looking worried. Hermione had taken very little notice of the others on the floor either, but Ron took the moment. They were all still standing to examine the bookcases of the textbooks they had been sitting on as they entered the chamber.\n",
            "\n",
            "\"Hermione. Can you talk to her for any more than an hour? She hasn't even told me how to write on a piece of paper. . .?\" whispered Harry, and then the class resumed, with the group of students continuing to walk toward the table with them, their minds still aching and filled to the brim with all kinds of questions.\n",
            "\n",
            "\"Are you sure that I'm going to have a good time?\" asked Professor McGonagall, though she was not looking at the question on the table.\n",
            "\n",
            "\"No,\" said Harry. It was now very clear that he was not going to win either of the test if he answered back with a \"yes\" or \"no\" response.\n",
            "\n",
            "\"I'm sorry, but if you don't take the exam -\"\n",
            "\n",
            "\"I can't,\" said the door to the dormitory door shut. \"I'm not going to have a good look as I look and say...\"\n",
            "\n",
            "\"Why?\" said Hermione. \"Is that because you don't want to look at your paper at all -\"\n",
            "\n",
            "\"What? No!\" gasped Harry in rage, looking up at her. \"I really want to look\n",
            "\n",
            "[200 | 264.99] loss=2.82 avg=2.97\n",
            "======== SAMPLE 1 ========\n",
            "agall, who had been carrying a bag at his back. Harry was looking down at the front of Hagrid's dress robes, watching them drift in and out again. Hermione smiled fondily.\n",
            "\"I like the way you dress,\" said Hagrid. \"And the ones you wear. You won't be losing your cool.\"\n",
            "Harry felt he'd already paid enough to notice Hagrid to tell him what he was wearing, but that he'd already told Dumbledore so much before . . .\n",
            "He turned to Hermione, who was staring into the air now as though listening to a silent speech.\n",
            "\"It's a bit of a shock now, does it?\" she panted. \"That sort of -- it made you uncomfortable . . . so did you . .\"\n",
            "\"It did,\" said Hagrid again.\n",
            "\"Yes,\" said Hermione, looking at him. \"It did, though, Harry. . . I didn't really feel uncomfortable with you either.\"\n",
            "\"And you didn't look hurt?\"\n",
            "\"No,\" said Hagrid brightly. \"Not at all . . . not at all, not at all, I was scared too . . . .\"\n",
            "\"So are you going to tell me you haven't changed anything?\" said Hermione.\n",
            "\"No,\" he said in a whisper. \"I hope so . . . Hermione, it's a little more exciting now, I wouldn't mind if you told me where you're going . . .\"\n",
            "\"Yeah,\" said Hermione. \"I don't like talking about it at all, but I think it's probably most exciting if it's not your worst fears about anything.\"\n",
            "\"And you can't say nothing about it now?\"\n",
            "\"I don't mind,\" said Hagrid.\n",
            "\"Yeah . . . well . . .\"\n",
            "\"I don't understand,\" he said, frowning.\n",
            "\"But I haven't had that much time to really think about it,\" said Hermione. \"I can't say much more . . . that I haven't been getting much sleep.\"\n",
            "\"Well . . . it's a bit unpleasant,\" said Harry.\n",
            "\"It's more a matter of being a bit more sensible for your mind, though, than of it falling apart,\" Hagrid said, \"and you've been getting a couple of letters from your parents.\"\n",
            "\"I can't imagine how it must be, because I think they'll probably get rid of the stuff if things become more alarming,\" Hermione said, as Harry looked up. \"What else can I have?\"\n",
            "\"A new weapon and your own armor,\" said Hagrid, smiling at Harry, \"or, of course, a new weapon for the job. I've got more ideas for you -- a new weapon for your parents if they have to go out into the forest, if they want to have anything, and a new weapon for you . . . .\"\n",
            "\"I can't see why anyone would ever want an automatic weapon. . . and a weapon that could be made to do anything!\"\n",
            "He let out a small laugh.\n",
            "\"I'd love a second, though,\" said Hermione.\n",
            "He looked down at his wand.\n",
            "\"Right,\" he said.\n",
            "\"Let's talk a little bit more about the armor,\" said Hagrid, with a little more intensity.\n",
            "\"Oh . . . it's made of stone,\" Harry said, and they moved in silence. Hagrid paused, his fingers caressing his hair with their magic. \"We've heard rumors. . . . People like them. . . .\"\n",
            "\"All right.\" Harry said. \"Maybe we'll get to see what your dad's got.\"\n",
            "\"I don't know, it's a bit embarrassing when people like you say they hate you, Hermione,\" said Hagrid. \"But if there's any hope he'll leave you . . . that's what he does . . . I'm quite sure he's very proud of him.\"\n",
            "When Harry had finished, they all looked down at the armor in front of Hagrid's.\n",
            "\"Okay, but let's talk a bit more about the clothes, then,\" Hagrid said.\n",
            "\"I have something very interesting in the back,\" said Harry.\n",
            "He took off the dress robes, pulled the gloves back over his head, and then walked into the clearing where Hagrid lived. It was the best place he'd ever seen his Aunt Marge's garden when she had her own kitchen, and Hagrid could hardly believe their surprise when he thought they'd been working out a kitchen.\n",
            "There was a little room and ceiling of wood, an old fireplace, and a large oak-paneled wooden table. And a large fireplace, and in it Hermione's favorite sink, and three large jugs of tea.\n",
            "\"What is Hagrid's favorite sink?\" Harry asked Harry.\n",
            "\"The one I've been working out,\" said Hagrid, pointing at a pile of empty bottles under the table. \"That sink looks exactly like\n",
            "\n",
            "[300 | 398.96] loss=2.70 avg=2.88\n",
            "======== SAMPLE 1 ========\n",
            " battle of the dragons in our days ... it was all about him, Dumbledore. . . And then we got him, that was great, was all. . . and then he told us what he'd done and how we'd been working, and that was great ... that's the thing, is it? What's important is that it isn't important because you have seen the boy, that's where everything is. . . you're the boy who made sure that we got him.\"\n",
            "\n",
            "Mr. Weasley looked as he remembered his father: He looked as though he had been waiting for a moment to ask him so urgently.\n",
            "\n",
            "\"So you said,\" he said, with an air of astonishment that he did not feel at all comfortable with himself, after all, the reason for Dumbledore's resignation was that he wanted to take the family to London. \"And what do you think we'll do when we can't get a carriage?\"\n",
            "\n",
            "Harry got out of bed, grabbed his robes back askew and walked to the door. He could not use a pair of tongs as he hurried past. He looked very anxious, as did many others here at the camp.\n",
            "\n",
            "There was no need to use a second tong, but Harry walked past as fast as he could, past a couple of people watching him.\n",
            "\n",
            "There was an odd pause when he pulled another long silver necklace and it zoomed past him on Harry's arm; he could see he was wearing one of Dumbledore's own; an air of excitement, a slight, but still satisfied, anticipation.\n",
            "\n",
            "\"I don't think I could take it,\" said Dumbledore shortly shortly. \"I don't think I could.\"\n",
            "\n",
            "\"Well, if you can take it, all right?\" said Harry, but his heart remained steady as he waited for the necklace to zoom right past him.\n",
            "\n",
            "\"I'm good,\" said Dumbledore. \"Good.\"\n",
            "\n",
            "\"But the necklace isn't yours,\" said Harry bitterly. \"It's not yours.\"\n",
            "\n",
            "\"Oh, I'm sorry,\" said Dumbledore, smiling slightly.\n",
            "\n",
            "\"Thank you,\" said Harry.\n",
            "\n",
            "A moment later Dumbledore slid his necklace back into his pocket.\n",
            "\n",
            "\"And how come you haven't taken it?\" he said again.\n",
            "\n",
            "\"The wand is in my possession,\" said Harry, and he, too, turned back to look at Dumbledore in the same manner Dumbledore always did. \"I was a wizard with him when Harry was in elementary school. He never had Harry and my dad there, not even though -- but I had it, it was from the boy. . . . He died when he was sixteen, and my mother and I inherited it, which I am very proud of.\"\n",
            "\n",
            "\"I got it because they left me after you were seventeen,\" said Harry. \"They always told me. Didn't teach me what was to be proud of . . . I know I was supposed to be --\"\n",
            "\n",
            "Dumbledore gave a faint smile, and Harry knew that it was just the tip of the hat Dumbledore's wish had been to leave him.\n",
            "\n",
            "\"You weren't supposed to be proud, weren't you, Harry?\" he said, looking through his handbag. \"I knew you were supposed to be proud --\"\n",
            "\n",
            "\"That was true, you knew,\" said an expression that was very close to Harry's.\n",
            "\n",
            "\"I knew,\" said Harry. \"I knew what you were supposed to be proud of, but I could not be proud of it, I couldn't be proud of it, that was my family's happiness.\"\n",
            "\n",
            "Dumbledore looked around. His expression was no longer in such a gravelly voice. Harry felt his mind drift and he could not move. He had only just seen Dumbledore, and that was something he would know if he had time to think about it again.\n",
            "\n",
            "\"Well?\"\n",
            "\n",
            "\"So you want to be the man who takes over the house of your father, and --\"\n",
            "\n",
            "\"How do you explain?\" said Harry, and he felt an unpleasant, burning sensation in his right forearm.\n",
            "\n",
            "\"Harry Potter, who should be the one who takes over the house of your father, and weasley, and weasley!\"\n",
            "\n",
            "Dumbledore's lips dropped; Harry gasped.\n",
            "\n",
            "\"Who should take over the house of your father, and --\"\n",
            "\n",
            "As a last-minute measure of self-restraint Harry walked through the doorway and looked out into the deserted grounds. He could not see the castle. He felt the cold stone floor against which he lay, and saw that there were large piles of stone around a fireplace. Harry thought it a terrible impression, but he walked up a long staircase and out into the grounds again.\n",
            "\n",
            "\"What does it look like?\" he said finally, staring back at the distant castle.\n",
            "\n",
            "\"It's a really nice castle, is the thing?\" said Dumbledore. \"It has a lot of history .\n",
            "\n",
            "[400 | 533.07] loss=2.55 avg=2.80\n",
            "======== SAMPLE 1 ========\n",
            " and what not; then, it happened. In desperation.\n",
            "\n",
            "Grunts had only just arrived in the yard when he noticed a couple of neighbors at the back of the house coming to the door.\n",
            "\n",
            "\"Grunts, how were you?\"\n",
            "\n",
            "The witch had turned green.\n",
            "\n",
            "\"I was just pulling on the front door when we heard the door open so quickly,\" said Gaunt sharply. \"We went to fetch Percy.\"\n",
            "\n",
            "\"I dunno,\" said Percy in a hushed voice \"he didn't seem as though he'd had a chance to relax. I told him you were just going to be in this one, didn't you?\"\n",
            "\n",
            "\"No,\" said Gaunt. \"I was just having another argument with a neighbor last week, when Ginny came over the top for me and said I was going to be found dead in my car.\"\n",
            "\n",
            "\"Right, that's right,\" said Percy. \"So did I. I'm sorry, it was a horrible situation, you're having your argument about the school year end, and I never want to think about it again. I know I've been asking you to stay and look after your daughter for a while, for a little while, but you've got no right doing that... not with my own mother, or her --\"\n",
            "\n",
            "\"We're leaving,\" said Percy, and he and Gaunt threw him out of the house. He pulled over his wife and son, the two of them sitting together in the back row, and said, \"Grunts, if you'll just do it quickly. Percy, you've got to get your hands off your daughter and get out of this house, you stupid little cat.\"\n",
            "\n",
            "Gaunt let go of Percy as he went to get rid of Ginny. He tried to talk him out of it, but he had no choice. It hurt his face to look, because his head had been covered in scars. When his face fell and turned to dust, he looked around at his mother.\n",
            "\n",
            "\"This is all right -- we must go and look for Ginny, we've got time, we've got ten minutes before it gets too dark on the way here. All right, good-bye?\" he said. Percy looked shocked.\n",
            "\n",
            "\"Good-bye,\" said Gaunt.\n",
            "\n",
            "\"Oh good-bye, Ginny -- well, how you feeling Ginny, Weasley?\" asked Ginny, looking around. Percy looked into her worried eyes, and nodded his approval.\n",
            "\n",
            "\"I hope we have not just done enough to help you out of this,\" said Gaunt.\n",
            "\n",
            "\"The good news is, we've got a pretty good way of doing it,\" said Percy.\n",
            "\n",
            "\"And what if we --?\" asked Ginny. \"What if they --?\"\n",
            "\n",
            "\"I mean, we don't think this will work any time soon, Ginny,\" said Gaunt quickly. \"If we hadn't got back in there --\"\n",
            "\n",
            "\"We can stop it,\" said Ginny. \"You've lost your chance, Percy, you've got to stop being a fool and start making sure this isn't going to happen again --\" Gaunt started but Percy's words were drowned into a groan.\n",
            "\n",
            "\"Oh no!\" said Ginny, tears welling in her eyes again. \"Oh no! The day the school ended is now..\"\n",
            "\n",
            "\"You know how we've been through all our trials, Percy,\" said Gaunt sweetly, \"you know what we've done to our friends, we know how we've helped ourselves to sweets and all sorts of things and now you feel we have some way of helping you, and Ginny, Weasley --\"\n",
            "\n",
            "\"No you didn't,\" said Ginny, tears welling in her eyes. \"I -- what if we --?\"\n",
            "\n",
            "\"The future is in our hands,\" said Percy, his blue eyes darting around the corner. \"How many times we try and do what's right, and if there are any more failures then you've lost a bit of your strength.\"\n",
            "\n",
            "\"I want some peace, my good Percy,\" Ginny whispered, still holding his hand.\n",
            "\n",
            "There was a short pause. Percy turned his face to face the witch; his fingers were shaking with pain.\n",
            "\n",
            "\"I do not want to be your father, Percy!\" said Ginny, shaking the hand of the witch.\n",
            "\n",
            "\"Good-bye ... good Percy ... Ginny ... it's good-bye ... I want that peace.\"\n",
            "\n",
            "\"You want peace? It isn't, is it?\" said Percy, eyes widening. Harry, who'd been wondering why he wasn't being able to talk to the witch now, would never have felt this way. He looked at Ginny, who looked so happy to hear, that he didn't care that he was giving it a quick romp with Gaunt and Gaunt, and Harry wondered aloud just how happy Ginny was, which might explain the absence of\n",
            "\n",
            "[500 | 667.74] loss=2.82 avg=2.80\n",
            "Saving checkpoint/run1_hp/model-500\n",
            "======== SAMPLE 1 ========\n",
            " follow.\"\n",
            "\"Harry?\" She had left his notes on his desk as an extra precaution.\n",
            "\"My wife, Ron?\"\n",
            "\"It's what you're saying,\" said Harry, and he had to look to the left, just in case his wife did it again. On the right he saw his letter. When Ron's not writing about the latest news, he usually looks back at his notes and looks at an article\n",
            "on the Daily Prophet, though he does have a good reason for a few odd glances at his own letters. For instance, Ron sometimes takes photos of himself looking weirdly\n",
            "slightly older, because it's one of the most boring books that he's ever read. Anyway, that was Ron's point. Harry didn't want to miss any of his letters or anything too important. He wanted to take a bit of time to look at the rest of his letter, after he had read them all, and then take another deep breath.\n",
            "\"I saw someone in a hospital wing, sir, I know it was the Death Eater's,\" said Ron's heart. \"If he was trying to find revenge on you, Harry, he would be the first to say. If you know him, you have known him... if he finds you, we are on our own. There is no denying that you are a great Death Eater. I see you haven't gone as far as I have... you only have been spotted around here since last night. You haven't been very friendly with each other, had too much unprotected fun, and I'm sure that you have found more secrets for yourself than I have... I believe I was in a hospital wing last night alone.\"\n",
            "Ron shook his head, looking at Harry. \"I don't think we ought to dwell too much on that part of the letters,\" he said, but the words left his lips. He did think this might be the part of the letter that was most interesting to him....\n",
            "\"Now -- you -- Harry -- you don't know what I mean by what you call your 'perfection' -- I mean a level of intelligence and wisdom most like nothing else outside of yourself and the like -- there are only a very few people in this church you are aware of that could possibly have achieved as high the level of wizardry that I think you were prepared to put into it. I am not certain that you would have been prepared to think of such stuff, Harry. But it is much, much more difficult for people like me to have such qualities. You know, the way I have been raised, I feel much more capable of becoming a wizard... I did not ask myself that question at first....\" The letter was full of strange, odd, magical things he had never expected to encounter except in his youth. He could hear noises in the distance. There was a moment in which a scream came into focus; then, with a shout of pleasure, an angry voice sounded on his\n",
            "inside.\n",
            "\"My name is Albus Dumbledore!\" said Ron furiously in a whisper. \"We have been waiting on you. It seems like too late, then. If you can -- if you can't -- what's the matter?\"\n",
            "\"I can do something!\" Ron snapped at him, who was starting to move his hands to his sides as though they were instruments. \"That idiot told us you wouldn't go to the Ministry if you didn't know about all these things, but --\"\n",
            "\"You're on your own?\" Ron snorted. \"Look at this!\"\n",
            "\"- if you know how much trouble Sirius's having to meet now, how much trouble it's going to get to you if we get hit first-hand.\"\n",
            "This was Harry's attempt, on the subject of Sirius's Death Eater, the only one that had raised Ron's eyebrows. Harry was sure the idea of Sirius facing an imminent encounter in his own back garden seemed too much to miss; but Ron interrupted him with his hand on a letter where he had written, \"We know for a fact that the Ministry can't find out anything useful if we're traveling alone. We can only hope that, if they manage to use magic, they will make it very hard to trace the real face of the person that's using magic.\" That was the idea at the top of every letter; the only one that stood out so far to Harry; it had been Harry's own voice. His heart was still beating. He remembered the letter that Hagrid had given him in St. Mungo's. It was a message from a person who had visited him upon seeing him and was now with him in his own tent. Harry had never met Hagrid before, and thought that Harry's own death-enchantment was a very horrible idea....\n",
            "But Ron was having no difficulty. His voice sounded more like a voice than his own:\n",
            "\"Sirius's coming back. Please don't tell your mother or father! He's the real Sirius!\"\n",
            "Ron's heart jumped. How could he have\n",
            "\n",
            "[600 | 805.08] loss=2.55 avg=2.76\n",
            "======== SAMPLE 1 ========\n",
            ", he said, \"Well, Harry, I didn't do anything wrong.\"\n",
            "\n",
            "Harry's smile faded. Now that he was sure what he was going to tell Professor Trelawney was true, he felt a burning desire to make a different sort of discovery. He reached across his desk and seized Hermione by the shoulders, picked her up. As Ron said so well, Hermione was full of admiration for what Harry was already doing.\n",
            "\n",
            "\"I have not noticed you have done any of the things you ought to have done,\" said Hermione, with a hint of self-assurance, as she reached inside her robes and pulled out a large quill and parchment. \"It was very touching, even though it came out empty, although I must have looked after myself. . . You and\n",
            "\n",
            "you-have been in contact ever since, and I am hopeful that you will find harmony between the two of you. . . .\"\n",
            "\n",
            "\"And that is your promise,\" snapped Ron shortly after. After a while, he explained, Hermione had realized who he was and he explained how he had never told the truth about being alive in the first place.\n",
            "\n",
            "\"We have been together for a long time and have had some good experiences,\" Ron went on.\n",
            "\n",
            "\"And I have found some difference in a couple of things. . . .\" said Hermione, looking incredulously at him. \"But we have not been together in the slightest with those two. . . .\"\n",
            "\n",
            "She gave Ron a look of great interest.\n",
            "\n",
            "\"Harry,\" she whispered, \"I have just told you that I am prepared to tell you everything I am learning, I just haven't been practicing it yet.\"\n",
            "\n",
            "She seemed to get to her feet, her eyes on Ron from the window of the Ministry of Magic office, a look of utter contempt on her face, and then, at the same moment, she spoke to Ron.\n",
            "\n",
            "\"I can't tell you what I've seen ­ er ­ I'll say that again: Your mum kept us together, did she? So far as we know, we have not been able to see each other, and you know what? I told her we haven't been apart. And you know what? I'm afraid I've forgotten that one, Ron!\"\n",
            "\n",
            "She looked around at Harry, who had turned away, and seemed to feel relieved.\n",
            "\n",
            "\"I was wondering whether Madam Pomfrey would be able to help, had she been in here?\" she said matter­of­factly, as she took out a small flask of witch potion and examined it closely.\n",
            "\n",
            "\"Yeah,\" said Harry, \"yeah, I think she might be able to ­\"\n",
            "\n",
            "\"You've got to be joking,\" said Hermione, raising an eyebrow.\n",
            "\n",
            "\"What d'you mean?\" Ron said, clearly startled.\n",
            "\n",
            "\"I told you, she's never been able to help you. . . .\"\n",
            "\n",
            "As she looked round at Ron, who was speaking with the same tone of polite approval in which her father had once spoken, Harry found the tension palpable.\n",
            "\n",
            "\"What?\" she choked at her sister's abrupt departure.\n",
            "\n",
            "\"Just trying to get this out of the way,\" Hermione moaned, watching Ron's lips closely.\n",
            "\n",
            "\"You know, he was a nice, kind person too,\" said Ron grimly. \"He said he'd only come to see you to do homework; but if she said he was leaving, it wouldn't have been a surprise if he ended up back there.\"\n",
            "\n",
            "She looked suddenly apologetic.\n",
            "\n",
            "\"But it's him . . . it's him!\" Ron said shrilly, but Hermione quickly lowered her voice and said, \"You'll meet him at Hogwarts?\"\n",
            "\n",
            "She pulled out her wand. Riddle had a look of mingled horror and interest on his face.\n",
            "\n",
            "\"Harry, look at that!\" Hermione called as they walked toward Snape's office. \"He's never told you anything, never explained it all to me!\"\n",
            "\n",
            "Snape, whom Harry recognized from watching him, was looking around to see what had happened. It was so clear now that Snape was no longer the only one in the castle looking around for clues. Now a little way from Snape's office, however, it did not appear as though there were any more questions left the office. They could still hear Snape's footsteps.\n",
            "\n",
            "\"Now, will you come for me as soon as I can?\"\n",
            "\n",
            "\"Of course.\"\n",
            "\n",
            "\"It's okay,\" snarled Snape. \"I still want to hear everything. . . . I need your autograph. . .\"\n",
            "\n",
            "They had to run their hands over each other's shoulders for a glimpse of Snape's face; there was no need to touch or make contact like that. After a moment, Snape had pulled a great, wide, stubby hair out of his greasy coat and pulled it forward into a neat\n",
            "\n",
            "[700 | 939.08] loss=2.41 avg=2.71\n",
            "======== SAMPLE 1 ========\n",
            " tender\" said Harry. \"I know he thinks he'll be able to come, but he doesn't dare let my family\n",
            "meet him in person.\"\n",
            "\"But who can come?\" said Ron. \"They're not allowed to come from the school, for\n",
            "anything.\"\n",
            "\"Come, I'm a year old,\" said Harry. \"What's the difference\n",
            "between the Three Broomsticks on Halloween?\"\n",
            "\"I think there's a difference between a broomstick and a broomstick table,\n",
            "because they're broomsticks, for safety reasons. The idea is that the\n",
            "weapon stops you from touching the broomstick when you're on it. However,\n",
            "if someone is making a real broomstick, the weapon will catch anyone who tries\n",
            "to touch it, because the receiver would be forced close to its handle. So if someone's\n",
            "playing a real broomstick and it catches someone, they're dangerous, so the weapon\n",
            "won't stop you from touching it.\n",
            "\"I'm not trying to pretend there aren't practical ways of catching the\n",
            "weapon,\" said Ron in disgust. \"There are a number out there that could hold the\n",
            "weapon; and there might even be some extra protection that the weapon gives you\n",
            "in case of a real crash. It's just a joke, people. I've had very little use for the\n",
            "weapon lately, and I've never felt less lucky.\"\n",
            "Harry picked a tablecloth to roll up and laid it on it on the table.\n",
            "\"I've decided I'm going to make a real broomstick,\" he said. \"You get the\n",
            "feel for it in seconds. I just went to the Slytherin Quidditch\n",
            "table, and I heard Professor McGonagall say she was going to have an argument with\n",
            "Harry. He'll need to know where all the Slytherins are, and that won't make\n",
            "nothing easier.\"\n",
            "And he began to play the game as he was pleased to be playing, Ron\n",
            "continuing to point out the different ways of winning ballgames, as though\n",
            "Grimmstooth were not capable of learning how to play the game of\n",
            "Squash.\n",
            "\"I haven't made anything up yet,\" Harry told Ron. \"If I can --\"\n",
            "\"You're playing to win!\" said Ron. \"You're just trying to impress\n",
            "your friends.\"\n",
            "\"It's not me who's trying to win, it's your friend Tom Riddle's\n",
            "brother, though\" Harry panted. \"If you hadn't gone back and\n",
            "made a fool of yourself, he'd've died. He didn't like magic, and now he wants to\n",
            "be your friend. And I bet he would've been angry if he'd found out all\n",
            "your stuff.\"\n",
            "\"I know, but I just don't understand. You can't make a serious\n",
            "argument without thinking about the rules, and he's still trying to\n",
            "make them easier. And you know what? I've got enough to do in the house,\n",
            "and I'll be taking classes on those!\"\n",
            "When they had set aside the tablecloth and the tablecloth, Ron had\n",
            "called as many people who hadn't been listening that evening,\n",
            "\"Professor McGonagall and I've got a problem. Harry: I'm going to tell\n",
            "you all right now.\"\n",
            "Ron, who was still listening, said quietly, \"I'll get you into my office and\n",
            "make sure you know where to find my books and whatnot. I'll go upstairs,\n",
            "and I'll go and get your hands on your first OWL.\"\n",
            "He pointed over their heads at Peeves.\n",
            "\"And then,\" said Ron, who was still very interested in Peeves, \"you can\n",
            "be at the Quidditch World Cup tomorrow, remember?\"\n",
            "\"Yeah, but I don't think I'm allowed to give away all my stuff unless I am\n",
            "allowed to talk to it, right?\"\n",
            "\"You see, when we were playing against Hogsmeade, it was the first game\n",
            "when I was out,\" said Harry, his voice shaking, but still\n",
            "expecting a quick reply.\n",
            "\"I don't see why you must be in Ravenclaw,\" said Ron, his voice\n",
            "hoarse.\n",
            "\"But that was the first game of my new term. That was the first\n",
            "of a four-year term that I was banned from giving out my stuff.\"\n",
            "\"Don't you dare,\" said Ron, now looking angry. \"I'll\n",
            "give you out of hand!\"\n",
            "\"Don't call me a hag,\" said Harry. \"I don't care, because you didn't make\n",
            "it fun, you did.\"\n",
            "\"We'll be there in fifteen seconds,\" said Ron. \"What are you\n",
            "wanting us for?\"\n",
            "There was a pause.\n",
            "\"What's a hag doing at Hogwarts?\" said Ron.\n",
            "\"He's getting in trouble,\" Harry reminded him. \"You\n",
            "\n",
            "[800 | 1072.93] loss=2.66 avg=2.70\n",
            "======== SAMPLE 1 ========\n",
            "'ll be allowed to stay.\"\n",
            "\"You're up for it,\" said Ron.\n",
            "\"Come on, Hermione,\" Harry said, \"come back when you're ready. Now, you can go up there and watch. I've been sneaking around the campsite on the night before, but this is a different kind of noise, and a better one, anyway.\"\n",
            "\"I know what you're like,\" said Hermione. \"How are the tents?\"\n",
            "\"Well, the smallest is the tents with beds,\" said Harry. \"And the bigger the tent it is, you know.\"\n",
            "\"I haven't been sleeping on my own in ages,\" said George, \"but I dawdle about -- oh, all right, you know, I'll be staying all night.\"\n",
            "\"Yeah,\" said Hermione, \"that's great. You know.\" \"Don't you think you'll go down to bed?\"\n",
            "\"Not if I wait too long, won't I?\" said Harry nervously.\n",
            "\"Yeah, they don't want to spoil it,\" said Hermione patiently, \"but then, when we're all\n",
            "here, it'll probably be even more fun than just playing Quidditch. Now you'll want to\n",
            "let me know what the conditions are. You don't want anything fancy or creepy or anything of that\n",
            "fury.\"\n",
            "\"Right,\" said Harry assuredly, \"go on.\" Harry walked on. \"So we're going up\n",
            "a hill, and then I'm going up a hill,\" he said.\n",
            "\"Yeah, well, no seriously, not if the weather's bad. Go on,\" Hermione advised them.\n",
            "Harry had a feeling this was going to be one of the hardest, hardest practices they had all\n",
            "the night. He wanted to take a deep breath, pull off his quavery gloves, and get ready to\n",
            "get into the campsite. He did it, even though most of the people were now whispering excitedly about\n",
            "what they'd been doing all summer.\n",
            "He pulled off his wands. Ron and Hermione were still whispering excitedly. He\n",
            "felt the end of his wand and the end of his wand. He felt them travel up the side of\n",
            "the tent through the mist toward the tents outside. Hermione whispered, \"How the boys are looking after all the others, Harry, and they're right behind --\"\n",
            "Ron was staring at her, his expression widening with the realization that she had just been having a tantrum.\n",
            "\"Hurry up, Harry!\" Hermione whispered. \"I've got a detention, Harry, don't go! You're going too far!\"\n",
            "But not until Harry had pushed the question to her that they had been so scared\n",
            "and he had given up. He pushed on even more.\n",
            "\"Listen -- no way, he's not coming up here. He's in -- in the campsite!\"\n",
            "\"A little ahead, Harry,\" she called after him as the tent drew\n",
            "even more trees. \"Now, we can go outside and enjoy it a bit. I\n",
            "want to see how many people have left.\"\n",
            "Ron and Hermione followed her.\n",
            "\"But --\" Harry began, trying to remember what he was supposed to\n",
            "do if he didn't do it. \"I want to get out of here.\"\n",
            "\"Right. Yeah, there's about fifteen that we can get out of here,\" she said,\n",
            "tucking the rest of her handkerchiefs into her pocket. \"And the\n",
            "last one!\"\n",
            "The tent had only just started to dry. Every person in it was still\n",
            "shooting and waving their hands, as though they wanted to catch an extra\n",
            "hundred or so owls. Harry was determined to get as much out of the\n",
            "interval as he could, but it was harder than he'd imagined. He bent\n",
            "tight against the wall, his legs shaking with the effort, trying to\n",
            "cover his body from the wind and rain, trying to stand still - \"You should have run\n",
            "a mile a minute!\"\n",
            "\"Yeah,\" said Ron, trying to sound as stupid in their faces as he could be.\n",
            "\"But the wind's coming through our hair now -\"\n",
            "\"What?\" said Mrs. Weasley.\n",
            "\"No, they're not leaving us,\" said Mrs. Weasley, looking terrified. \"They're... well, let's get\n",
            "out of here. I've got a few ideas, Harry, I want you to try them - \"\n",
            "He reached the door and closed it before he could say the first word out of Hermione's\n",
            "voice, and she was right in front of him; he'd had enough.\n",
            "\"What was in the tent?\" \"No idea. But, as Hermione's\n",
            "own hands were bound, we'd need a bit of help. Someone would\n",
            "have to keep us company. Come on, come on, Harry,\" said Mrs. Weasley, looking very anxious. \"Now,\n",
            "here\n",
            "Harry pulled his wand out\n",
            "\n",
            "[900 | 1206.70] loss=2.57 avg=2.69\n",
            "======== SAMPLE 1 ========\n",
            "vers. \n",
            "\n",
            "\"Good morning,\" said Malfoy, and Snape and Malfoy had both taken their hands and loosened the knot in his trunk. As Harry pushed the bag of leaves from inside it, the leaves fell gracefully onto the topmost branches for many seconds; the branches broke at last, and Harry and Snape stood up on their own; after a minute or so, their hands met again and they both climbed over to the roots. In the meantime, the leaves fell neatly onto two small tables. Harry pulled the leaves from the roots and said, \"There we go, they're very brittle, it ought to knock out the leaves a bit.\" \n",
            "\n",
            "\"What now?\" said Ron, who had been tending his garden for a few minutes. \n",
            "\n",
            "Hermione had emerged from her garden to find Snape and Malfoy in the clearing where a pool of green light was making the softening of some bushes. \n",
            "\n",
            "Harry, who had no idea where he had found them, peered out of the tree. At the same moment, Ron's legs got very tired; they had only had hours to live. \n",
            "\n",
            "Harry climbed into bed. It was just past dawn. \n",
            "\n",
            "* 88* \n",
            "\n",
            "And he was not alone, as he saw them dittany the pool. He walked up to the pool, put on his robe and cloak, and slid into bed. \n",
            "\n",
            "CHAPTER TWELVE \n",
            "\n",
            "UNCLEBERN KNOWS IT ALL \n",
            "\n",
            "It began at dawn. Ron had gone to bed. They were tired. His first day in the house was not going to be very enjoyable. Harry was supposed to sleep in the armchair by the fire in the common room. They had been having trouble with Hagrid, who was the usual annoyance of the house. \n",
            "\n",
            "Harry was supposed to be sitting on top of a tree by the pool. He was supposed to have heard the sound of things moving from one another's chairs. But even as they were trying to get the window open and look out for themselves, something else suddenly went horribly wrong. \n",
            "\n",
            "A loud noise was coming from the next room. \n",
            "\n",
            "Harry was trying not to think. He was supposed to be sitting on top of a tree with a flashlight between his eyes. This was not normal bedtime behavior. \n",
            "\n",
            "\"What's that?\" Harry asked as he poked his head around. \n",
            "\n",
            "\"There was an explosion,\" said a voice, \"and I thought someone had just been hit by lightning. My parents were on their way there, I couldn't see -- ?\" \n",
            "\n",
            "They heard a thud and then a loud crash from the next room and Ron, who was waiting with his hands raised, said something very small and frightening. \n",
            "\n",
            "\"I told you! That's -- that -- that's really loud!\" whispered Fred, looking shaken. \n",
            "\n",
            "\"He's the Horcrux,\" said Hermione quickly. \n",
            "\n",
            "\"Yeah? . .\" Ron said. \n",
            "\n",
            "Ron tried a funny trick. He sat down next to a very small black flower and leaned in a very close and painful way. \n",
            "\n",
            "\"Can't see him! What's going on?\" Ron tried to argue. \n",
            "\n",
            "Ron's head seemed to explode. \n",
            "\n",
            "\"Harry, what're you doin' to get down there?\" he shouted. \"You two go with him! He's the Horcrux! Who's it been going on here?\" \n",
            "\n",
            "\"Fascinating,\" said Harry. He tried to make the sounds as normal as possible. \n",
            "\n",
            "\"The Horcrux?\" Harry asked, but there was something wrong. \n",
            "\n",
            "\"The Horcrux! A body inside this thing!\" Ron shouted. \"A body! \n",
            "\n",
            "Hermione grabbed his hand and pulled him away from the flower's trunk. \n",
            "\n",
            "\"He'll be a -- a bit -- killed -- if you're lucky, but that's not my problem --\" \n",
            "\n",
            "\"What is it?\" asked Ron. \"I don't know... \n",
            "\n",
            "-- with that thing inside him, I should be a -- a -- human --\" \n",
            "\n",
            "\"We can let it have him,\" said Hermione, tears now trickling down her face, as Harry tried to ignore Ron's own words. \"Let it have him. Let him have the Horcrux.\" \n",
            "\n",
            "It did not work. \n",
            "\n",
            "\"I want the Horcrux!\" said Ron, looking horrified. \n",
            "\n",
            "\"Oh I'm not talking,\" said Harry. \"That's not -- that's -- not okay...\" \n",
            "\n",
            "\"A human? We can bring one back to you -- let's say you're killed -- we can get out of here --\" \n",
            "\n",
            "\"Don't worry,\" Hermione said. \"I'll go and check.\" \n",
            "\n",
            "\"It's no use,\" said Ron. \"We went\n",
            "\n",
            "interrupted\n",
            "Saving checkpoint/run1_hp/model-918\n",
            "WARNING:tensorflow:From /tensorflow-1.15.2/python3.6/tensorflow_core/python/training/saver.py:963: remove_checkpoint (from tensorflow.python.training.checkpoint_management) is deprecated and will be removed in a future version.\n",
            "Instructions for updating:\n",
            "Use standard file APIs to delete files with this prefix.\n"
          ],
          "name": "stdout"
        }
      ]
    },
    {
      "cell_type": "markdown",
      "metadata": {
        "id": "IXSuTNERaw6K"
      },
      "source": [
        "After the model is trained, you can copy the checkpoint folder to your own Google Drive.\n",
        "\n",
        "If you want to download it to your personal computer, it's strongly recommended you copy it there first, then download from Google Drive. The checkpoint folder is copied as a `.rar` compressed file; you can download it and uncompress it locally."
      ]
    },
    {
      "cell_type": "code",
      "metadata": {
        "id": "VHdTL8NDbAh3",
        "colab": {
          "base_uri": "https://localhost:8080/",
          "height": 306
        },
        "outputId": "144b503d-3d35-4428-dd58-be8d06dad180"
      },
      "source": [
        "gpt2.copy_checkpoint_to_gdrive(run_name='run1_hp')"
      ],
      "execution_count": 8,
      "outputs": [
        {
          "output_type": "error",
          "ename": "KeyboardInterrupt",
          "evalue": "ignored",
          "traceback": [
            "\u001b[0;31m---------------------------------------------------------------------------\u001b[0m",
            "\u001b[0;31mKeyboardInterrupt\u001b[0m                         Traceback (most recent call last)",
            "\u001b[0;32m<ipython-input-8-5d5952155b96>\u001b[0m in \u001b[0;36m<module>\u001b[0;34m()\u001b[0m\n\u001b[0;32m----> 1\u001b[0;31m \u001b[0mgpt2\u001b[0m\u001b[0;34m.\u001b[0m\u001b[0mcopy_checkpoint_to_gdrive\u001b[0m\u001b[0;34m(\u001b[0m\u001b[0mrun_name\u001b[0m\u001b[0;34m=\u001b[0m\u001b[0;34m'run1_hp'\u001b[0m\u001b[0;34m)\u001b[0m\u001b[0;34m\u001b[0m\u001b[0;34m\u001b[0m\u001b[0m\n\u001b[0m",
            "\u001b[0;32m/usr/local/lib/python3.6/dist-packages/gpt_2_simple/gpt_2.py\u001b[0m in \u001b[0;36mcopy_checkpoint_to_gdrive\u001b[0;34m(run_name, copy_folder)\u001b[0m\n\u001b[1;32m    578\u001b[0m         \u001b[0;31m# Reference: https://stackoverflow.com/a/17081026\u001b[0m\u001b[0;34m\u001b[0m\u001b[0;34m\u001b[0m\u001b[0;34m\u001b[0m\u001b[0m\n\u001b[1;32m    579\u001b[0m         \u001b[0;32mwith\u001b[0m \u001b[0mtarfile\u001b[0m\u001b[0;34m.\u001b[0m\u001b[0mopen\u001b[0m\u001b[0;34m(\u001b[0m\u001b[0mfile_path\u001b[0m\u001b[0;34m,\u001b[0m \u001b[0;34m'w'\u001b[0m\u001b[0;34m)\u001b[0m \u001b[0;32mas\u001b[0m \u001b[0mtar\u001b[0m\u001b[0;34m:\u001b[0m\u001b[0;34m\u001b[0m\u001b[0;34m\u001b[0m\u001b[0m\n\u001b[0;32m--> 580\u001b[0;31m             \u001b[0mtar\u001b[0m\u001b[0;34m.\u001b[0m\u001b[0madd\u001b[0m\u001b[0;34m(\u001b[0m\u001b[0mcheckpoint_folder\u001b[0m\u001b[0;34m)\u001b[0m\u001b[0;34m\u001b[0m\u001b[0;34m\u001b[0m\u001b[0m\n\u001b[0m\u001b[1;32m    581\u001b[0m \u001b[0;34m\u001b[0m\u001b[0m\n\u001b[1;32m    582\u001b[0m         \u001b[0mshutil\u001b[0m\u001b[0;34m.\u001b[0m\u001b[0mcopyfile\u001b[0m\u001b[0;34m(\u001b[0m\u001b[0mfile_path\u001b[0m\u001b[0;34m,\u001b[0m \u001b[0;34m\"/content/drive/My Drive/\"\u001b[0m \u001b[0;34m+\u001b[0m \u001b[0mfile_path\u001b[0m\u001b[0;34m)\u001b[0m\u001b[0;34m\u001b[0m\u001b[0;34m\u001b[0m\u001b[0m\n",
            "\u001b[0;32m/usr/lib/python3.6/tarfile.py\u001b[0m in \u001b[0;36madd\u001b[0;34m(self, name, arcname, recursive, exclude, filter)\u001b[0m\n\u001b[1;32m   1959\u001b[0m                 \u001b[0;32mfor\u001b[0m \u001b[0mf\u001b[0m \u001b[0;32min\u001b[0m \u001b[0mos\u001b[0m\u001b[0;34m.\u001b[0m\u001b[0mlistdir\u001b[0m\u001b[0;34m(\u001b[0m\u001b[0mname\u001b[0m\u001b[0;34m)\u001b[0m\u001b[0;34m:\u001b[0m\u001b[0;34m\u001b[0m\u001b[0;34m\u001b[0m\u001b[0m\n\u001b[1;32m   1960\u001b[0m                     self.add(os.path.join(name, f), os.path.join(arcname, f),\n\u001b[0;32m-> 1961\u001b[0;31m                             recursive, exclude, filter=filter)\n\u001b[0m\u001b[1;32m   1962\u001b[0m \u001b[0;34m\u001b[0m\u001b[0m\n\u001b[1;32m   1963\u001b[0m         \u001b[0;32melse\u001b[0m\u001b[0;34m:\u001b[0m\u001b[0;34m\u001b[0m\u001b[0;34m\u001b[0m\u001b[0m\n",
            "\u001b[0;32m/usr/lib/python3.6/tarfile.py\u001b[0m in \u001b[0;36madd\u001b[0;34m(self, name, arcname, recursive, exclude, filter)\u001b[0m\n\u001b[1;32m   1952\u001b[0m         \u001b[0;32mif\u001b[0m \u001b[0mtarinfo\u001b[0m\u001b[0;34m.\u001b[0m\u001b[0misreg\u001b[0m\u001b[0;34m(\u001b[0m\u001b[0;34m)\u001b[0m\u001b[0;34m:\u001b[0m\u001b[0;34m\u001b[0m\u001b[0;34m\u001b[0m\u001b[0m\n\u001b[1;32m   1953\u001b[0m             \u001b[0;32mwith\u001b[0m \u001b[0mbltn_open\u001b[0m\u001b[0;34m(\u001b[0m\u001b[0mname\u001b[0m\u001b[0;34m,\u001b[0m \u001b[0;34m\"rb\"\u001b[0m\u001b[0;34m)\u001b[0m \u001b[0;32mas\u001b[0m \u001b[0mf\u001b[0m\u001b[0;34m:\u001b[0m\u001b[0;34m\u001b[0m\u001b[0;34m\u001b[0m\u001b[0m\n\u001b[0;32m-> 1954\u001b[0;31m                 \u001b[0mself\u001b[0m\u001b[0;34m.\u001b[0m\u001b[0maddfile\u001b[0m\u001b[0;34m(\u001b[0m\u001b[0mtarinfo\u001b[0m\u001b[0;34m,\u001b[0m \u001b[0mf\u001b[0m\u001b[0;34m)\u001b[0m\u001b[0;34m\u001b[0m\u001b[0;34m\u001b[0m\u001b[0m\n\u001b[0m\u001b[1;32m   1955\u001b[0m \u001b[0;34m\u001b[0m\u001b[0m\n\u001b[1;32m   1956\u001b[0m         \u001b[0;32melif\u001b[0m \u001b[0mtarinfo\u001b[0m\u001b[0;34m.\u001b[0m\u001b[0misdir\u001b[0m\u001b[0;34m(\u001b[0m\u001b[0;34m)\u001b[0m\u001b[0;34m:\u001b[0m\u001b[0;34m\u001b[0m\u001b[0;34m\u001b[0m\u001b[0m\n",
            "\u001b[0;32m/usr/lib/python3.6/tarfile.py\u001b[0m in \u001b[0;36maddfile\u001b[0;34m(self, tarinfo, fileobj)\u001b[0m\n\u001b[1;32m   1980\u001b[0m         \u001b[0;31m# If there's data to follow, append it.\u001b[0m\u001b[0;34m\u001b[0m\u001b[0;34m\u001b[0m\u001b[0;34m\u001b[0m\u001b[0m\n\u001b[1;32m   1981\u001b[0m         \u001b[0;32mif\u001b[0m \u001b[0mfileobj\u001b[0m \u001b[0;32mis\u001b[0m \u001b[0;32mnot\u001b[0m \u001b[0;32mNone\u001b[0m\u001b[0;34m:\u001b[0m\u001b[0;34m\u001b[0m\u001b[0;34m\u001b[0m\u001b[0m\n\u001b[0;32m-> 1982\u001b[0;31m             \u001b[0mcopyfileobj\u001b[0m\u001b[0;34m(\u001b[0m\u001b[0mfileobj\u001b[0m\u001b[0;34m,\u001b[0m \u001b[0mself\u001b[0m\u001b[0;34m.\u001b[0m\u001b[0mfileobj\u001b[0m\u001b[0;34m,\u001b[0m \u001b[0mtarinfo\u001b[0m\u001b[0;34m.\u001b[0m\u001b[0msize\u001b[0m\u001b[0;34m,\u001b[0m \u001b[0mbufsize\u001b[0m\u001b[0;34m=\u001b[0m\u001b[0mbufsize\u001b[0m\u001b[0;34m)\u001b[0m\u001b[0;34m\u001b[0m\u001b[0;34m\u001b[0m\u001b[0m\n\u001b[0m\u001b[1;32m   1983\u001b[0m             \u001b[0mblocks\u001b[0m\u001b[0;34m,\u001b[0m \u001b[0mremainder\u001b[0m \u001b[0;34m=\u001b[0m \u001b[0mdivmod\u001b[0m\u001b[0;34m(\u001b[0m\u001b[0mtarinfo\u001b[0m\u001b[0;34m.\u001b[0m\u001b[0msize\u001b[0m\u001b[0;34m,\u001b[0m \u001b[0mBLOCKSIZE\u001b[0m\u001b[0;34m)\u001b[0m\u001b[0;34m\u001b[0m\u001b[0;34m\u001b[0m\u001b[0m\n\u001b[1;32m   1984\u001b[0m             \u001b[0;32mif\u001b[0m \u001b[0mremainder\u001b[0m \u001b[0;34m>\u001b[0m \u001b[0;36m0\u001b[0m\u001b[0;34m:\u001b[0m\u001b[0;34m\u001b[0m\u001b[0;34m\u001b[0m\u001b[0m\n",
            "\u001b[0;32m/usr/lib/python3.6/tarfile.py\u001b[0m in \u001b[0;36mcopyfileobj\u001b[0;34m(src, dst, length, exception, bufsize)\u001b[0m\n\u001b[1;32m    250\u001b[0m         \u001b[0;32mif\u001b[0m \u001b[0mlen\u001b[0m\u001b[0;34m(\u001b[0m\u001b[0mbuf\u001b[0m\u001b[0;34m)\u001b[0m \u001b[0;34m<\u001b[0m \u001b[0mbufsize\u001b[0m\u001b[0;34m:\u001b[0m\u001b[0;34m\u001b[0m\u001b[0;34m\u001b[0m\u001b[0m\n\u001b[1;32m    251\u001b[0m             \u001b[0;32mraise\u001b[0m \u001b[0mexception\u001b[0m\u001b[0;34m(\u001b[0m\u001b[0;34m\"unexpected end of data\"\u001b[0m\u001b[0;34m)\u001b[0m\u001b[0;34m\u001b[0m\u001b[0;34m\u001b[0m\u001b[0m\n\u001b[0;32m--> 252\u001b[0;31m         \u001b[0mdst\u001b[0m\u001b[0;34m.\u001b[0m\u001b[0mwrite\u001b[0m\u001b[0;34m(\u001b[0m\u001b[0mbuf\u001b[0m\u001b[0;34m)\u001b[0m\u001b[0;34m\u001b[0m\u001b[0;34m\u001b[0m\u001b[0m\n\u001b[0m\u001b[1;32m    253\u001b[0m \u001b[0;34m\u001b[0m\u001b[0m\n\u001b[1;32m    254\u001b[0m     \u001b[0;32mif\u001b[0m \u001b[0mremainder\u001b[0m \u001b[0;34m!=\u001b[0m \u001b[0;36m0\u001b[0m\u001b[0;34m:\u001b[0m\u001b[0;34m\u001b[0m\u001b[0;34m\u001b[0m\u001b[0m\n",
            "\u001b[0;31mKeyboardInterrupt\u001b[0m: "
          ]
        }
      ]
    },
    {
      "cell_type": "markdown",
      "metadata": {
        "id": "qQJgV_b4bmzd"
      },
      "source": [
        "You're done! Feel free to go to the **Generate Text From The Trained Model** section to generate text based on your retrained model."
      ]
    },
    {
      "cell_type": "markdown",
      "metadata": {
        "id": "pel-uBULXO2L"
      },
      "source": [
        "## Load a Trained Model Checkpoint\n",
        "\n",
        "Running the next cell will copy the `.rar` checkpoint file from your Google Drive into the Colaboratory VM."
      ]
    },
    {
      "cell_type": "code",
      "metadata": {
        "id": "DCcx5u7sbPTD"
      },
      "source": [
        "#gpt2.copy_checkpoint_from_gdrive(run_name='run1')"
      ],
      "execution_count": null,
      "outputs": []
    },
    {
      "cell_type": "markdown",
      "metadata": {
        "id": "RTa6zf3e_9gV"
      },
      "source": [
        "The next cell will allow you to load the retrained model checkpoint + metadata necessary to generate text.\n",
        "\n",
        "**IMPORTANT NOTE:** If you want to rerun this cell, **restart the VM first** (Runtime -> Restart Runtime). You will need to rerun imports but not recopy files."
      ]
    },
    {
      "cell_type": "code",
      "metadata": {
        "id": "-fxL77nvAMAX"
      },
      "source": [
        "#sess = gpt2.start_tf_sess()\n",
        "#gpt2.load_gpt2(sess, run_name='run1')"
      ],
      "execution_count": null,
      "outputs": []
    },
    {
      "cell_type": "markdown",
      "metadata": {
        "id": "ClJwpF_ACONp"
      },
      "source": [
        "## Generate Text From The Trained Model\n",
        "\n",
        "After you've trained the model or loaded a retrained model from checkpoint, you can now generate text. `generate` generates a single text from the loaded model."
      ]
    },
    {
      "cell_type": "code",
      "metadata": {
        "id": "4RNY6RBI9LmL"
      },
      "source": [
        "#gpt2.generate(sess, run_name='run1')"
      ],
      "execution_count": null,
      "outputs": []
    },
    {
      "cell_type": "markdown",
      "metadata": {
        "id": "oF4-PqF0Fl7R"
      },
      "source": [
        "If you're creating an API based on your model and need to pass the generated text elsewhere, you can do `text = gpt2.generate(sess, return_as_list=True)[0]`\n",
        "\n",
        "You can also pass in a `prefix` to the generate function to force the text to start with a given character sequence and generate text from there (good if you add an indicator when the text starts).\n",
        "\n",
        "You can also generate multiple texts at a time by specifing `nsamples`. Unique to GPT-2, you can pass a `batch_size` to generate multiple samples in parallel, giving a massive speedup (in Colaboratory, set a maximum of 20 for `batch_size`).\n",
        "\n",
        "Other optional-but-helpful parameters for `gpt2.generate` and friends:\n",
        "\n",
        "*  **`length`**: Number of tokens to generate (default 1023, the maximum)\n",
        "* **`temperature`**: The higher the temperature, the crazier the text (default 0.7, recommended to keep between 0.7 and 1.0)\n",
        "* **`top_k`**: Limits the generated guesses to the top *k* guesses (default 0 which disables the behavior; if the generated output is super crazy, you may want to set `top_k=40`)\n",
        "* **`top_p`**: Nucleus sampling: limits the generated guesses to a cumulative probability. (gets good results on a dataset with `top_p=0.9`)\n",
        "* **`truncate`**: Truncates the input text until a given sequence, excluding that sequence (e.g. if `truncate='<|endoftext|>'`, the returned text will include everything before the first `<|endoftext|>`). It may be useful to combine this with a smaller `length` if the input texts are short.\n",
        "*  **`include_prefix`**: If using `truncate` and `include_prefix=False`, the specified `prefix` will not be included in the returned text."
      ]
    },
    {
      "cell_type": "code",
      "metadata": {
        "id": "8DKMc0fiej4N"
      },
      "source": [
        "# open prompts file\n",
        "prompts = open('drive/My Drive/TxMM/hp_prompts.txt', 'r').readlines()\n",
        "generated_dict = {}\n",
        "\n",
        "for i, p in tqdm(enumerate(prompts)):\n",
        "  # generate 1000 characters\n",
        "  gen_text = gpt2.generate(sess, \n",
        "                     run_name='run1_hp',\n",
        "                     length=1000,\n",
        "                     temperature=0.7,\n",
        "                     prefix=p,\n",
        "                     return_as_list=True)[0]\n",
        "\n",
        "  generated_dict[i] = gen_text\n",
        "\n",
        "with open('drive/My Drive/TxMM/GPT-2_results/hp_generated_texts.json', 'w') as fp:\n",
        "  json.dump(generated_dict, fp)"
      ],
      "execution_count": null,
      "outputs": []
    },
    {
      "cell_type": "code",
      "metadata": {
        "id": "0-LRex8lfv1g"
      },
      "source": [
        ""
      ],
      "execution_count": null,
      "outputs": []
    }
  ]
}