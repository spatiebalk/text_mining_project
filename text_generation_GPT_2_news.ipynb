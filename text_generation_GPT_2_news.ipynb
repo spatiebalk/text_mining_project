{
  "nbformat": 4,
  "nbformat_minor": 0,
  "metadata": {
    "colab": {
      "name": "text_generation_GPT-2_news.ipynb",
      "provenance": [],
      "collapsed_sections": [],
      "toc_visible": true,
      "include_colab_link": true
    },
    "kernelspec": {
      "name": "python3",
      "display_name": "Python 3"
    },
    "accelerator": "GPU"
  },
  "cells": [
    {
      "cell_type": "markdown",
      "metadata": {
        "id": "view-in-github",
        "colab_type": "text"
      },
      "source": [
        "<a href=\"https://colab.research.google.com/github/spatiebalk/text_mining_project/blob/master/text_generation_GPT_2_news.ipynb\" target=\"_parent\"><img src=\"https://colab.research.google.com/assets/colab-badge.svg\" alt=\"Open In Colab\"/></a>"
      ]
    },
    {
      "cell_type": "markdown",
      "metadata": {
        "id": "H7LoMj4GA4n_"
      },
      "source": [
        "#  Train a GPT-2 Text-Generating Model w/ GPU For Free \n",
        "\n",
        "by [Max Woolf](http://minimaxir.com)\n",
        "\n",
        "*Last updated: November 10th, 2019*\n",
        "\n",
        "Retrain an advanced text generating neural network on any text dataset **for free on a GPU using Collaboratory** using `gpt-2-simple`!\n",
        "\n",
        "For more about `gpt-2-simple`, you can visit [this GitHub repository](https://github.com/minimaxir/gpt-2-simple). You can also read my [blog post](https://minimaxir.com/2019/09/howto-gpt2/) for more information how to use this notebook!\n",
        "\n",
        "\n",
        "To get started:\n",
        "\n",
        "1. Copy this notebook to your Google Drive to keep it and save your changes. (File -> Save a Copy in Drive)\n",
        "2. Make sure you're running the notebook in Google Chrome.\n",
        "3. Run the cells below:\n"
      ]
    },
    {
      "cell_type": "code",
      "metadata": {
        "id": "KBkpRgBCBS2_",
        "colab": {
          "base_uri": "https://localhost:8080/"
        },
        "outputId": "607e4f06-821e-4c71-a789-fa52f93561cd"
      },
      "source": [
        "%tensorflow_version 1.x\n",
        "!pip install -q gpt-2-simple\n",
        "import gpt_2_simple as gpt2\n",
        "from datetime import datetime\n",
        "from google.colab import files\n",
        "from tqdm import tqdm"
      ],
      "execution_count": 1,
      "outputs": [
        {
          "output_type": "stream",
          "text": [
            "TensorFlow 1.x selected.\n",
            "  Building wheel for gpt-2-simple (setup.py) ... \u001b[?25l\u001b[?25hdone\n",
            "WARNING:tensorflow:\n",
            "The TensorFlow contrib module will not be included in TensorFlow 2.0.\n",
            "For more information, please see:\n",
            "  * https://github.com/tensorflow/community/blob/master/rfcs/20180907-contrib-sunset.md\n",
            "  * https://github.com/tensorflow/addons\n",
            "  * https://github.com/tensorflow/io (for I/O related ops)\n",
            "If you depend on functionality not listed there, please file an issue.\n",
            "\n"
          ],
          "name": "stdout"
        }
      ]
    },
    {
      "cell_type": "markdown",
      "metadata": {
        "id": "Bj2IJLHP3KwE"
      },
      "source": [
        "## GPU\n",
        "\n",
        "Colaboratory uses either a Nvidia T4 GPU or an Nvidia K80 GPU. The T4 is slightly faster than the old K80 for training GPT-2, and has more memory allowing you to train the larger GPT-2 models and generate more text.\n",
        "\n",
        "You can verify which GPU is active by running the cell below."
      ]
    },
    {
      "cell_type": "code",
      "metadata": {
        "id": "sUmTooTW3osf",
        "colab": {
          "base_uri": "https://localhost:8080/"
        },
        "outputId": "65515475-694e-4191-c354-580fcd732eeb"
      },
      "source": [
        "!nvidia-smi"
      ],
      "execution_count": 2,
      "outputs": [
        {
          "output_type": "stream",
          "text": [
            "Wed Jan  6 09:15:03 2021       \n",
            "+-----------------------------------------------------------------------------+\n",
            "| NVIDIA-SMI 460.27.04    Driver Version: 418.67       CUDA Version: 10.1     |\n",
            "|-------------------------------+----------------------+----------------------+\n",
            "| GPU  Name        Persistence-M| Bus-Id        Disp.A | Volatile Uncorr. ECC |\n",
            "| Fan  Temp  Perf  Pwr:Usage/Cap|         Memory-Usage | GPU-Util  Compute M. |\n",
            "|                               |                      |               MIG M. |\n",
            "|===============================+======================+======================|\n",
            "|   0  Tesla T4            Off  | 00000000:00:04.0 Off |                    0 |\n",
            "| N/A   36C    P8     9W /  70W |      0MiB / 15079MiB |      0%      Default |\n",
            "|                               |                      |                 ERR! |\n",
            "+-------------------------------+----------------------+----------------------+\n",
            "                                                                               \n",
            "+-----------------------------------------------------------------------------+\n",
            "| Processes:                                                                  |\n",
            "|  GPU   GI   CI        PID   Type   Process name                  GPU Memory |\n",
            "|        ID   ID                                                   Usage      |\n",
            "|=============================================================================|\n",
            "|  No running processes found                                                 |\n",
            "+-----------------------------------------------------------------------------+\n"
          ],
          "name": "stdout"
        }
      ]
    },
    {
      "cell_type": "markdown",
      "metadata": {
        "id": "0wXB05bPDYxS"
      },
      "source": [
        "## Downloading GPT-2\n",
        "\n",
        "If you're retraining a model on new text, you need to download the GPT-2 model first. \n",
        "\n",
        "There are three released sizes of GPT-2:\n",
        "\n",
        "* `124M` (default): the \"small\" model, 500MB on disk.\n",
        "* `355M`: the \"medium\" model, 1.5GB on disk.\n",
        "* `774M`: the \"large\" model, cannot currently be finetuned with Colaboratory but can be used to generate text from the pretrained model (see later in Notebook)\n",
        "* `1558M`: the \"extra large\", true model. Will not work if a K80 GPU is attached to the notebook. (like `774M`, it cannot be finetuned).\n",
        "\n",
        "Larger models have more knowledge, but take longer to finetune and longer to generate text. You can specify which base model to use by changing `model_name` in the cells below.\n",
        "\n",
        "The next cell downloads it from Google Cloud Storage and saves it in the Colaboratory VM at `/models/<model_name>`.\n",
        "\n",
        "This model isn't permanently saved in the Colaboratory VM; you'll have to redownload it if you want to retrain it at a later time."
      ]
    },
    {
      "cell_type": "code",
      "metadata": {
        "id": "P8wSlgXoDPCR",
        "colab": {
          "base_uri": "https://localhost:8080/"
        },
        "outputId": "fde9a12b-db89-4e08-a3f5-118bf6de76b2"
      },
      "source": [
        "gpt2.download_gpt2(model_name=\"124M\")"
      ],
      "execution_count": 3,
      "outputs": [
        {
          "output_type": "stream",
          "text": [
            "Fetching checkpoint: 1.05Mit [00:00, 331Mit/s]                                                      \n",
            "Fetching encoder.json: 1.05Mit [00:00, 88.2Mit/s]                                                   \n",
            "Fetching hparams.json: 1.05Mit [00:00, 895Mit/s]                                                    \n",
            "Fetching model.ckpt.data-00000-of-00001: 498Mit [00:03, 165Mit/s]                                   \n",
            "Fetching model.ckpt.index: 1.05Mit [00:00, 267Mit/s]                                                \n",
            "Fetching model.ckpt.meta: 1.05Mit [00:00, 165Mit/s]                                                 \n",
            "Fetching vocab.bpe: 1.05Mit [00:00, 176Mit/s]                                                       \n"
          ],
          "name": "stderr"
        }
      ]
    },
    {
      "cell_type": "markdown",
      "metadata": {
        "id": "N8KXuKWzQSsN"
      },
      "source": [
        "## Mounting Google Drive\n",
        "\n",
        "The best way to get input text to-be-trained into the Colaboratory VM, and to get the trained model *out* of Colaboratory, is to route it through Google Drive *first*.\n",
        "\n",
        "Running this cell (which will only work in Colaboratory) will mount your personal Google Drive in the VM, which later cells can use to get data in/out. (it will ask for an auth code; that auth is not saved anywhere)"
      ]
    },
    {
      "cell_type": "code",
      "metadata": {
        "id": "puq4iC6vUAHc",
        "colab": {
          "base_uri": "https://localhost:8080/"
        },
        "outputId": "578440aa-6692-4fd2-fe42-74c674bccb1d"
      },
      "source": [
        "gpt2.mount_gdrive()"
      ],
      "execution_count": 4,
      "outputs": [
        {
          "output_type": "stream",
          "text": [
            "Mounted at /content/drive\n"
          ],
          "name": "stdout"
        }
      ]
    },
    {
      "cell_type": "markdown",
      "metadata": {
        "id": "BT__brhBCvJu"
      },
      "source": [
        "## Uploading a Text File to be Trained to Colaboratory\n",
        "\n",
        "In the Colaboratory Notebook sidebar on the left of the screen, select *Files*. From there you can upload files:\n",
        "\n",
        "![alt text](https://i.imgur.com/TGcZT4h.png)\n",
        "\n",
        "Upload **any smaller text file**  (<10 MB) and update the file name in the cell below, then run the cell."
      ]
    },
    {
      "cell_type": "code",
      "metadata": {
        "id": "6OFnPCLADfll"
      },
      "source": [
        "file_name = \"news_data.txt\""
      ],
      "execution_count": 5,
      "outputs": []
    },
    {
      "cell_type": "markdown",
      "metadata": {
        "id": "HeeSKtNWUedE"
      },
      "source": [
        "If your text file is larger than 10MB, it is recommended to upload that file to Google Drive first, then copy that file from Google Drive to the Colaboratory VM."
      ]
    },
    {
      "cell_type": "code",
      "metadata": {
        "id": "-Z6okFD8VKtS"
      },
      "source": [
        "gpt2.copy_file_from_gdrive(file_name)"
      ],
      "execution_count": 6,
      "outputs": []
    },
    {
      "cell_type": "markdown",
      "metadata": {
        "id": "LdpZQXknFNY3"
      },
      "source": [
        "## Finetune GPT-2\n",
        "\n",
        "The next cell will start the actual finetuning of GPT-2. It creates a persistent TensorFlow session which stores the training config, then runs the training for the specified number of `steps`. (to have the finetuning run indefinitely, set `steps = -1`)\n",
        "\n",
        "The model checkpoints will be saved in `/checkpoint/run1` by default. The checkpoints are saved every 500 steps (can be changed) and when the cell is stopped.\n",
        "\n",
        "The training might time out after 4ish hours; make sure you end training and save the results so you don't lose them!\n",
        "\n",
        "**IMPORTANT NOTE:** If you want to rerun this cell, **restart the VM first** (Runtime -> Restart Runtime). You will need to rerun imports but not recopy files.\n",
        "\n",
        "Other optional-but-helpful parameters for `gpt2.finetune`:\n",
        "\n",
        "\n",
        "*  **`restore_from`**: Set to `fresh` to start training from the base GPT-2, or set to `latest` to restart training from an existing checkpoint.\n",
        "* **`sample_every`**: Number of steps to print example output\n",
        "* **`print_every`**: Number of steps to print training progress.\n",
        "* **`learning_rate`**:  Learning rate for the training. (default `1e-4`, can lower to `1e-5` if you have <1MB input data)\n",
        "*  **`run_name`**: subfolder within `checkpoint` to save the model. This is useful if you want to work with multiple models (will also need to specify  `run_name` when loading the model)\n",
        "* **`overwrite`**: Set to `True` if you want to continue finetuning an existing model (w/ `restore_from='latest'`) without creating duplicate copies. "
      ]
    },
    {
      "cell_type": "code",
      "metadata": {
        "id": "aeXshJM-Cuaf",
        "colab": {
          "base_uri": "https://localhost:8080/"
        },
        "outputId": "9c377809-d48c-438f-9028-cda78cd79d87"
      },
      "source": [
        "sess = gpt2.start_tf_sess()\n",
        "\n",
        "gpt2.finetune(sess,\n",
        "              dataset=file_name,\n",
        "              model_name='124M',\n",
        "              steps=1000,\n",
        "              restore_from='fresh',\n",
        "              run_name='run1_news',\n",
        "              print_every=50,\n",
        "              sample_every=200,\n",
        "              save_every=500\n",
        "              )"
      ],
      "execution_count": 7,
      "outputs": [
        {
          "output_type": "stream",
          "text": [
            "WARNING:tensorflow:From /usr/local/lib/python3.6/dist-packages/gpt_2_simple/src/sample.py:17: where (from tensorflow.python.ops.array_ops) is deprecated and will be removed in a future version.\n",
            "Instructions for updating:\n",
            "Use tf.where in 2.0, which has the same broadcast rule as np.where\n",
            "Loading checkpoint models/124M/model.ckpt\n",
            "INFO:tensorflow:Restoring parameters from models/124M/model.ckpt\n"
          ],
          "name": "stdout"
        },
        {
          "output_type": "stream",
          "text": [
            "\r  0%|          | 0/1 [00:00<?, ?it/s]"
          ],
          "name": "stderr"
        },
        {
          "output_type": "stream",
          "text": [
            "Loading dataset...\n"
          ],
          "name": "stdout"
        },
        {
          "output_type": "stream",
          "text": [
            "100%|██████████| 1/1 [00:07<00:00,  7.07s/it]\n"
          ],
          "name": "stderr"
        },
        {
          "output_type": "stream",
          "text": [
            "dataset has 1396356 tokens\n",
            "Training...\n",
            "[50 | 114.56] loss=2.88 avg=2.88\n",
            "[100 | 229.18] loss=2.89 avg=2.89\n",
            "[150 | 349.54] loss=2.82 avg=2.86\n",
            "[200 | 469.58] loss=2.65 avg=2.81\n",
            "======== SAMPLE 1 ========\n",
            " opinions in the “United States and its alliances with countries like Afghanistan, Iran and Iraq”. ” After all, as we mentioned in the column, the United States’ stance on some of the new   countries has prompted some to question its policy in the region. As a result, Donald J. Trump’s proposed ban on refugees from seven predominantly Muslim countries is an attempt by the administration to reassure the world that the administration is not going to discriminate between refugees. While there have been some mixed calls from lawmakers or other senior administration officials about which countries “deserve more protection” from the ban, no one has been more critical of the administration for its apparent attempt to protect many more    countries.   In an interview Thursday morning, the National Security Council spokesman, Mark Toner, said the president was “making a decision to recognize ‘Barack Obama’s policy to relocate from the region where millions of Americans live. ’ ” Mr. Toner also called on the Trump administration to be “reinventing its language. ’ ” “One of the ways to say that is that the Obama administration is now changing the language,” he said. “It’s like, look, look what the United States went through. ” The president’s comments on Twitter also prompted a rebuke from the State Department. “The secretary of state should know that she should ignore the president’s call to recognize and protect millions of Americans who come to the United States through our open borders. ” The State Department has not made a statement on the White House action, but its spokesman, John Kirby, said it was “not going to be a policy statement to say that all refugees must have rights that are not available to them on our soil. ” In the interview, Mr. Toner also criticized the administration for “overzealous” action by the Trump administration. “As I understand that, the president is pushing us toward an end,” Mr. Toner said. “It was not the right decision to move forward. It was a very, very, unusual move. I think it would have been more effective. But it was unreasonable and it came at the wrong time. It was a very, very unexpected, unprovoked move. ” On Thursday afternoon, the State Department also said that it had asked the Trump team for comment. “It is the first time that the United States has been asked by the president to honor the executive order we issued to temporarily temporarily suspend refugee admissions to the United States as an effort to stabilize our country without discriminating against certain groups of people,’ the State Department said in a statement. A number of states are part of the affected countries’ waivers to temporarily exclude Americans. “The Trump administration does not recognize our policy on Muslim resettlement, even though we are part of the United States, providing that is our policy, the president’s team also requested that the department recognize the executive order to temporarily suspend refugees from certain countries. ” On Saturday, Mr. Trump did not comment on the administration’ actions on Friday, according to a person with knowledge of the White House’s response. In addition to the policy change: Mr. Trump’s pick for ambassador to the United Nations, Nikki R. Haley, was chosen as ambassador to Iraq by President Obama and has worked to provide U. N. A. weapons, including the M14 assault rifle and the M16 sniper rifle, in Iraq, although Mr. Trump has indicated that he will use such weapons in the future. The change in strategy comes at a time when the Obama administration has been accused of failing to provide humanitarian assistance to Iraqi refugees. In September 2015, the Obama administration did not supply humanitarian aid to Iraqis who came to the United States. In October 2015, the State Department also had to apologize for its policy, saying it failed to meet its mandate to provide medical assistance. Mr. Trump has had to deal with the fallout over the travel ban, with some of his closest advisers leaving their posts after the first round of immigration officials announced that they would stop making travel visas. He has vowed to reinstitute the policy, which is popular across the country, but has caused an outcry from critics and refugees in several U. S. states who say that it is discriminating against people from predominantly Muslim countries. Mr. Trump has also made it a point to reassure the world about his immigration policy. Mr. Trump in the interview was not clear about whether or not he would try to change the policy, but said at one point at large that the new policy “would be as effective as the one we had for six years, because we have this infrastructure and these alliances. ” Still, he did say he planned to renegotiate the policy with the federal government and the White House. Mr. Trump has said on several occasions that he is “not going\n",
            "\n",
            "[250 | 601.61] loss=2.38 avg=2.72\n",
            "[300 | 721.99] loss=2.53 avg=2.69\n",
            "[350 | 842.02] loss=2.72 avg=2.69\n",
            "[400 | 962.39] loss=2.53 avg=2.67\n",
            "======== SAMPLE 1 ========\n",
            ". Trump’s campaign manager, Michael Cohen, has called it a “failing operation” that would “put our country at risk. ” His statement on Twitter was less clear, though it drew some criticism from allies. Several senior lawmakers in the House of Representatives and the Senate said they were eager to see how the Trump camp is reacting. “This is a remarkable sign of how they are preparing to respond. It’s something they’ve never seen before in their lives!” said Representative Pete Sessions, a Washington Democrat. Rep. Mike Pompeo, Republican of Kansas and chairman of the Intelligence Committee, said in a statement that the White House does not comment on internal meetings, but there were clear differences in their views about Mr. Obama’s foreign policy during his presidency. Mr. Obama was harshly criticized on a range of social media platforms for his policies on climate change because it slowed the pace of    progress in his region. But other administration officials said that the Obama administration also had some serious flaws with its own foreign policy. “Our   approach is working,” said Michael T. Flynn, the former national security adviser and now an adviser to Mr. Trump’s   transition team. “But it is still a flawed foreign policy. As far as the ‘world order” is concerned, it is being driven by China and Russia, both based predominantly on a desire to keep the United States in the world and to forge alliances to weaken its neighbors. ”This is not an election issue’s game,” said Jim LoSor, a former aide to both George W. Bush and Barack Obama. “What would happen if they found out the extent of my surveillance?” Mr. LoSor also sees parallels between the Trump team and the “impeachment” movement that led to Donald J. Trump’s   and George W. Bush’s impeachment hearings. “The Trump team’s plan is to target a handful of Americans and destroy them before it takes effect,” Mr. LoSor said. “This will be the very same approach the Obama administration used. ” And, while it’s too early to tell what happens in the United States, it looks like a   operation by the Trump camp. In the week ahead, members of his inner circle appear to be preparing a major public relations operation, and President Trump has been quick to distance himself from his relationship with Mr. Obama. “Trump was not our president in any way, shape and form,” he responded on Twitter. “And a lot of what is happening now is just the opposite of that.” Mr. Obama’s predecessor, George W. Bush, used a similar technique against Al Qaeda leader Osama bin Laden. “I believe that with this administration, we have worked hard to bring about an end to terrorist attacks throughout this country. ” Mr. Trump has continued in that vein by announcing a   ban on travelers from seven   countries. Trump’s   decision threatens to make another push for Muslim resettlement in the United States, where in the past it has been illegal to resettle people for at least a decade and has been blocked in dozens of states. In his first few days in office, Mr. Trump has already signed an executive order blocking the entry of people from seven predominantly Muslim countries: Libya, Syria, Iraq, Iran and Sudan. Several of his nominees are from those countries, including Jeff Sessions and Betsy DeVos as education secretaries. Others are from states where the nation’s airports are generally free. Some of his nominees are in business, some are in private companies or even in Republican administrations. Mr. Trump has also announced that he intends to withdraw from the Joint Comprehensive Plan of Action, which is expected to be a cornerstone of his immigration policies. But when it comes to his relationships with his closest friends, he has had no trouble keeping himself informed of developments outside of Washington, as well as his foreign and security policy. It has been a rocky relationship for the president, with multiple White House officials telling The New York Times that he was not ready for the Oval Office “for some of these new people. ” Still, the Trump administration is clearly on the right track, with the administration at the forefront of national security, with the military and some of the states most likely to lose residents to deportation. If Mr. Trump does not win the White House, it will be a stunning sign for American political leaders that Mr. Trump is willing to take a tough line against any government that tries to restrict his freedoms or his ability to govern as a nation. A Trump administration that does not recognize the Constitution and does not follow its founding principles is a political disaster. The United States is now at the mercy of countries and alliances to which it is in no uncertain a straitjacket, but that is not a\n",
            "\n",
            "[450 | 1093.04] loss=2.29 avg=2.63\n",
            "[500 | 1213.55] loss=2.78 avg=2.65\n",
            "Saving checkpoint/run1_news/model-500\n",
            "[550 | 1336.97] loss=2.56 avg=2.64\n",
            "[600 | 1457.66] loss=2.71 avg=2.64\n",
            "======== SAMPLE 1 ========\n",
            " could do something about the ’dramatic” situation between the two, Mr. Obama said. “It doesn’t necessarily mean something that they can’t go along with. ”   “The Obama administration is going to make a  ” was Trump’s choice of a phrase to describe his campaign strategy. It was meant to be a warning sign that Mr. Obama’s handling of the economy would not be as smooth and fluid. Mr. Obama’s aides did not elaborate. But Mr. Trump has chosen to use that term in the most graphic way: “The Obama administration” in the most graphic manner. Mr. Trump’s announcement was less than a day off. His aides insisted on not releasing all federal spending lists or deductions until the administration was ready to make new disclosures. After Mr. Trump promised to declassify his tax returns during the transition, he said he would release them only after the disclosure was complete. In the new information, however, “it’s like a big, dark, shiny dossier without the data. ” Mr. Trump’s statement to reporters that all American multinational corporations were to “compete against each other” over tax cuts was widely seen as a declaration of war. He noted that the tax cuts would provide “economic relief” for corporations, including a significant boost to the value of the    credit that corporations have   and that companies have paid for and paid for for. “I’ve said repeatedly that I do not favor the   idea that a lot of the country has,” Mr. Trump said. “I would like to see large corporations like Walmart, Disney and CKE all to be able to compete against one another. And I do support the idea that the individual companies and some businesses have to pay for the government’s work. ”  For years, when Republican and Democratic congressional candidates have won the most votes for their party’s nominee, they have been asked, would you be my nominee? The answer is, you could be. That’s because every election in 2012 had just two Republican senators. In 2014, five had picked up the Republican nomination, and four had announced their intent to step aside. Now, the proportion holding is about 50 percent. Republican senators have not announced who they are voting for, but the proportion supporting Donald J. Trump has been about 60 percent. And the reason they are backing Mr. Trump has been simple: The vast majority of American voters want something the rest of the country wants: more money, including billions of dollars in tax cuts and infrastructure spending. But there is a huge gap between where Republicans are on the other side and where Democrats are on the spectrum. The   Republican senator, Susan Collins, is among the most popular Republicans in the country, according to a recent Quinnipiac University poll. Ms. Collins’s name was chosen by   voters in a way so obvious it seemed out of character. The question in the Senate is how a senator might vote on a priority  —   to tax a small business with profits above 50 percent of America’s gross domestic product. The answer is yes. Mr. Trump will use his victory on Thursday to go after Republicans, and he might turn up the volume on their attacks until he has all the facts. Democrats, meanwhile, are likely to be attacking Mr. Trump on the grounds that they hope his tax returns could expose him as a tax defaulter. This week, Democrats will spend many hours fretting about the cost of keeping Mr. Trump’s money. Democrats have argued that the release of his taxes would open Republicans to greater scrutiny but would result in greater expense to taxpayers. And Republicans have argued that the release of these returns is evidence that Mr. Trump is a crook and a fraud. On Thursday morning, a CNN report showed that Republicans had already filed 14 tax returns with the Internal Revenue Service and five with the Office of Government Ethics. If Mr. Trump can sell a tax return that the public will see, it is going to be much harder for him to win over Republican voters. In particular, Republicans say, it will be harder for him to sell an issue he’s been describing as a disaster, since voters will be turning down a single tax cut. But the same can be said about his financial disclosure forms. Republicans will no longer be asking what kind of financial disclosures they want and how much money they want to release with an obscure and untraceable document. The same would apply to his tax returns. All Trump and his financial advisers will now have to submit documents with an identifying number and a line break that would identify exactly where they want the money and where it is going. To ensure they get the most accurate report on their investments, Mr. Trump and his legal team will no longer be told that they have to file returns that show where their money is,\n",
            "\n",
            "[650 | 1588.47] loss=2.36 avg=2.62\n",
            "[700 | 1709.26] loss=2.23 avg=2.59\n",
            "[750 | 1829.53] loss=2.32 avg=2.57\n",
            "[800 | 1949.83] loss=1.89 avg=2.52\n",
            "======== SAMPLE 1 ========\n",
            " at the Center of the Universe, an annual event that brings together physicists, cosmologists, animators, artists, filmmakers, historians and others to discuss some of the greatest minds in the history of cinema. The event was largely financed by the Met, with the Met seeking to make its audience pay for tickets at the Met Center. The Met also gave a gift to Make Up With Mr. Baumbach, and the prize fell on Mr. Palomo for “the greatest visual illusion ever made. ” When Mr. Palomo came by the Met Museum in 2015, he was treated to a rare treat: The red film projector in the visitor room had, in effect, been made from a special, highly processed, black and white film. Mr. Palomo was a huge Mr. Palomo, with a moustache  —   not unlike the Marilyn Monroe films Mr. Palomo had seen in that room  —   and an enormous   of red, gold, blue and purple. His film reel was so detailed that it became unusable. (Mr. Palomo did have some red ones. They were used for promotional items and posters.) Mr. Palomo said he was working on what he hoped would be his   masterpiece, a    video for “Killing Time”  —   an eerie dance of time itself: “I did this dance for my life. I’ve always felt I can get out of myself,” Mr. Palomo said in his interview on Monday.  BEIJING  —   It was July 2015, and China had just emerged from an economic nightmare. With its soaring stock markets, currency controls and pervasive surveillance, China had become ailing and struggling. More than 80 years earlier, as the Chinese Communist Party ruled, leaders like Mao Zedong had tried to revive the fortunes of China’s political movement to the detriment of the ruling party and nation by imploding the country and its economic prosperity. The leadership had failed, in the first place. But the failure was the key to a recovery that would finally happen. From 1979 to 1983, the party collapsed in five prominent respects: political, corporate and business. “Communist revolution of the party” emerged as the slogan of the Communist Party of China tour. “Chaoism of the revolution” was proclaimed the day after a meeting. “Maoism of the revolution” was proclaimed the day after a meeting. “Communist dictatorship” was the day after the party’s biggest event in Chinese history. As the party became a shadow of its former self, it fell into a state of disarray, its influence slipping into a third crisis, as party officials began trying to figure out a way to repair it, without the support of members like party legislators and party secretaries. This was in keeping with a plan by the Chinese Communist Party to take over after the 1989 revolution, in which the party had been the key player. It was a risky strategy, analysts said, given the party’s shrinking role since then. “The biggest risk it could take is that the party does not come back from a disarray,” said Yianfang Liu, president of the Institute on State and Global Politics in Beijing. “Because it is still so heavily based on party power, it is not possible for the party to restore its role with the people. ” If that were not enough, the shambolic presidency of Deng Xiaoping helped. Mr. Liu, a professor at the Beijing Graduate University of Science and Technology, was often compared to the leader in one of the world’s slowest transitions from capitalism to communism. That is, he could be compared to the two Communist Party leaders of World War II, the late Mao Zedong and Deng Xiaoping. That war is not exactly remembered in China today, but Liu Xiaoping did not abandon his traditional tactics for politics. Instead, he developed a disciplined approach to party management designed to keep opponents from assuming leadership positions. That has given Mr. Liu nearly uninterrupted authority over the party, which now finds itself a target on most examinations, along with several other major political factions. The leadership at the party, led by Zhou Yongkang, has not given Mr. Zhou much leeway in doing so. His most recent decree restricts his power to two months, rather than the expected 12, so it does not violate the party’s traditional party law. He has yet to take over the party at this stage in his career. But the chaos in China underscores how much less a change has been made than the collapse and disarray in 1989. That year, the government shut down the party’s annual conference, and party officials began trying to hire foreign people to step down. The collapse of the party, which became known as the Defects, brought on the world’s biggest internet piracy crisis in the 1990s. But the collapse of the\n",
            "\n",
            "[850 | 2080.67] loss=2.07 avg=2.50\n",
            "[900 | 2201.37] loss=2.68 avg=2.51\n",
            "[950 | 2321.73] loss=2.35 avg=2.50\n",
            "[1000 | 2442.13] loss=2.20 avg=2.48\n",
            "Saving checkpoint/run1_news/model-1000\n",
            "WARNING:tensorflow:From /tensorflow-1.15.2/python3.6/tensorflow_core/python/training/saver.py:963: remove_checkpoint (from tensorflow.python.training.checkpoint_management) is deprecated and will be removed in a future version.\n",
            "Instructions for updating:\n",
            "Use standard file APIs to delete files with this prefix.\n"
          ],
          "name": "stdout"
        }
      ]
    },
    {
      "cell_type": "markdown",
      "metadata": {
        "id": "IXSuTNERaw6K"
      },
      "source": [
        "After the model is trained, you can copy the checkpoint folder to your own Google Drive.\n",
        "\n",
        "If you want to download it to your personal computer, it's strongly recommended you copy it there first, then download from Google Drive. The checkpoint folder is copied as a `.rar` compressed file; you can download it and uncompress it locally."
      ]
    },
    {
      "cell_type": "code",
      "metadata": {
        "id": "VHdTL8NDbAh3"
      },
      "source": [
        "gpt2.copy_checkpoint_to_gdrive(run_name='run1_news')"
      ],
      "execution_count": 8,
      "outputs": []
    },
    {
      "cell_type": "markdown",
      "metadata": {
        "id": "qQJgV_b4bmzd"
      },
      "source": [
        "You're done! Feel free to go to the **Generate Text From The Trained Model** section to generate text based on your retrained model."
      ]
    },
    {
      "cell_type": "markdown",
      "metadata": {
        "id": "pel-uBULXO2L"
      },
      "source": [
        "## Load a Trained Model Checkpoint\n",
        "\n",
        "Running the next cell will copy the `.rar` checkpoint file from your Google Drive into the Colaboratory VM."
      ]
    },
    {
      "cell_type": "code",
      "metadata": {
        "id": "DCcx5u7sbPTD"
      },
      "source": [
        "#gpt2.copy_checkpoint_from_gdrive(run_name='run1')"
      ],
      "execution_count": 9,
      "outputs": []
    },
    {
      "cell_type": "markdown",
      "metadata": {
        "id": "RTa6zf3e_9gV"
      },
      "source": [
        "The next cell will allow you to load the retrained model checkpoint + metadata necessary to generate text.\n",
        "\n",
        "**IMPORTANT NOTE:** If you want to rerun this cell, **restart the VM first** (Runtime -> Restart Runtime). You will need to rerun imports but not recopy files."
      ]
    },
    {
      "cell_type": "code",
      "metadata": {
        "id": "-fxL77nvAMAX"
      },
      "source": [
        "#sess = gpt2.start_tf_sess()\n",
        "#gpt2.load_gpt2(sess, run_name='run1')"
      ],
      "execution_count": 10,
      "outputs": []
    },
    {
      "cell_type": "markdown",
      "metadata": {
        "id": "ClJwpF_ACONp"
      },
      "source": [
        "## Generate Text From The Trained Model\n",
        "\n",
        "After you've trained the model or loaded a retrained model from checkpoint, you can now generate text. `generate` generates a single text from the loaded model."
      ]
    },
    {
      "cell_type": "code",
      "metadata": {
        "id": "4RNY6RBI9LmL"
      },
      "source": [
        "#gpt2.generate(sess, run_name='run1_news')"
      ],
      "execution_count": 11,
      "outputs": []
    },
    {
      "cell_type": "markdown",
      "metadata": {
        "id": "oF4-PqF0Fl7R"
      },
      "source": [
        "If you're creating an API based on your model and need to pass the generated text elsewhere, you can do `text = gpt2.generate(sess, return_as_list=True)[0]`\n",
        "\n",
        "You can also pass in a `prefix` to the generate function to force the text to start with a given character sequence and generate text from there (good if you add an indicator when the text starts).\n",
        "\n",
        "You can also generate multiple texts at a time by specifing `nsamples`. Unique to GPT-2, you can pass a `batch_size` to generate multiple samples in parallel, giving a massive speedup (in Colaboratory, set a maximum of 20 for `batch_size`).\n",
        "\n",
        "Other optional-but-helpful parameters for `gpt2.generate` and friends:\n",
        "\n",
        "*  **`length`**: Number of tokens to generate (default 1023, the maximum)\n",
        "* **`temperature`**: The higher the temperature, the crazier the text (default 0.7, recommended to keep between 0.7 and 1.0)\n",
        "* **`top_k`**: Limits the generated guesses to the top *k* guesses (default 0 which disables the behavior; if the generated output is super crazy, you may want to set `top_k=40`)\n",
        "* **`top_p`**: Nucleus sampling: limits the generated guesses to a cumulative probability. (gets good results on a dataset with `top_p=0.9`)\n",
        "* **`truncate`**: Truncates the input text until a given sequence, excluding that sequence (e.g. if `truncate='<|endoftext|>'`, the returned text will include everything before the first `<|endoftext|>`). It may be useful to combine this with a smaller `length` if the input texts are short.\n",
        "*  **`include_prefix`**: If using `truncate` and `include_prefix=False`, the specified `prefix` will not be included in the returned text."
      ]
    },
    {
      "cell_type": "code",
      "metadata": {
        "id": "8DKMc0fiej4N"
      },
      "source": [
        "# open prompts file\n",
        "prompts = open('drive/My Drive/TxMM/news_prompts.txt', 'r', encoding='cp1252').readlines()\n",
        "generated_dict = {}\n",
        "\n",
        "for i, p in enumerate(prompts):\n",
        "  # generate 1000 characters\n",
        "  gen_text = gpt2.generate(sess, \n",
        "                     run_name='run1_news',\n",
        "                     length=1000,\n",
        "                     temperature=0.7,\n",
        "                     prefix=p,\n",
        "                     return_as_list=True)[0]\n",
        "\n",
        "  generated_dict[i] = gen_text"
      ],
      "execution_count": 13,
      "outputs": []
    },
    {
      "cell_type": "code",
      "metadata": {
        "id": "0-LRex8lfv1g"
      },
      "source": [
        "import json\r\n",
        "with open('drive/My Drive/TxMM/GPT-2_results/news_generated_texts.json', 'w') as fp:\r\n",
        "  json.dump(generated_dict, fp)"
      ],
      "execution_count": 14,
      "outputs": []
    },
    {
      "cell_type": "code",
      "metadata": {
        "id": "Ex6PIf7-JcUG"
      },
      "source": [
        ""
      ],
      "execution_count": null,
      "outputs": []
    }
  ]
}