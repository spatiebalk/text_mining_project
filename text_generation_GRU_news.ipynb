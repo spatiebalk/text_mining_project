{
  "nbformat": 4,
  "nbformat_minor": 0,
  "metadata": {
    "kernelspec": {
      "display_name": "Python 3",
      "language": "python",
      "name": "python3"
    },
    "language_info": {
      "codemirror_mode": {
        "name": "ipython",
        "version": 3
      },
      "file_extension": ".py",
      "mimetype": "text/x-python",
      "name": "python",
      "nbconvert_exporter": "python",
      "pygments_lexer": "ipython3",
      "version": "3.7.7"
    },
    "colab": {
      "name": "text_generation_GRU_news.ipynb",
      "provenance": [],
      "collapsed_sections": [],
      "toc_visible": true,
      "include_colab_link": true
    },
    "accelerator": "GPU"
  },
  "cells": [
    {
      "cell_type": "markdown",
      "metadata": {
        "id": "view-in-github",
        "colab_type": "text"
      },
      "source": [
        "<a href=\"https://colab.research.google.com/github/spatiebalk/text_mining_project/blob/master/text_generation_GRU_news.ipynb\" target=\"_parent\"><img src=\"https://colab.research.google.com/assets/colab-badge.svg\" alt=\"Open In Colab\"/></a>"
      ]
    },
    {
      "cell_type": "markdown",
      "metadata": {
        "id": "YF64Ckw53r5i"
      },
      "source": [
        "# Text generation GRU with news data"
      ]
    },
    {
      "cell_type": "code",
      "metadata": {
        "id": "fVEB3Qb93r5q"
      },
      "source": [
        "import numpy as np\n",
        "import tensorflow as tf\n",
        "import os\n",
        "from os.path import join, isfile\n",
        "import time\n",
        "import csv\n",
        "from tqdm import tqdm\n",
        "import json\n",
        "from os import listdir\n",
        "from os.path import isfile, join\n",
        "import sys"
      ],
      "execution_count": 1,
      "outputs": []
    },
    {
      "cell_type": "code",
      "metadata": {
        "colab": {
          "base_uri": "https://localhost:8080/"
        },
        "id": "b3tI6V-43r5s",
        "outputId": "4847fa9e-f7a6-4f9e-e4fb-9eb5a1109f41"
      },
      "source": [
        "import sys\n",
        "print(sys.version)\n",
        "print(tf.__version__)"
      ],
      "execution_count": 2,
      "outputs": [
        {
          "output_type": "stream",
          "text": [
            "3.6.9 (default, Oct  8 2020, 12:12:24) \n",
            "[GCC 8.4.0]\n",
            "2.4.0\n"
          ],
          "name": "stdout"
        }
      ]
    },
    {
      "cell_type": "code",
      "metadata": {
        "colab": {
          "base_uri": "https://localhost:8080/"
        },
        "id": "-EzuTfgvXxHT",
        "outputId": "1805650d-70fb-4d61-b92a-27a56546da9b"
      },
      "source": [
        "from google.colab import drive\r\n",
        "drive.mount('/content/gdrive')"
      ],
      "execution_count": 3,
      "outputs": [
        {
          "output_type": "stream",
          "text": [
            "Mounted at /content/gdrive\n"
          ],
          "name": "stdout"
        }
      ]
    },
    {
      "cell_type": "markdown",
      "metadata": {
        "id": "cEo2SKYxxaaw"
      },
      "source": [
        "### News data"
      ]
    },
    {
      "cell_type": "code",
      "metadata": {
        "id": "FAKruDpW3r51"
      },
      "source": [
        "# news_dir = '/content/gdrive/My Drive/TxMM/news_data'\r\n",
        "# files = [f for f in listdir(news_dir) if isfile(join(news_dir, f))]\r\n",
        "# text = \"\"\r\n",
        "\r\n",
        "# csv.field_size_limit(sys.maxsize)\r\n",
        "\r\n",
        "# for f in files:\r\n",
        "#   with open(join(news_dir, f)) as csv_file:\r\n",
        "#     csv_reader = csv.reader(csv_file, delimiter=',')\r\n",
        "#     line_count = 0\r\n",
        "#     for row in tqdm(csv_reader):\r\n",
        "#       if line_count == 0:\r\n",
        "#         print(f'Column names are {\", \".join(row)}')\r\n",
        "#         line_count += 1\r\n",
        "#       else:\r\n",
        "#         text = text + \" \" + row[-1] + \" \"\r\n",
        "#         line_count += 1\r\n",
        "#   break\r\n",
        "\r\n",
        "# with open('/content/gdrive/My Drive/TxMM/news_data.txt', 'w') as outfile:\r\n",
        "    \r\n",
        "#     outfile.write(text)"
      ],
      "execution_count": 4,
      "outputs": []
    },
    {
      "cell_type": "code",
      "metadata": {
        "id": "rJTEsQxHLLzE"
      },
      "source": [
        "text = open('/content/gdrive/My Drive/TxMM/news_data.txt').read()"
      ],
      "execution_count": 5,
      "outputs": []
    },
    {
      "cell_type": "code",
      "metadata": {
        "id": "PezSl1GD0xWn"
      },
      "source": [
        "vocab = sorted(set(text))\r\n",
        "char2index = {u:i for i, u in enumerate(vocab)}\r\n",
        "index2char = np.array(vocab)\r\n",
        "text_as_int = np.array([char2index[c] for c in text])"
      ],
      "execution_count": null,
      "outputs": []
    },
    {
      "cell_type": "code",
      "metadata": {
        "id": "jjKc2BjV2RYc"
      },
      "source": [
        "seq_length = 25\r\n",
        "examples_per_epoch = len(text)//(seq_length+1)\r\n",
        "char_dataset = tf.data.Dataset.from_tensor_slices(text_as_int)\r\n",
        "sequences = char_dataset.batch(seq_length+1, drop_remainder=True)\r\n",
        "\r\n",
        "def split_input_target(data):\r\n",
        "  input_text = data[:-1]\r\n",
        "  target_text = data[1:]\r\n",
        "  return input_text, target_text\r\n",
        "\r\n",
        "dataset = sequences.map(split_input_target)\r\n",
        "\r\n",
        "BATCH_SIZE = 64\r\n",
        "BUFFER_SIZE = 10000\r\n",
        "dataset = dataset.shuffle(BUFFER_SIZE).batch(BATCH_SIZE, drop_remainder=True)"
      ],
      "execution_count": null,
      "outputs": []
    },
    {
      "cell_type": "code",
      "metadata": {
        "id": "4PrRIlZw2TuR"
      },
      "source": [
        "vocab_size = len(vocab)\r\n",
        "embedding_dim = 300\r\n",
        "\r\n",
        "# Number of RNN units \r\n",
        "rnn_units1 = 512\r\n",
        "rnn_units2 = 256\r\n",
        "rnn_units= [rnn_units1, rnn_units2]\r\n",
        "\r\n",
        "def build_model(vocab_size, embedding_dim, rnn_units, batch_size):\r\n",
        "  model = tf.keras.Sequential([\r\n",
        "    tf.keras.layers.Embedding(vocab_size, embedding_dim,\r\n",
        "       batch_input_shape=[batch_size, None]),\r\n",
        "    tf.keras.layers.GRU(rnn_units1, return_sequences=True,\r\n",
        "       stateful=True,recurrent_initializer='glorot_uniform'),\r\n",
        "    tf.keras.layers.GRU(rnn_units2, return_sequences=True,\r\n",
        "       stateful=True,recurrent_initializer='glorot_uniform'),\r\n",
        "    tf.keras.layers.Dense(vocab_size)\r\n",
        "  ])\r\n",
        "  return model\r\n",
        "\r\n",
        "model = build_model(\r\n",
        "vocab_size = vocab_size,\r\n",
        "embedding_dim=embedding_dim,\r\n",
        "rnn_units=rnn_units,\r\n",
        "batch_size=BATCH_SIZE)\r\n",
        "\r\n",
        "def loss(labels, logits):\r\n",
        "  return tf.keras.losses.sparse_categorical_crossentropy(labels,\r\n",
        "         logits, from_logits=True)\r\n",
        "  \r\n",
        "model.compile(optimizer='adam', loss=loss, metrics=['accuracy'])\r\n",
        "model.summary()"
      ],
      "execution_count": null,
      "outputs": []
    },
    {
      "cell_type": "code",
      "metadata": {
        "id": "JwmwkfBu2T0F"
      },
      "source": [
        "# Directory where the checkpoints will be saved\r\n",
        "checkpoint_dir = '/content/gdrive/My Drive/TxMM/GRU_results/training_checkpoints_GRU_news'\r\n",
        "\r\n",
        "# Name of the checkpoint files\r\n",
        "checkpoint_prefix = os.path.join(checkpoint_dir, \"ckpt_{epoch}\")\r\n",
        "checkpoint_callback=tf.keras.callbacks.ModelCheckpoint(\r\n",
        "   filepath=checkpoint_prefix, save_weights_only=True)"
      ],
      "execution_count": null,
      "outputs": []
    },
    {
      "cell_type": "code",
      "metadata": {
        "id": "kiyP7T_j2T2Y"
      },
      "source": [
        "EPOCHS= 25\r\n",
        "history = model.fit(dataset, epochs=EPOCHS, callbacks=[checkpoint_callback])\r\n",
        "latest_check = tf.train.latest_checkpoint(checkpoint_dir)"
      ],
      "execution_count": null,
      "outputs": []
    },
    {
      "cell_type": "code",
      "metadata": {
        "id": "QSLtWjNX2aox"
      },
      "source": [
        "model = build_model(vocab_size, embedding_dim, rnn_units, batch_size=1)\r\n",
        "model.load_weights(latest_check)\r\n",
        "model.build(tf.TensorShape([1, None]))\r\n",
        "model.summary()"
      ],
      "execution_count": null,
      "outputs": []
    },
    {
      "cell_type": "code",
      "metadata": {
        "id": "GdiW8sXzLAv-"
      },
      "source": [
        "def generate_text(model, start_string):\r\n",
        "\r\n",
        "  num_generate = 1000  #can be anything you like\r\n",
        "  input_eval = [char2index[s] for s in start_string]\r\n",
        "  input_eval = tf.expand_dims(input_eval, 0)\r\n",
        "  text_generated = []\r\n",
        "  scaling = 0.5 #kept at a lower value here\r\n",
        "  # Here batch size == 1\r\n",
        "  model.reset_states()\r\n",
        "\r\n",
        "  for i in range(num_generate):\r\n",
        "    predictions = model(input_eval)\r\n",
        "    # remove the batch dimension\r\n",
        "    predictions = tf.squeeze(predictions, 0)\r\n",
        "\r\n",
        "    # using a categorical distribution to predict the character returned by the model\r\n",
        "    predictions = predictions / scaling\r\n",
        "    predicted_id = tf.random.categorical(predictions, num_samples=1)[-1,0].numpy()\r\n",
        "\r\n",
        "    # Pass the predicted character as the next input to the model\r\n",
        "    # along with the previous hidden state\r\n",
        "    input_eval = tf.expand_dims([predicted_id], 0)\r\n",
        "\r\n",
        "    text_generated.append(index2char[predicted_id])\r\n",
        "\r\n",
        "  return (start_string + \"\".join(text_generated))"
      ],
      "execution_count": null,
      "outputs": []
    },
    {
      "cell_type": "code",
      "metadata": {
        "id": "bo6E6Un62auV"
      },
      "source": [
        "# open prompts file\r\n",
        "prompts = open('/content/gdrive/My Drive/TxMM/news_prompts.txt', 'r').readlines()\r\n",
        "generated_dict = {}\r\n",
        "\r\n",
        "for i, p in tqdm(enumerate(prompts)):\r\n",
        "  # generate 1000 characters\r\n",
        "  gen_text = generate_text(model, start_string=p)\r\n",
        "  generated_dict[i] = gen_text\r\n",
        "\r\n",
        "with open('/content/gdrive/My Drive/TxMM/GRU_results/news_generated_texts.json', 'w') as fp:\r\n",
        "  json.dump(generated_dict, fp)"
      ],
      "execution_count": null,
      "outputs": []
    },
    {
      "cell_type": "code",
      "metadata": {
        "id": "8MJdJoKt2awb"
      },
      "source": [
        ""
      ],
      "execution_count": null,
      "outputs": []
    }
  ]
}