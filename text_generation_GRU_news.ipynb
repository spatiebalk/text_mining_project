{
  "nbformat": 4,
  "nbformat_minor": 0,
  "metadata": {
    "kernelspec": {
      "display_name": "Python 3",
      "language": "python",
      "name": "python3"
    },
    "language_info": {
      "codemirror_mode": {
        "name": "ipython",
        "version": 3
      },
      "file_extension": ".py",
      "mimetype": "text/x-python",
      "name": "python",
      "nbconvert_exporter": "python",
      "pygments_lexer": "ipython3",
      "version": "3.7.7"
    },
    "colab": {
      "name": "text_generation_GRU_news.ipynb",
      "provenance": [],
      "collapsed_sections": [],
      "toc_visible": true,
      "include_colab_link": true
    },
    "accelerator": "GPU"
  },
  "cells": [
    {
      "cell_type": "markdown",
      "metadata": {
        "id": "view-in-github",
        "colab_type": "text"
      },
      "source": [
        "<a href=\"https://colab.research.google.com/github/spatiebalk/text_mining_project/blob/master/text_generation_GRU_news.ipynb\" target=\"_parent\"><img src=\"https://colab.research.google.com/assets/colab-badge.svg\" alt=\"Open In Colab\"/></a>"
      ]
    },
    {
      "cell_type": "markdown",
      "metadata": {
        "id": "YF64Ckw53r5i"
      },
      "source": [
        "# Text generation GRU with news data"
      ]
    },
    {
      "cell_type": "code",
      "metadata": {
        "id": "fVEB3Qb93r5q"
      },
      "source": [
        "import numpy as np\n",
        "import tensorflow as tf\n",
        "import os\n",
        "from os.path import join, isfile\n",
        "import time\n",
        "import csv\n",
        "from tqdm import tqdm\n",
        "import json\n",
        "from os import listdir\n",
        "from os.path import isfile, join\n",
        "import sys"
      ],
      "execution_count": 1,
      "outputs": []
    },
    {
      "cell_type": "code",
      "metadata": {
        "colab": {
          "base_uri": "https://localhost:8080/"
        },
        "id": "b3tI6V-43r5s",
        "outputId": "1861e541-dbb7-4d82-e8be-e8f6b298f591"
      },
      "source": [
        "import sys\n",
        "print(sys.version)\n",
        "print(tf.__version__)"
      ],
      "execution_count": 2,
      "outputs": [
        {
          "output_type": "stream",
          "text": [
            "3.6.9 (default, Oct  8 2020, 12:12:24) \n",
            "[GCC 8.4.0]\n",
            "2.4.0\n"
          ],
          "name": "stdout"
        }
      ]
    },
    {
      "cell_type": "code",
      "metadata": {
        "colab": {
          "base_uri": "https://localhost:8080/"
        },
        "id": "-EzuTfgvXxHT",
        "outputId": "e1646bb3-c9cd-4999-ca28-82c590b564dd"
      },
      "source": [
        "from google.colab import drive\r\n",
        "drive.mount('/content/gdrive')"
      ],
      "execution_count": 3,
      "outputs": [
        {
          "output_type": "stream",
          "text": [
            "Mounted at /content/gdrive\n"
          ],
          "name": "stdout"
        }
      ]
    },
    {
      "cell_type": "code",
      "metadata": {
        "id": "ZiEGyU7exbU0"
      },
      "source": [
        "text_hp = open('/content/gdrive/My Drive/TxMM/harrypotter.txt').read()"
      ],
      "execution_count": 4,
      "outputs": []
    },
    {
      "cell_type": "markdown",
      "metadata": {
        "id": "cEo2SKYxxaaw"
      },
      "source": [
        "### News data"
      ]
    },
    {
      "cell_type": "code",
      "metadata": {
        "id": "FAKruDpW3r51",
        "colab": {
          "base_uri": "https://localhost:8080/"
        },
        "outputId": "3ac5c24c-30e9-4a5e-a2cd-03cc75dc79c1"
      },
      "source": [
        "news_dir = '/content/gdrive/My Drive/TxMM/news_data'\r\n",
        "files = [f for f in listdir(news_dir) if isfile(join(news_dir, f))]\r\n",
        "text = \"\"\r\n",
        "\r\n",
        "csv.field_size_limit(sys.maxsize)\r\n",
        "\r\n",
        "for f in files:\r\n",
        "  with open(join(news_dir, f)) as csv_file:\r\n",
        "    csv_reader = csv.reader(csv_file, delimiter=',')\r\n",
        "    line_count = 0\r\n",
        "    for row in tqdm(csv_reader):\r\n",
        "      if line_count == 0:\r\n",
        "        print(f'Column names are {\", \".join(row)}')\r\n",
        "        line_count += 1\r\n",
        "      else:\r\n",
        "        text = text + \" \" + row[-1] + \" \"\r\n",
        "        line_count += 1\r\n",
        "\r\n",
        "        if len(text) >= len(text_hp):\r\n",
        "          print(\"Done with reading in text\")\r\n",
        "          print(\"{} articles were included\".format(line_count-1))\r\n",
        "          break\r\n",
        "  break\r\n",
        "\r\n",
        "with open('/content/gdrive/My Drive/TxMM/news_data.txt', 'w') as outfile:\r\n",
        "    \r\n",
        "    outfile.write(text)"
      ],
      "execution_count": 5,
      "outputs": [
        {
          "output_type": "stream",
          "text": [
            "257it [00:00,  5.72it/s]"
          ],
          "name": "stderr"
        },
        {
          "output_type": "stream",
          "text": [
            "Column names are , id, title, publication, author, date, year, month, url, content\n"
          ],
          "name": "stdout"
        },
        {
          "output_type": "stream",
          "text": [
            "925it [00:03, 270.14it/s]"
          ],
          "name": "stderr"
        },
        {
          "output_type": "stream",
          "text": [
            "Done with reading in text\n",
            "937 articles were included\n"
          ],
          "name": "stdout"
        },
        {
          "output_type": "stream",
          "text": [
            "\n"
          ],
          "name": "stderr"
        }
      ]
    },
    {
      "cell_type": "code",
      "metadata": {
        "id": "rJTEsQxHLLzE"
      },
      "source": [
        "text = open('/content/gdrive/My Drive/TxMM/news_data.txt').read()"
      ],
      "execution_count": 6,
      "outputs": []
    },
    {
      "cell_type": "code",
      "metadata": {
        "id": "PezSl1GD0xWn"
      },
      "source": [
        "vocab = sorted(set(text))\r\n",
        "char2index = {u:i for i, u in enumerate(vocab)}\r\n",
        "index2char = np.array(vocab)\r\n",
        "text_as_int = np.array([char2index[c] for c in text])"
      ],
      "execution_count": 7,
      "outputs": []
    },
    {
      "cell_type": "code",
      "metadata": {
        "id": "jjKc2BjV2RYc"
      },
      "source": [
        "seq_length = 25\r\n",
        "examples_per_epoch = len(text)//(seq_length+1)\r\n",
        "char_dataset = tf.data.Dataset.from_tensor_slices(text_as_int)\r\n",
        "sequences = char_dataset.batch(seq_length+1, drop_remainder=True)\r\n",
        "\r\n",
        "def split_input_target(data):\r\n",
        "  input_text = data[:-1]\r\n",
        "  target_text = data[1:]\r\n",
        "  return input_text, target_text\r\n",
        "\r\n",
        "dataset = sequences.map(split_input_target)\r\n",
        "\r\n",
        "BATCH_SIZE = 64\r\n",
        "BUFFER_SIZE = 10000\r\n",
        "dataset = dataset.shuffle(BUFFER_SIZE).batch(BATCH_SIZE, drop_remainder=True)"
      ],
      "execution_count": 8,
      "outputs": []
    },
    {
      "cell_type": "code",
      "metadata": {
        "id": "4PrRIlZw2TuR",
        "colab": {
          "base_uri": "https://localhost:8080/"
        },
        "outputId": "a9f0d66b-3f34-426f-a679-4d36d11b6b24"
      },
      "source": [
        "vocab_size = len(vocab)\r\n",
        "embedding_dim = 300\r\n",
        "\r\n",
        "# Number of RNN units \r\n",
        "rnn_units1 = 512\r\n",
        "rnn_units2 = 256\r\n",
        "rnn_units= [rnn_units1, rnn_units2]\r\n",
        "\r\n",
        "def build_model(vocab_size, embedding_dim, rnn_units, batch_size):\r\n",
        "  model = tf.keras.Sequential([\r\n",
        "    tf.keras.layers.Embedding(vocab_size, embedding_dim,\r\n",
        "       batch_input_shape=[batch_size, None]),\r\n",
        "    tf.keras.layers.GRU(rnn_units1, return_sequences=True,\r\n",
        "       stateful=True,recurrent_initializer='glorot_uniform'),\r\n",
        "    tf.keras.layers.GRU(rnn_units2, return_sequences=True,\r\n",
        "       stateful=True,recurrent_initializer='glorot_uniform'),\r\n",
        "    tf.keras.layers.Dense(vocab_size)\r\n",
        "  ])\r\n",
        "  return model\r\n",
        "\r\n",
        "model = build_model(\r\n",
        "vocab_size = vocab_size,\r\n",
        "embedding_dim=embedding_dim,\r\n",
        "rnn_units=rnn_units,\r\n",
        "batch_size=BATCH_SIZE)\r\n",
        "\r\n",
        "def loss(labels, logits):\r\n",
        "  return tf.keras.losses.sparse_categorical_crossentropy(labels,\r\n",
        "         logits, from_logits=True)\r\n",
        "  \r\n",
        "model.compile(optimizer='adam', loss=loss, metrics=['accuracy'])\r\n",
        "model.summary()"
      ],
      "execution_count": 9,
      "outputs": [
        {
          "output_type": "stream",
          "text": [
            "Model: \"sequential\"\n",
            "_________________________________________________________________\n",
            "Layer (type)                 Output Shape              Param #   \n",
            "=================================================================\n",
            "embedding (Embedding)        (64, None, 300)           36600     \n",
            "_________________________________________________________________\n",
            "gru (GRU)                    (64, None, 512)           1250304   \n",
            "_________________________________________________________________\n",
            "gru_1 (GRU)                  (64, None, 256)           591360    \n",
            "_________________________________________________________________\n",
            "dense (Dense)                (64, None, 122)           31354     \n",
            "=================================================================\n",
            "Total params: 1,909,618\n",
            "Trainable params: 1,909,618\n",
            "Non-trainable params: 0\n",
            "_________________________________________________________________\n"
          ],
          "name": "stdout"
        }
      ]
    },
    {
      "cell_type": "code",
      "metadata": {
        "id": "JwmwkfBu2T0F"
      },
      "source": [
        "# Directory where the checkpoints will be saved\r\n",
        "checkpoint_dir = '/content/gdrive/My Drive/TxMM/GRU_results/training_checkpoints_GRU_news'\r\n",
        "\r\n",
        "# Name of the checkpoint files\r\n",
        "checkpoint_prefix = os.path.join(checkpoint_dir, \"ckpt_{epoch}\")\r\n",
        "checkpoint_callback=tf.keras.callbacks.ModelCheckpoint(\r\n",
        "   filepath=checkpoint_prefix, save_weights_only=True)"
      ],
      "execution_count": 10,
      "outputs": []
    },
    {
      "cell_type": "code",
      "metadata": {
        "id": "kiyP7T_j2T2Y",
        "colab": {
          "base_uri": "https://localhost:8080/"
        },
        "outputId": "698c3acc-3e39-459a-86ae-78f7b09ad772"
      },
      "source": [
        "EPOCHS= 50\r\n",
        "history = model.fit(dataset, epochs=EPOCHS, callbacks=[checkpoint_callback])\r\n",
        "latest_check = tf.train.latest_checkpoint(checkpoint_dir)"
      ],
      "execution_count": 11,
      "outputs": [
        {
          "output_type": "stream",
          "text": [
            "Epoch 1/50\n",
            "3758/3758 [==============================] - 57s 13ms/step - loss: 2.0197 - accuracy: 0.4340\n",
            "Epoch 2/50\n",
            "3758/3758 [==============================] - 51s 13ms/step - loss: 1.5110 - accuracy: 0.5572\n",
            "Epoch 3/50\n",
            "3758/3758 [==============================] - 51s 13ms/step - loss: 1.4731 - accuracy: 0.5671\n",
            "Epoch 4/50\n",
            "3758/3758 [==============================] - 51s 13ms/step - loss: 1.4560 - accuracy: 0.5711\n",
            "Epoch 5/50\n",
            "3758/3758 [==============================] - 50s 13ms/step - loss: 1.4476 - accuracy: 0.5736\n",
            "Epoch 6/50\n",
            "3758/3758 [==============================] - 51s 13ms/step - loss: 1.4434 - accuracy: 0.5745\n",
            "Epoch 7/50\n",
            "3758/3758 [==============================] - 51s 13ms/step - loss: 1.4405 - accuracy: 0.5751\n",
            "Epoch 8/50\n",
            "3758/3758 [==============================] - 51s 13ms/step - loss: 1.4407 - accuracy: 0.5748\n",
            "Epoch 9/50\n",
            "3758/3758 [==============================] - 51s 13ms/step - loss: 1.4407 - accuracy: 0.5747\n",
            "Epoch 10/50\n",
            "3758/3758 [==============================] - 51s 13ms/step - loss: 1.4422 - accuracy: 0.5743\n",
            "Epoch 11/50\n",
            "3758/3758 [==============================] - 51s 13ms/step - loss: 1.4448 - accuracy: 0.5737\n",
            "Epoch 12/50\n",
            "3758/3758 [==============================] - 50s 13ms/step - loss: 1.4483 - accuracy: 0.5726\n",
            "Epoch 13/50\n",
            "3758/3758 [==============================] - 51s 13ms/step - loss: 1.4521 - accuracy: 0.5716\n",
            "Epoch 14/50\n",
            "3758/3758 [==============================] - 51s 13ms/step - loss: 1.4567 - accuracy: 0.5702\n",
            "Epoch 15/50\n",
            "3758/3758 [==============================] - 51s 13ms/step - loss: 1.4634 - accuracy: 0.5683\n",
            "Epoch 16/50\n",
            "3758/3758 [==============================] - 51s 14ms/step - loss: 1.4698 - accuracy: 0.5662\n",
            "Epoch 17/50\n",
            "3758/3758 [==============================] - 50s 13ms/step - loss: 1.4776 - accuracy: 0.5641\n",
            "Epoch 18/50\n",
            "3758/3758 [==============================] - 50s 13ms/step - loss: 1.4910 - accuracy: 0.5607\n",
            "Epoch 19/50\n",
            "3758/3758 [==============================] - 51s 13ms/step - loss: 1.5046 - accuracy: 0.5566\n",
            "Epoch 20/50\n",
            "3758/3758 [==============================] - 50s 13ms/step - loss: 1.5243 - accuracy: 0.5509\n",
            "Epoch 21/50\n",
            "3758/3758 [==============================] - 52s 14ms/step - loss: 1.5523 - accuracy: 0.5428\n",
            "Epoch 22/50\n",
            "3758/3758 [==============================] - 52s 14ms/step - loss: 1.5724 - accuracy: 0.5377\n",
            "Epoch 23/50\n",
            "3758/3758 [==============================] - 51s 14ms/step - loss: 1.5826 - accuracy: 0.5350\n",
            "Epoch 24/50\n",
            "3758/3758 [==============================] - 51s 14ms/step - loss: 1.6059 - accuracy: 0.5286\n",
            "Epoch 25/50\n",
            "3758/3758 [==============================] - 51s 14ms/step - loss: 1.6183 - accuracy: 0.5253\n",
            "Epoch 26/50\n",
            "3758/3758 [==============================] - 51s 13ms/step - loss: 1.6312 - accuracy: 0.5217\n",
            "Epoch 27/50\n",
            "3758/3758 [==============================] - 51s 13ms/step - loss: 1.6542 - accuracy: 0.5152\n",
            "Epoch 28/50\n",
            "3758/3758 [==============================] - 51s 14ms/step - loss: 1.6639 - accuracy: 0.5125\n",
            "Epoch 29/50\n",
            "3758/3758 [==============================] - 51s 13ms/step - loss: 1.6600 - accuracy: 0.5139\n",
            "Epoch 30/50\n",
            "3758/3758 [==============================] - 50s 13ms/step - loss: 1.6714 - accuracy: 0.5110\n",
            "Epoch 31/50\n",
            "3758/3758 [==============================] - 50s 13ms/step - loss: 1.6825 - accuracy: 0.5078\n",
            "Epoch 32/50\n",
            "3758/3758 [==============================] - 50s 13ms/step - loss: 1.6874 - accuracy: 0.5065\n",
            "Epoch 33/50\n",
            "3758/3758 [==============================] - 50s 13ms/step - loss: 1.6837 - accuracy: 0.5075\n",
            "Epoch 34/50\n",
            "3758/3758 [==============================] - 50s 13ms/step - loss: 1.7022 - accuracy: 0.5021\n",
            "Epoch 35/50\n",
            "3758/3758 [==============================] - 51s 13ms/step - loss: 1.7153 - accuracy: 0.4986\n",
            "Epoch 36/50\n",
            "3758/3758 [==============================] - 50s 13ms/step - loss: 1.7223 - accuracy: 0.4967\n",
            "Epoch 37/50\n",
            "3758/3758 [==============================] - 50s 13ms/step - loss: 1.7292 - accuracy: 0.4946\n",
            "Epoch 38/50\n",
            "3758/3758 [==============================] - 50s 13ms/step - loss: 1.7334 - accuracy: 0.4933\n",
            "Epoch 39/50\n",
            "3758/3758 [==============================] - 50s 13ms/step - loss: 1.7325 - accuracy: 0.4935\n",
            "Epoch 40/50\n",
            "3758/3758 [==============================] - 50s 13ms/step - loss: 1.7193 - accuracy: 0.4976\n",
            "Epoch 41/50\n",
            "3758/3758 [==============================] - 51s 13ms/step - loss: 1.7414 - accuracy: 0.4914\n",
            "Epoch 42/50\n",
            "3758/3758 [==============================] - 50s 13ms/step - loss: 1.7256 - accuracy: 0.4960\n",
            "Epoch 43/50\n",
            "3758/3758 [==============================] - 50s 13ms/step - loss: 1.7259 - accuracy: 0.4956\n",
            "Epoch 44/50\n",
            "3758/3758 [==============================] - 50s 13ms/step - loss: 1.7304 - accuracy: 0.4941\n",
            "Epoch 45/50\n",
            "3758/3758 [==============================] - 50s 13ms/step - loss: 1.7346 - accuracy: 0.4933\n",
            "Epoch 46/50\n",
            "3758/3758 [==============================] - 51s 13ms/step - loss: 1.7479 - accuracy: 0.4899\n",
            "Epoch 47/50\n",
            "3758/3758 [==============================] - 51s 13ms/step - loss: 1.7463 - accuracy: 0.4902\n",
            "Epoch 48/50\n",
            "3758/3758 [==============================] - 51s 13ms/step - loss: 1.7475 - accuracy: 0.4896\n",
            "Epoch 49/50\n",
            "3758/3758 [==============================] - 51s 13ms/step - loss: 1.7584 - accuracy: 0.4867\n",
            "Epoch 50/50\n",
            "3758/3758 [==============================] - 51s 13ms/step - loss: 1.7613 - accuracy: 0.4858\n"
          ],
          "name": "stdout"
        }
      ]
    },
    {
      "cell_type": "code",
      "metadata": {
        "id": "QSLtWjNX2aox",
        "colab": {
          "base_uri": "https://localhost:8080/"
        },
        "outputId": "95eeacc6-cea7-46b5-d2c6-5c72d673ba4a"
      },
      "source": [
        "model = build_model(vocab_size, embedding_dim, rnn_units, batch_size=1)\r\n",
        "model.load_weights(latest_check)\r\n",
        "model.build(tf.TensorShape([1, None]))\r\n",
        "model.summary()"
      ],
      "execution_count": 12,
      "outputs": [
        {
          "output_type": "stream",
          "text": [
            "Model: \"sequential_1\"\n",
            "_________________________________________________________________\n",
            "Layer (type)                 Output Shape              Param #   \n",
            "=================================================================\n",
            "embedding_1 (Embedding)      (1, None, 300)            36600     \n",
            "_________________________________________________________________\n",
            "gru_2 (GRU)                  (1, None, 512)            1250304   \n",
            "_________________________________________________________________\n",
            "gru_3 (GRU)                  (1, None, 256)            591360    \n",
            "_________________________________________________________________\n",
            "dense_1 (Dense)              (1, None, 122)            31354     \n",
            "=================================================================\n",
            "Total params: 1,909,618\n",
            "Trainable params: 1,909,618\n",
            "Non-trainable params: 0\n",
            "_________________________________________________________________\n"
          ],
          "name": "stdout"
        }
      ]
    },
    {
      "cell_type": "code",
      "metadata": {
        "id": "GdiW8sXzLAv-"
      },
      "source": [
        "def generate_text(model, start_string):\r\n",
        "\r\n",
        "  num_generate = 1000  #can be anything you like\r\n",
        "  input_eval = [char2index[s] for s in start_string]\r\n",
        "  input_eval = tf.expand_dims(input_eval, 0)\r\n",
        "  text_generated = []\r\n",
        "  scaling = 0.5 #kept at a lower value here\r\n",
        "  # Here batch size == 1\r\n",
        "  model.reset_states()\r\n",
        "\r\n",
        "  for i in range(num_generate):\r\n",
        "    predictions = model(input_eval)\r\n",
        "    # remove the batch dimension\r\n",
        "    predictions = tf.squeeze(predictions, 0)\r\n",
        "\r\n",
        "    # using a categorical distribution to predict the character returned by the model\r\n",
        "    predictions = predictions / scaling\r\n",
        "    predicted_id = tf.random.categorical(predictions, num_samples=1)[-1,0].numpy()\r\n",
        "\r\n",
        "    # Pass the predicted character as the next input to the model\r\n",
        "    # along with the previous hidden state\r\n",
        "    input_eval = tf.expand_dims([predicted_id], 0)\r\n",
        "\r\n",
        "    text_generated.append(index2char[predicted_id])\r\n",
        "\r\n",
        "  return (start_string + \"\".join(text_generated))"
      ],
      "execution_count": 13,
      "outputs": []
    },
    {
      "cell_type": "code",
      "metadata": {
        "id": "bo6E6Un62auV",
        "colab": {
          "base_uri": "https://localhost:8080/"
        },
        "outputId": "04f01144-5bdf-4618-e5e2-2feecd91f669"
      },
      "source": [
        "# open prompts file\r\n",
        "prompts = open('/content/gdrive/My Drive/TxMM/news_prompts.txt', 'r', encoding='cp1252').readlines()\r\n",
        "generated_dict = {}\r\n",
        "\r\n",
        "for i, p in tqdm(enumerate(prompts)):\r\n",
        "  # generate 1000 \r\n",
        "  gen_text = generate_text(model, start_string=p.strip(\"\\n\"))\r\n",
        "  generated_dict[i] = gen_text\r\n",
        "\r\n",
        "with open('/content/gdrive/My Drive/TxMM/GRU_results/news_generated_texts.json', 'w') as fp:\r\n",
        "  json.dump(generated_dict, fp)"
      ],
      "execution_count": 17,
      "outputs": [
        {
          "output_type": "stream",
          "text": [
            "100it [10:28,  6.28s/it]\n"
          ],
          "name": "stderr"
        }
      ]
    },
    {
      "cell_type": "code",
      "metadata": {
        "id": "8MJdJoKt2awb"
      },
      "source": [
        ""
      ],
      "execution_count": null,
      "outputs": []
    }
  ]
}