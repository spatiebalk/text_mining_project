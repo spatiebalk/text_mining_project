{
  "nbformat": 4,
  "nbformat_minor": 0,
  "metadata": {
    "colab": {
      "name": "score-generated-texts-hp.ipynb",
      "provenance": [],
      "collapsed_sections": [],
      "toc_visible": true,
      "include_colab_link": true
    },
    "language_info": {
      "codemirror_mode": {
        "name": "ipython",
        "version": 3
      },
      "file_extension": ".py",
      "mimetype": "text/x-python",
      "name": "python",
      "nbconvert_exporter": "python",
      "pygments_lexer": "ipython3",
      "version": "3.6.7"
    },
    "kernelspec": {
      "name": "python3",
      "display_name": "Python 3"
    },
    "accelerator": "GPU",
    "widgets": {
      "application/vnd.jupyter.widget-state+json": {
        "63fd60606dcd4f848e6f03dd997e1674": {
          "model_module": "@jupyter-widgets/controls",
          "model_name": "HBoxModel",
          "state": {
            "_view_name": "HBoxView",
            "_dom_classes": [],
            "_model_name": "HBoxModel",
            "_view_module": "@jupyter-widgets/controls",
            "_model_module_version": "1.5.0",
            "_view_count": null,
            "_view_module_version": "1.5.0",
            "box_style": "",
            "layout": "IPY_MODEL_ae86478a5a9a469089bbe693e1e6a131",
            "_model_module": "@jupyter-widgets/controls",
            "children": [
              "IPY_MODEL_c2c464efba6f4eada807088946d573ca",
              "IPY_MODEL_48bdf8d71dcb4e72b125ec84abd7b507"
            ]
          }
        },
        "ae86478a5a9a469089bbe693e1e6a131": {
          "model_module": "@jupyter-widgets/base",
          "model_name": "LayoutModel",
          "state": {
            "_view_name": "LayoutView",
            "grid_template_rows": null,
            "right": null,
            "justify_content": null,
            "_view_module": "@jupyter-widgets/base",
            "overflow": null,
            "_model_module_version": "1.2.0",
            "_view_count": null,
            "flex_flow": null,
            "width": null,
            "min_width": null,
            "border": null,
            "align_items": null,
            "bottom": null,
            "_model_module": "@jupyter-widgets/base",
            "top": null,
            "grid_column": null,
            "overflow_y": null,
            "overflow_x": null,
            "grid_auto_flow": null,
            "grid_area": null,
            "grid_template_columns": null,
            "flex": null,
            "_model_name": "LayoutModel",
            "justify_items": null,
            "grid_row": null,
            "max_height": null,
            "align_content": null,
            "visibility": null,
            "align_self": null,
            "height": null,
            "min_height": null,
            "padding": null,
            "grid_auto_rows": null,
            "grid_gap": null,
            "max_width": null,
            "order": null,
            "_view_module_version": "1.2.0",
            "grid_template_areas": null,
            "object_position": null,
            "object_fit": null,
            "grid_auto_columns": null,
            "margin": null,
            "display": null,
            "left": null
          }
        },
        "c2c464efba6f4eada807088946d573ca": {
          "model_module": "@jupyter-widgets/controls",
          "model_name": "FloatProgressModel",
          "state": {
            "_view_name": "ProgressView",
            "style": "IPY_MODEL_a51282bb2a9846cb877cd58c252686dc",
            "_dom_classes": [],
            "description": "Downloading: 100%",
            "_model_name": "FloatProgressModel",
            "bar_style": "success",
            "max": 231508,
            "_view_module": "@jupyter-widgets/controls",
            "_model_module_version": "1.5.0",
            "value": 231508,
            "_view_count": null,
            "_view_module_version": "1.5.0",
            "orientation": "horizontal",
            "min": 0,
            "description_tooltip": null,
            "_model_module": "@jupyter-widgets/controls",
            "layout": "IPY_MODEL_558550951a6f48df815b1999663d68d3"
          }
        },
        "48bdf8d71dcb4e72b125ec84abd7b507": {
          "model_module": "@jupyter-widgets/controls",
          "model_name": "HTMLModel",
          "state": {
            "_view_name": "HTMLView",
            "style": "IPY_MODEL_435ecb921b3d486385eb8bfdf9e0268b",
            "_dom_classes": [],
            "description": "",
            "_model_name": "HTMLModel",
            "placeholder": "​",
            "_view_module": "@jupyter-widgets/controls",
            "_model_module_version": "1.5.0",
            "value": " 232k/232k [00:00&lt;00:00, 619kB/s]",
            "_view_count": null,
            "_view_module_version": "1.5.0",
            "description_tooltip": null,
            "_model_module": "@jupyter-widgets/controls",
            "layout": "IPY_MODEL_998e2b61aebd416e9db18b4619e5455e"
          }
        },
        "a51282bb2a9846cb877cd58c252686dc": {
          "model_module": "@jupyter-widgets/controls",
          "model_name": "ProgressStyleModel",
          "state": {
            "_view_name": "StyleView",
            "_model_name": "ProgressStyleModel",
            "description_width": "initial",
            "_view_module": "@jupyter-widgets/base",
            "_model_module_version": "1.5.0",
            "_view_count": null,
            "_view_module_version": "1.2.0",
            "bar_color": null,
            "_model_module": "@jupyter-widgets/controls"
          }
        },
        "558550951a6f48df815b1999663d68d3": {
          "model_module": "@jupyter-widgets/base",
          "model_name": "LayoutModel",
          "state": {
            "_view_name": "LayoutView",
            "grid_template_rows": null,
            "right": null,
            "justify_content": null,
            "_view_module": "@jupyter-widgets/base",
            "overflow": null,
            "_model_module_version": "1.2.0",
            "_view_count": null,
            "flex_flow": null,
            "width": null,
            "min_width": null,
            "border": null,
            "align_items": null,
            "bottom": null,
            "_model_module": "@jupyter-widgets/base",
            "top": null,
            "grid_column": null,
            "overflow_y": null,
            "overflow_x": null,
            "grid_auto_flow": null,
            "grid_area": null,
            "grid_template_columns": null,
            "flex": null,
            "_model_name": "LayoutModel",
            "justify_items": null,
            "grid_row": null,
            "max_height": null,
            "align_content": null,
            "visibility": null,
            "align_self": null,
            "height": null,
            "min_height": null,
            "padding": null,
            "grid_auto_rows": null,
            "grid_gap": null,
            "max_width": null,
            "order": null,
            "_view_module_version": "1.2.0",
            "grid_template_areas": null,
            "object_position": null,
            "object_fit": null,
            "grid_auto_columns": null,
            "margin": null,
            "display": null,
            "left": null
          }
        },
        "435ecb921b3d486385eb8bfdf9e0268b": {
          "model_module": "@jupyter-widgets/controls",
          "model_name": "DescriptionStyleModel",
          "state": {
            "_view_name": "StyleView",
            "_model_name": "DescriptionStyleModel",
            "description_width": "",
            "_view_module": "@jupyter-widgets/base",
            "_model_module_version": "1.5.0",
            "_view_count": null,
            "_view_module_version": "1.2.0",
            "_model_module": "@jupyter-widgets/controls"
          }
        },
        "998e2b61aebd416e9db18b4619e5455e": {
          "model_module": "@jupyter-widgets/base",
          "model_name": "LayoutModel",
          "state": {
            "_view_name": "LayoutView",
            "grid_template_rows": null,
            "right": null,
            "justify_content": null,
            "_view_module": "@jupyter-widgets/base",
            "overflow": null,
            "_model_module_version": "1.2.0",
            "_view_count": null,
            "flex_flow": null,
            "width": null,
            "min_width": null,
            "border": null,
            "align_items": null,
            "bottom": null,
            "_model_module": "@jupyter-widgets/base",
            "top": null,
            "grid_column": null,
            "overflow_y": null,
            "overflow_x": null,
            "grid_auto_flow": null,
            "grid_area": null,
            "grid_template_columns": null,
            "flex": null,
            "_model_name": "LayoutModel",
            "justify_items": null,
            "grid_row": null,
            "max_height": null,
            "align_content": null,
            "visibility": null,
            "align_self": null,
            "height": null,
            "min_height": null,
            "padding": null,
            "grid_auto_rows": null,
            "grid_gap": null,
            "max_width": null,
            "order": null,
            "_view_module_version": "1.2.0",
            "grid_template_areas": null,
            "object_position": null,
            "object_fit": null,
            "grid_auto_columns": null,
            "margin": null,
            "display": null,
            "left": null
          }
        },
        "c728df5bfdbb4d66ab4197db02b449a1": {
          "model_module": "@jupyter-widgets/controls",
          "model_name": "HBoxModel",
          "state": {
            "_view_name": "HBoxView",
            "_dom_classes": [],
            "_model_name": "HBoxModel",
            "_view_module": "@jupyter-widgets/controls",
            "_model_module_version": "1.5.0",
            "_view_count": null,
            "_view_module_version": "1.5.0",
            "box_style": "",
            "layout": "IPY_MODEL_365a99b7bfd7454aa85ce6773f7534fd",
            "_model_module": "@jupyter-widgets/controls",
            "children": [
              "IPY_MODEL_23861220e40e466c8de624d7d6fcee1e",
              "IPY_MODEL_55b44fd5827b4d74bec2b62f697aaf69"
            ]
          }
        },
        "365a99b7bfd7454aa85ce6773f7534fd": {
          "model_module": "@jupyter-widgets/base",
          "model_name": "LayoutModel",
          "state": {
            "_view_name": "LayoutView",
            "grid_template_rows": null,
            "right": null,
            "justify_content": null,
            "_view_module": "@jupyter-widgets/base",
            "overflow": null,
            "_model_module_version": "1.2.0",
            "_view_count": null,
            "flex_flow": null,
            "width": null,
            "min_width": null,
            "border": null,
            "align_items": null,
            "bottom": null,
            "_model_module": "@jupyter-widgets/base",
            "top": null,
            "grid_column": null,
            "overflow_y": null,
            "overflow_x": null,
            "grid_auto_flow": null,
            "grid_area": null,
            "grid_template_columns": null,
            "flex": null,
            "_model_name": "LayoutModel",
            "justify_items": null,
            "grid_row": null,
            "max_height": null,
            "align_content": null,
            "visibility": null,
            "align_self": null,
            "height": null,
            "min_height": null,
            "padding": null,
            "grid_auto_rows": null,
            "grid_gap": null,
            "max_width": null,
            "order": null,
            "_view_module_version": "1.2.0",
            "grid_template_areas": null,
            "object_position": null,
            "object_fit": null,
            "grid_auto_columns": null,
            "margin": null,
            "display": null,
            "left": null
          }
        },
        "23861220e40e466c8de624d7d6fcee1e": {
          "model_module": "@jupyter-widgets/controls",
          "model_name": "FloatProgressModel",
          "state": {
            "_view_name": "ProgressView",
            "style": "IPY_MODEL_eba51004cb3645b3903b8e7af3c2238e",
            "_dom_classes": [],
            "description": "Downloading: 100%",
            "_model_name": "FloatProgressModel",
            "bar_style": "success",
            "max": 433,
            "_view_module": "@jupyter-widgets/controls",
            "_model_module_version": "1.5.0",
            "value": 433,
            "_view_count": null,
            "_view_module_version": "1.5.0",
            "orientation": "horizontal",
            "min": 0,
            "description_tooltip": null,
            "_model_module": "@jupyter-widgets/controls",
            "layout": "IPY_MODEL_04068479d90d476689a5701d17cef17e"
          }
        },
        "55b44fd5827b4d74bec2b62f697aaf69": {
          "model_module": "@jupyter-widgets/controls",
          "model_name": "HTMLModel",
          "state": {
            "_view_name": "HTMLView",
            "style": "IPY_MODEL_6a0fb9baea8e40329a7eb93236b2882a",
            "_dom_classes": [],
            "description": "",
            "_model_name": "HTMLModel",
            "placeholder": "​",
            "_view_module": "@jupyter-widgets/controls",
            "_model_module_version": "1.5.0",
            "value": " 433/433 [00:00&lt;00:00, 1.13kB/s]",
            "_view_count": null,
            "_view_module_version": "1.5.0",
            "description_tooltip": null,
            "_model_module": "@jupyter-widgets/controls",
            "layout": "IPY_MODEL_850f43cf66d1487996d024d03c897180"
          }
        },
        "eba51004cb3645b3903b8e7af3c2238e": {
          "model_module": "@jupyter-widgets/controls",
          "model_name": "ProgressStyleModel",
          "state": {
            "_view_name": "StyleView",
            "_model_name": "ProgressStyleModel",
            "description_width": "initial",
            "_view_module": "@jupyter-widgets/base",
            "_model_module_version": "1.5.0",
            "_view_count": null,
            "_view_module_version": "1.2.0",
            "bar_color": null,
            "_model_module": "@jupyter-widgets/controls"
          }
        },
        "04068479d90d476689a5701d17cef17e": {
          "model_module": "@jupyter-widgets/base",
          "model_name": "LayoutModel",
          "state": {
            "_view_name": "LayoutView",
            "grid_template_rows": null,
            "right": null,
            "justify_content": null,
            "_view_module": "@jupyter-widgets/base",
            "overflow": null,
            "_model_module_version": "1.2.0",
            "_view_count": null,
            "flex_flow": null,
            "width": null,
            "min_width": null,
            "border": null,
            "align_items": null,
            "bottom": null,
            "_model_module": "@jupyter-widgets/base",
            "top": null,
            "grid_column": null,
            "overflow_y": null,
            "overflow_x": null,
            "grid_auto_flow": null,
            "grid_area": null,
            "grid_template_columns": null,
            "flex": null,
            "_model_name": "LayoutModel",
            "justify_items": null,
            "grid_row": null,
            "max_height": null,
            "align_content": null,
            "visibility": null,
            "align_self": null,
            "height": null,
            "min_height": null,
            "padding": null,
            "grid_auto_rows": null,
            "grid_gap": null,
            "max_width": null,
            "order": null,
            "_view_module_version": "1.2.0",
            "grid_template_areas": null,
            "object_position": null,
            "object_fit": null,
            "grid_auto_columns": null,
            "margin": null,
            "display": null,
            "left": null
          }
        },
        "6a0fb9baea8e40329a7eb93236b2882a": {
          "model_module": "@jupyter-widgets/controls",
          "model_name": "DescriptionStyleModel",
          "state": {
            "_view_name": "StyleView",
            "_model_name": "DescriptionStyleModel",
            "description_width": "",
            "_view_module": "@jupyter-widgets/base",
            "_model_module_version": "1.5.0",
            "_view_count": null,
            "_view_module_version": "1.2.0",
            "_model_module": "@jupyter-widgets/controls"
          }
        },
        "850f43cf66d1487996d024d03c897180": {
          "model_module": "@jupyter-widgets/base",
          "model_name": "LayoutModel",
          "state": {
            "_view_name": "LayoutView",
            "grid_template_rows": null,
            "right": null,
            "justify_content": null,
            "_view_module": "@jupyter-widgets/base",
            "overflow": null,
            "_model_module_version": "1.2.0",
            "_view_count": null,
            "flex_flow": null,
            "width": null,
            "min_width": null,
            "border": null,
            "align_items": null,
            "bottom": null,
            "_model_module": "@jupyter-widgets/base",
            "top": null,
            "grid_column": null,
            "overflow_y": null,
            "overflow_x": null,
            "grid_auto_flow": null,
            "grid_area": null,
            "grid_template_columns": null,
            "flex": null,
            "_model_name": "LayoutModel",
            "justify_items": null,
            "grid_row": null,
            "max_height": null,
            "align_content": null,
            "visibility": null,
            "align_self": null,
            "height": null,
            "min_height": null,
            "padding": null,
            "grid_auto_rows": null,
            "grid_gap": null,
            "max_width": null,
            "order": null,
            "_view_module_version": "1.2.0",
            "grid_template_areas": null,
            "object_position": null,
            "object_fit": null,
            "grid_auto_columns": null,
            "margin": null,
            "display": null,
            "left": null
          }
        },
        "d5db4c9862fc488695d9b048c2f85143": {
          "model_module": "@jupyter-widgets/controls",
          "model_name": "HBoxModel",
          "state": {
            "_view_name": "HBoxView",
            "_dom_classes": [],
            "_model_name": "HBoxModel",
            "_view_module": "@jupyter-widgets/controls",
            "_model_module_version": "1.5.0",
            "_view_count": null,
            "_view_module_version": "1.5.0",
            "box_style": "",
            "layout": "IPY_MODEL_6fe946da720646afb0b8d60a8a0968fc",
            "_model_module": "@jupyter-widgets/controls",
            "children": [
              "IPY_MODEL_91b4498dcdc44d928264bab1c007469f",
              "IPY_MODEL_d72f9b93de2f4921a3de590f8753a4e4"
            ]
          }
        },
        "6fe946da720646afb0b8d60a8a0968fc": {
          "model_module": "@jupyter-widgets/base",
          "model_name": "LayoutModel",
          "state": {
            "_view_name": "LayoutView",
            "grid_template_rows": null,
            "right": null,
            "justify_content": null,
            "_view_module": "@jupyter-widgets/base",
            "overflow": null,
            "_model_module_version": "1.2.0",
            "_view_count": null,
            "flex_flow": null,
            "width": null,
            "min_width": null,
            "border": null,
            "align_items": null,
            "bottom": null,
            "_model_module": "@jupyter-widgets/base",
            "top": null,
            "grid_column": null,
            "overflow_y": null,
            "overflow_x": null,
            "grid_auto_flow": null,
            "grid_area": null,
            "grid_template_columns": null,
            "flex": null,
            "_model_name": "LayoutModel",
            "justify_items": null,
            "grid_row": null,
            "max_height": null,
            "align_content": null,
            "visibility": null,
            "align_self": null,
            "height": null,
            "min_height": null,
            "padding": null,
            "grid_auto_rows": null,
            "grid_gap": null,
            "max_width": null,
            "order": null,
            "_view_module_version": "1.2.0",
            "grid_template_areas": null,
            "object_position": null,
            "object_fit": null,
            "grid_auto_columns": null,
            "margin": null,
            "display": null,
            "left": null
          }
        },
        "91b4498dcdc44d928264bab1c007469f": {
          "model_module": "@jupyter-widgets/controls",
          "model_name": "FloatProgressModel",
          "state": {
            "_view_name": "ProgressView",
            "style": "IPY_MODEL_6c4720577d814936afe6604bbe0d2884",
            "_dom_classes": [],
            "description": "Downloading: 100%",
            "_model_name": "FloatProgressModel",
            "bar_style": "success",
            "max": 440473133,
            "_view_module": "@jupyter-widgets/controls",
            "_model_module_version": "1.5.0",
            "value": 440473133,
            "_view_count": null,
            "_view_module_version": "1.5.0",
            "orientation": "horizontal",
            "min": 0,
            "description_tooltip": null,
            "_model_module": "@jupyter-widgets/controls",
            "layout": "IPY_MODEL_7981332530b84b82987553e7cae29b52"
          }
        },
        "d72f9b93de2f4921a3de590f8753a4e4": {
          "model_module": "@jupyter-widgets/controls",
          "model_name": "HTMLModel",
          "state": {
            "_view_name": "HTMLView",
            "style": "IPY_MODEL_de8ff7fdeadd43d68fb25b55748e0746",
            "_dom_classes": [],
            "description": "",
            "_model_name": "HTMLModel",
            "placeholder": "​",
            "_view_module": "@jupyter-widgets/controls",
            "_model_module_version": "1.5.0",
            "value": " 440M/440M [00:23&lt;00:00, 18.5MB/s]",
            "_view_count": null,
            "_view_module_version": "1.5.0",
            "description_tooltip": null,
            "_model_module": "@jupyter-widgets/controls",
            "layout": "IPY_MODEL_2defaad0cb4845b98fe3ec403f392c42"
          }
        },
        "6c4720577d814936afe6604bbe0d2884": {
          "model_module": "@jupyter-widgets/controls",
          "model_name": "ProgressStyleModel",
          "state": {
            "_view_name": "StyleView",
            "_model_name": "ProgressStyleModel",
            "description_width": "initial",
            "_view_module": "@jupyter-widgets/base",
            "_model_module_version": "1.5.0",
            "_view_count": null,
            "_view_module_version": "1.2.0",
            "bar_color": null,
            "_model_module": "@jupyter-widgets/controls"
          }
        },
        "7981332530b84b82987553e7cae29b52": {
          "model_module": "@jupyter-widgets/base",
          "model_name": "LayoutModel",
          "state": {
            "_view_name": "LayoutView",
            "grid_template_rows": null,
            "right": null,
            "justify_content": null,
            "_view_module": "@jupyter-widgets/base",
            "overflow": null,
            "_model_module_version": "1.2.0",
            "_view_count": null,
            "flex_flow": null,
            "width": null,
            "min_width": null,
            "border": null,
            "align_items": null,
            "bottom": null,
            "_model_module": "@jupyter-widgets/base",
            "top": null,
            "grid_column": null,
            "overflow_y": null,
            "overflow_x": null,
            "grid_auto_flow": null,
            "grid_area": null,
            "grid_template_columns": null,
            "flex": null,
            "_model_name": "LayoutModel",
            "justify_items": null,
            "grid_row": null,
            "max_height": null,
            "align_content": null,
            "visibility": null,
            "align_self": null,
            "height": null,
            "min_height": null,
            "padding": null,
            "grid_auto_rows": null,
            "grid_gap": null,
            "max_width": null,
            "order": null,
            "_view_module_version": "1.2.0",
            "grid_template_areas": null,
            "object_position": null,
            "object_fit": null,
            "grid_auto_columns": null,
            "margin": null,
            "display": null,
            "left": null
          }
        },
        "de8ff7fdeadd43d68fb25b55748e0746": {
          "model_module": "@jupyter-widgets/controls",
          "model_name": "DescriptionStyleModel",
          "state": {
            "_view_name": "StyleView",
            "_model_name": "DescriptionStyleModel",
            "description_width": "",
            "_view_module": "@jupyter-widgets/base",
            "_model_module_version": "1.5.0",
            "_view_count": null,
            "_view_module_version": "1.2.0",
            "_model_module": "@jupyter-widgets/controls"
          }
        },
        "2defaad0cb4845b98fe3ec403f392c42": {
          "model_module": "@jupyter-widgets/base",
          "model_name": "LayoutModel",
          "state": {
            "_view_name": "LayoutView",
            "grid_template_rows": null,
            "right": null,
            "justify_content": null,
            "_view_module": "@jupyter-widgets/base",
            "overflow": null,
            "_model_module_version": "1.2.0",
            "_view_count": null,
            "flex_flow": null,
            "width": null,
            "min_width": null,
            "border": null,
            "align_items": null,
            "bottom": null,
            "_model_module": "@jupyter-widgets/base",
            "top": null,
            "grid_column": null,
            "overflow_y": null,
            "overflow_x": null,
            "grid_auto_flow": null,
            "grid_area": null,
            "grid_template_columns": null,
            "flex": null,
            "_model_name": "LayoutModel",
            "justify_items": null,
            "grid_row": null,
            "max_height": null,
            "align_content": null,
            "visibility": null,
            "align_self": null,
            "height": null,
            "min_height": null,
            "padding": null,
            "grid_auto_rows": null,
            "grid_gap": null,
            "max_width": null,
            "order": null,
            "_view_module_version": "1.2.0",
            "grid_template_areas": null,
            "object_position": null,
            "object_fit": null,
            "grid_auto_columns": null,
            "margin": null,
            "display": null,
            "left": null
          }
        }
      }
    }
  },
  "cells": [
    {
      "cell_type": "markdown",
      "metadata": {
        "id": "view-in-github",
        "colab_type": "text"
      },
      "source": [
        "<a href=\"https://colab.research.google.com/github/spatiebalk/text_mining_project/blob/master/score_generated_texts_hp.ipynb\" target=\"_parent\"><img src=\"https://colab.research.google.com/assets/colab-badge.svg\" alt=\"Open In Colab\"/></a>"
      ]
    },
    {
      "cell_type": "markdown",
      "metadata": {
        "id": "Xrgq5Sa-Mjy9"
      },
      "source": [
        "## Scoring generated texts"
      ]
    },
    {
      "cell_type": "markdown",
      "metadata": {
        "id": "ARj1U5OsMjzI"
      },
      "source": [
        "Inputs to `score` are a list of candidate sentences and a list of reference sentences. "
      ]
    },
    {
      "cell_type": "code",
      "metadata": {
        "id": "SH1lJxsIMjzJ",
        "colab": {
          "base_uri": "https://localhost:8080/"
        },
        "outputId": "7a2095d4-4acc-45ea-f07a-53f11f8b76b6"
      },
      "source": [
        "from google.colab import drive\n",
        "drive.mount('/content/gdrive')"
      ],
      "execution_count": 1,
      "outputs": [
        {
          "output_type": "stream",
          "text": [
            "Mounted at /content/gdrive\n"
          ],
          "name": "stdout"
        }
      ]
    },
    {
      "cell_type": "code",
      "metadata": {
        "colab": {
          "base_uri": "https://localhost:8080/"
        },
        "id": "V8KTQvko_DPy",
        "outputId": "6880907a-d38d-457c-d36f-604ae246faa3"
      },
      "source": [
        "# needed imports\r\n",
        "import nltk\r\n",
        "nltk.download('punkt')\r\n",
        "from nltk.tokenize import word_tokenize\r\n",
        "import time \r\n",
        "import json\r\n",
        "import nltk.data\r\n",
        "sent_detector = nltk.data.load('tokenizers/punkt/english.pickle')"
      ],
      "execution_count": 2,
      "outputs": [
        {
          "output_type": "stream",
          "text": [
            "[nltk_data] Downloading package punkt to /root/nltk_data...\n",
            "[nltk_data]   Unzipping tokenizers/punkt.zip.\n"
          ],
          "name": "stdout"
        }
      ]
    },
    {
      "cell_type": "code",
      "metadata": {
        "id": "jGBKaetJVCIk"
      },
      "source": [
        "text = open('/content/gdrive/My Drive/TxMM/harrypotter.txt').read()\r\n",
        "text_tokens = [word_tokenize(sent) for sent in sent_detector.tokenize(text.strip())]"
      ],
      "execution_count": 3,
      "outputs": []
    },
    {
      "cell_type": "code",
      "metadata": {
        "colab": {
          "base_uri": "https://localhost:8080/"
        },
        "id": "IfkXJsKupFjg",
        "outputId": "7bd1b0d2-5717-4c1c-ef0b-7a913d873e67"
      },
      "source": [
        "from nltk.translate.bleu_score import sentence_bleu\r\n",
        "!pip install rouge-score\r\n",
        "from rouge_score import rouge_scorer\r\n",
        "!pip install transformers\r\n",
        "import torch\r\n",
        "from transformers import BertTokenizer, BertModel\r\n",
        "import numpy as np\r\n",
        "from tqdm import tqdm\r\n",
        "from sklearn.metrics.pairwise import cosine_similarity"
      ],
      "execution_count": 4,
      "outputs": [
        {
          "output_type": "stream",
          "text": [
            "Collecting rouge-score\n",
            "  Downloading https://files.pythonhosted.org/packages/1f/56/a81022436c08b9405a5247b71635394d44fe7e1dbedc4b28c740e09c2840/rouge_score-0.0.4-py2.py3-none-any.whl\n",
            "Requirement already satisfied: nltk in /usr/local/lib/python3.6/dist-packages (from rouge-score) (3.2.5)\n",
            "Requirement already satisfied: six>=1.14.0 in /usr/local/lib/python3.6/dist-packages (from rouge-score) (1.15.0)\n",
            "Requirement already satisfied: numpy in /usr/local/lib/python3.6/dist-packages (from rouge-score) (1.19.4)\n",
            "Requirement already satisfied: absl-py in /usr/local/lib/python3.6/dist-packages (from rouge-score) (0.10.0)\n",
            "Installing collected packages: rouge-score\n",
            "Successfully installed rouge-score-0.0.4\n",
            "Collecting transformers\n",
            "\u001b[?25l  Downloading https://files.pythonhosted.org/packages/50/0c/7d5950fcd80b029be0a8891727ba21e0cd27692c407c51261c3c921f6da3/transformers-4.1.1-py3-none-any.whl (1.5MB)\n",
            "\u001b[K     |████████████████████████████████| 1.5MB 11.1MB/s \n",
            "\u001b[?25hRequirement already satisfied: dataclasses; python_version < \"3.7\" in /usr/local/lib/python3.6/dist-packages (from transformers) (0.8)\n",
            "Requirement already satisfied: regex!=2019.12.17 in /usr/local/lib/python3.6/dist-packages (from transformers) (2019.12.20)\n",
            "Requirement already satisfied: numpy in /usr/local/lib/python3.6/dist-packages (from transformers) (1.19.4)\n",
            "Requirement already satisfied: tqdm>=4.27 in /usr/local/lib/python3.6/dist-packages (from transformers) (4.41.1)\n",
            "Requirement already satisfied: packaging in /usr/local/lib/python3.6/dist-packages (from transformers) (20.8)\n",
            "Collecting tokenizers==0.9.4\n",
            "\u001b[?25l  Downloading https://files.pythonhosted.org/packages/0f/1c/e789a8b12e28be5bc1ce2156cf87cb522b379be9cadc7ad8091a4cc107c4/tokenizers-0.9.4-cp36-cp36m-manylinux2010_x86_64.whl (2.9MB)\n",
            "\u001b[K     |████████████████████████████████| 2.9MB 37.4MB/s \n",
            "\u001b[?25hRequirement already satisfied: filelock in /usr/local/lib/python3.6/dist-packages (from transformers) (3.0.12)\n",
            "Requirement already satisfied: requests in /usr/local/lib/python3.6/dist-packages (from transformers) (2.23.0)\n",
            "Collecting sacremoses\n",
            "\u001b[?25l  Downloading https://files.pythonhosted.org/packages/7d/34/09d19aff26edcc8eb2a01bed8e98f13a1537005d31e95233fd48216eed10/sacremoses-0.0.43.tar.gz (883kB)\n",
            "\u001b[K     |████████████████████████████████| 890kB 42.9MB/s \n",
            "\u001b[?25hRequirement already satisfied: pyparsing>=2.0.2 in /usr/local/lib/python3.6/dist-packages (from packaging->transformers) (2.4.7)\n",
            "Requirement already satisfied: certifi>=2017.4.17 in /usr/local/lib/python3.6/dist-packages (from requests->transformers) (2020.12.5)\n",
            "Requirement already satisfied: urllib3!=1.25.0,!=1.25.1,<1.26,>=1.21.1 in /usr/local/lib/python3.6/dist-packages (from requests->transformers) (1.24.3)\n",
            "Requirement already satisfied: chardet<4,>=3.0.2 in /usr/local/lib/python3.6/dist-packages (from requests->transformers) (3.0.4)\n",
            "Requirement already satisfied: idna<3,>=2.5 in /usr/local/lib/python3.6/dist-packages (from requests->transformers) (2.10)\n",
            "Requirement already satisfied: six in /usr/local/lib/python3.6/dist-packages (from sacremoses->transformers) (1.15.0)\n",
            "Requirement already satisfied: click in /usr/local/lib/python3.6/dist-packages (from sacremoses->transformers) (7.1.2)\n",
            "Requirement already satisfied: joblib in /usr/local/lib/python3.6/dist-packages (from sacremoses->transformers) (1.0.0)\n",
            "Building wheels for collected packages: sacremoses\n",
            "  Building wheel for sacremoses (setup.py) ... \u001b[?25l\u001b[?25hdone\n",
            "  Created wheel for sacremoses: filename=sacremoses-0.0.43-cp36-none-any.whl size=893261 sha256=5bdc96a848a364bfcb69d95d7c75527d5a813b527d1a804beb862c9533126972\n",
            "  Stored in directory: /root/.cache/pip/wheels/29/3c/fd/7ce5c3f0666dab31a50123635e6fb5e19ceb42ce38d4e58f45\n",
            "Successfully built sacremoses\n",
            "Installing collected packages: tokenizers, sacremoses, transformers\n",
            "Successfully installed sacremoses-0.0.43 tokenizers-0.9.4 transformers-4.1.1\n"
          ],
          "name": "stdout"
        }
      ]
    },
    {
      "cell_type": "code",
      "metadata": {
        "colab": {
          "base_uri": "https://localhost:8080/",
          "height": 164,
          "referenced_widgets": [
            "63fd60606dcd4f848e6f03dd997e1674",
            "ae86478a5a9a469089bbe693e1e6a131",
            "c2c464efba6f4eada807088946d573ca",
            "48bdf8d71dcb4e72b125ec84abd7b507",
            "a51282bb2a9846cb877cd58c252686dc",
            "558550951a6f48df815b1999663d68d3",
            "435ecb921b3d486385eb8bfdf9e0268b",
            "998e2b61aebd416e9db18b4619e5455e",
            "c728df5bfdbb4d66ab4197db02b449a1",
            "365a99b7bfd7454aa85ce6773f7534fd",
            "23861220e40e466c8de624d7d6fcee1e",
            "55b44fd5827b4d74bec2b62f697aaf69",
            "eba51004cb3645b3903b8e7af3c2238e",
            "04068479d90d476689a5701d17cef17e",
            "6a0fb9baea8e40329a7eb93236b2882a",
            "850f43cf66d1487996d024d03c897180",
            "d5db4c9862fc488695d9b048c2f85143",
            "6fe946da720646afb0b8d60a8a0968fc",
            "91b4498dcdc44d928264bab1c007469f",
            "d72f9b93de2f4921a3de590f8753a4e4",
            "6c4720577d814936afe6604bbe0d2884",
            "7981332530b84b82987553e7cae29b52",
            "de8ff7fdeadd43d68fb25b55748e0746",
            "2defaad0cb4845b98fe3ec403f392c42"
          ]
        },
        "id": "0GVwhBEPEFrS",
        "outputId": "afeb5d29-ef37-473f-e904-652f9aaec253"
      },
      "source": [
        "BERT_tokenizer = BertTokenizer.from_pretrained('bert-base-uncased')\r\n",
        "BERT_model = BertModel.from_pretrained('bert-base-uncased')"
      ],
      "execution_count": 5,
      "outputs": [
        {
          "output_type": "display_data",
          "data": {
            "application/vnd.jupyter.widget-view+json": {
              "model_id": "63fd60606dcd4f848e6f03dd997e1674",
              "version_minor": 0,
              "version_major": 2
            },
            "text/plain": [
              "HBox(children=(FloatProgress(value=0.0, description='Downloading', max=231508.0, style=ProgressStyle(descripti…"
            ]
          },
          "metadata": {
            "tags": []
          }
        },
        {
          "output_type": "stream",
          "text": [
            "\n"
          ],
          "name": "stdout"
        },
        {
          "output_type": "display_data",
          "data": {
            "application/vnd.jupyter.widget-view+json": {
              "model_id": "c728df5bfdbb4d66ab4197db02b449a1",
              "version_minor": 0,
              "version_major": 2
            },
            "text/plain": [
              "HBox(children=(FloatProgress(value=0.0, description='Downloading', max=433.0, style=ProgressStyle(description_…"
            ]
          },
          "metadata": {
            "tags": []
          }
        },
        {
          "output_type": "stream",
          "text": [
            "\n"
          ],
          "name": "stdout"
        },
        {
          "output_type": "display_data",
          "data": {
            "application/vnd.jupyter.widget-view+json": {
              "model_id": "d5db4c9862fc488695d9b048c2f85143",
              "version_minor": 0,
              "version_major": 2
            },
            "text/plain": [
              "HBox(children=(FloatProgress(value=0.0, description='Downloading', max=440473133.0, style=ProgressStyle(descri…"
            ]
          },
          "metadata": {
            "tags": []
          }
        },
        {
          "output_type": "stream",
          "text": [
            "\n"
          ],
          "name": "stdout"
        }
      ]
    },
    {
      "cell_type": "markdown",
      "metadata": {
        "id": "vju-AghOUS4z"
      },
      "source": [
        "# GRU"
      ]
    },
    {
      "cell_type": "code",
      "metadata": {
        "id": "oJ_toy3YUW0P"
      },
      "source": [
        "with open('/content/gdrive/My Drive/TxMM/GRU_results/hp_generated_texts.json') as json_file: \r\n",
        "    generated_text = json.load(json_file) "
      ],
      "execution_count": 6,
      "outputs": []
    },
    {
      "cell_type": "markdown",
      "metadata": {
        "id": "Ve1nqhHjC7NU"
      },
      "source": [
        "## BLEU score\r\n",
        "Between 0 and 1, where 1 is similar."
      ]
    },
    {
      "cell_type": "code",
      "metadata": {
        "colab": {
          "base_uri": "https://localhost:8080/"
        },
        "id": "qwQo8nvjzocH",
        "outputId": "1825cc1b-649a-42c9-813d-959704b79393"
      },
      "source": [
        "score_dict_BLEU = {}\r\n",
        "start = time.time()\r\n",
        "\r\n",
        "for i in range(0, 100):\r\n",
        "  gen_text = generated_text[str(i)]\r\n",
        "  gen_text_sent = word_tokenize(gen_text)\r\n",
        "\r\n",
        "  BLEUscore = sentence_bleu(text_tokens, gen_text_sent, weights = (0, 0, 1, 0))\r\n",
        "  score_dict_BLEU[i] = BLEUscore\r\n",
        "\r\n",
        "end = time.time()\r\n",
        "print(\"This took {:.2f} minutes\".format((end-start)/60))\r\n",
        "with open('/content/gdrive/My Drive/TxMM/GRU_results/hp_scores_BLEU.json', 'w') as fp:\r\n",
        "  json.dump(score_dict_BLEU, fp)\r\n",
        "\r\n",
        "del score_dict_BLEU"
      ],
      "execution_count": null,
      "outputs": [
        {
          "output_type": "stream",
          "text": [
            "[nltk_data] Downloading package punkt to /root/nltk_data...\n",
            "[nltk_data]   Package punkt is already up-to-date!\n",
            "<class 'list'>\n",
            "['rry', 'Potter', 'and', 'the', 'Sorcerer', \"'s\", 'Stone', 'CHAPTER', 'ONE', 'THE', 'BOY', 'WHO', 'LIVED', 'Mr.', 'and', 'Mrs.', 'Dursley', ',', 'of', 'number', 'four', ',', 'Privet', 'Drive', ',', 'were', 'proud', 'to', 'say', 'that', 'they', 'were', 'perfectly', 'normal', ',', 'thank', 'you', 'very', 'much', '.'] <class 'list'>\n",
            "<class 'str'>\n",
            "<class 'list'>\n",
            "85748\n",
            "['was', 'no', 'longer', 'a', 'bit', 'of', 'the', 'potion', 'with', 'the', 'prophecy', '.', 'He', 'stopped', 'to', 'the', 'first', 'time', 'to', 'get', 'the', 'sound', 'of', 'the', 'wizard', 'to', 'stay', 'with', 'the', 'sound', 'of', 'Ron', 'and', 'Hermione', 'slithered', 'at', 'the', 'tiny', 'part', 'of', 'them', ',', 'even', 'though', 'he', 'was', 'still', 'concerned', 'at', 'the', 'silver', 'staircase', 'on', 'the', 'statue', 'when', 'he', 'added', 'and', 'the', 'handsome', 'thing', 'there', 'about', 'it', '.', 'He', 'was', 'doing', 'the', 'locket', 'and', 'down', 'the', 'ward', 'and', 'pulled', 'the', 'silver', 'staircase', 'and', 'said', ',', '``', 'You', 'must', 'not', 'take', 'you', 'to', 'have', 'made', 'to', 'make', 'out', 'the', 'horrible', 'explanation', 'of', 'the', 'explosion', 'is', 'now', '.', 'He', 'looked', 'as', 'though', 'the', 'statue', 'of', 'the', 'wand', 'of', 'the', 'red', 'eyes', 'before', 'the', 'people', 'with', 'a', 'single', 'sleeping', 'boy', 'with', 'a', 'corner', ',', 'and', 'Ron', 'and', 'Hermione', 'was', 'standing', 'at', 'the', 'floor', 'to', 'the', 'staircase', 'to', 'the', 'back', 'of', 'his', 'hand', 'in', 'the', 'other', 'side', 'of', 'the', 'mistletoe', '.', 'The', 'sound', 'of', 'the', 'scar', 'on', 'the', 'ground', 'behind', 'them', '.', '``', 'Where', '’', 's', 'Hermione', 'was', 'in', 'for', 'the', 'first', 'plan', 'of', 'the', 'sound', 'of', 'the', 'little', 'previous', 'small', 'old', 'parties', 'and', 'then', 'to', 'see', 'the', 'wand', 'toward', 'the', 'shop', 'behind', 'them', '.', '``', 'What', 'did', 'you', 'think', 'we', 'were', 'appearing', 'at', 'the', 'room', 'with', 'a', 'great', 'sunken', 'be']\n",
            "This took 0.51 minutes\n"
          ],
          "name": "stdout"
        }
      ]
    },
    {
      "cell_type": "markdown",
      "metadata": {
        "id": "H7p34tdRDAam"
      },
      "source": [
        "## ROUGE score\r\n",
        "Higher is more similar."
      ]
    },
    {
      "cell_type": "code",
      "metadata": {
        "id": "BFndA87gXx-S",
        "colab": {
          "base_uri": "https://localhost:8080/"
        },
        "outputId": "f1555f85-8838-4caf-b6aa-23a759aa6789"
      },
      "source": [
        "score_dict_ROUGE = {}\r\n",
        "start = time.time()\r\n",
        "\r\n",
        "for i in range(0, 100):\r\n",
        "  gen_text = generated_text[str(i)]\r\n",
        "  scorer = rouge_scorer.RougeScorer(['rouge3'], use_stemmer=True)\r\n",
        "\r\n",
        "  ROUGEscore = scorer.score(text, gen_text)\r\n",
        "  score_dict_ROUGE[i] = {\"P\": ROUGEscore[\"rouge3\"][0], \"R\": ROUGEscore[\"rouge3\"][1], \"F1\": ROUGEscore[\"rouge3\"][2]}\r\n",
        "\r\n",
        "end = time.time()\r\n",
        "print(\"This took {:.2f} minutes\".format((end-start)/60))\r\n",
        "with open('/content/gdrive/My Drive/TxMM/GRU_results/hp_scores_ROUGE.json', 'w') as fp:\r\n",
        "  json.dump(score_dict_ROUGE, fp)\r\n",
        "\r\n",
        "del score_dict_ROUGE"
      ],
      "execution_count": null,
      "outputs": [
        {
          "output_type": "stream",
          "text": [
            "This took 0.22 minutes\n"
          ],
          "name": "stdout"
        }
      ]
    },
    {
      "cell_type": "markdown",
      "metadata": {
        "id": "I2MrFzfZ8DC2"
      },
      "source": [
        "## BERT scores\r\n",
        "Higher is more similar (cosine similarity is used)."
      ]
    },
    {
      "cell_type": "markdown",
      "metadata": {
        "id": "nyg6lNQ0Rmr4"
      },
      "source": [
        "Split the reference text up into about chunks of 512 tokens, aka 3200 steps of about 1900 characters. For each chunk of tokens, calculate the average BERT embedding and add to list. Later we will compare the token of the generated text to each of these 3200 tokens and add the cosine similarity score to be able to score this generated text using BERT."
      ]
    },
    {
      "cell_type": "code",
      "metadata": {
        "colab": {
          "base_uri": "https://localhost:8080/"
        },
        "id": "Sz-U6Jw98PvY",
        "outputId": "c0715e79-7a34-4576-9f45-679dab3543cd"
      },
      "source": [
        "ref_text_embeddings = []\r\n",
        "i = 0\r\n",
        "\r\n",
        "steps = 3200\r\n",
        "par_len = int(len(text)/3200)\r\n",
        "\r\n",
        "assert steps * par_len <= len(text)\r\n",
        "\r\n",
        "for i in tqdm(range(0, steps)):\r\n",
        "\r\n",
        "  par = text[i*par_len:i*par_len+par_len]\r\n",
        "  inputs = BERT_tokenizer(par, truncation=True, return_tensors=\"pt\")\r\n",
        "  outputs = BERT_model(**inputs)\r\n",
        "\r\n",
        "  last_hidden_states = outputs.last_hidden_state\r\n",
        "  avg_embedding = torch.mean(last_hidden_states, dim=1)\r\n",
        "  avg_embedding = torch.squeeze(avg_embedding)\r\n",
        "  avg_embedding = avg_embedding.detach().numpy()\r\n",
        "\r\n",
        "  ref_text_embeddings.append(avg_embedding)"
      ],
      "execution_count": 7,
      "outputs": [
        {
          "output_type": "stream",
          "text": [
            "100%|██████████| 3200/3200 [1:30:38<00:00,  1.70s/it]\n"
          ],
          "name": "stderr"
        }
      ]
    },
    {
      "cell_type": "code",
      "metadata": {
        "id": "Mfl4g1EK8FU-"
      },
      "source": [
        "def BERTscore(ref_text_embeddings, gen_text):\r\n",
        "  sim = 0\r\n",
        "  for embed in ref_text_embeddings:\r\n",
        "    cos = cosine_similarity(embed.reshape(1, -1), gen_text.reshape(1, -1))\r\n",
        "    sim += cos[0][0]\r\n",
        "\r\n",
        "  float_len = float(len(ref_text_embeddings))\r\n",
        "  avg_sim = sim/float_len\r\n",
        "  assert isinstance(avg_sim, float), \"Not a float score\"\r\n",
        "  return avg_sim"
      ],
      "execution_count": 20,
      "outputs": []
    },
    {
      "cell_type": "code",
      "metadata": {
        "id": "eHhcPanapND8"
      },
      "source": [
        "score_dict_BERT = {}\r\n",
        "start = time.time()\r\n",
        "\r\n",
        "for i in range(0, 100):\r\n",
        "  gen_text = generated_text[str(i)]\r\n",
        "\r\n",
        "  # create BERT embedding\r\n",
        "  inputs = BERT_tokenizer(gen_text, truncation=True, return_tensors=\"pt\")\r\n",
        "  outputs = BERT_model(**inputs)\r\n",
        "\r\n",
        "  last_hidden_states = outputs.last_hidden_state\r\n",
        "  avg_embedding = torch.mean(last_hidden_states, dim=1)\r\n",
        "  avg_embedding = torch.squeeze(avg_embedding)\r\n",
        "  avg_embedding = avg_embedding.detach().numpy()\r\n",
        "\r\n",
        "  # compare gen_text with ref_text\r\n",
        "  sim = BERTscore(ref_text_embeddings, avg_embedding )\r\n",
        "\r\n",
        "  score_dict_BERT[i] = sim\r\n",
        "\r\n",
        "end = time.time()\r\n",
        "print(\"This took {:.2f} minutes\".format((end-start)/60))\r\n",
        "\r\n",
        "with open('/content/gdrive/My Drive/TxMM/GRU_results/hp_scores_BERT.json', 'w') as fp:\r\n",
        "  json.dump(score_dict_BERT, fp)\r\n",
        "\r\n",
        "del score_dict_BERT"
      ],
      "execution_count": null,
      "outputs": []
    },
    {
      "cell_type": "markdown",
      "metadata": {
        "id": "bZa0GIybUevT"
      },
      "source": [
        "# GPT-2"
      ]
    },
    {
      "cell_type": "code",
      "metadata": {
        "id": "ev3KE0qxUfyM"
      },
      "source": [
        "with open('/content/gdrive/My Drive/TxMM/GPT-2_results/hp_generated_texts.json') as json_file: \r\n",
        "    generated_text = json.load(json_file) "
      ],
      "execution_count": null,
      "outputs": []
    },
    {
      "cell_type": "markdown",
      "metadata": {
        "id": "4lamV8zeUnQV"
      },
      "source": [
        "## BLEU score\r\n",
        "Between 0 and 1, where 1 is similar."
      ]
    },
    {
      "cell_type": "code",
      "metadata": {
        "id": "cUNUz0uiUn0O"
      },
      "source": [
        "score_dict_BLEU = {}\r\n",
        "start = time.time()\r\n",
        "\r\n",
        "for i in range(0, 100):\r\n",
        "  gen_text = generated_text[str(i)]\r\n",
        "  gen_text_sent = word_tokenize(gen_text)\r\n",
        "\r\n",
        "  BLEUscore = sentence_bleu(text_tokens, gen_text_sent, weights = (0, 0, 1, 0))\r\n",
        "  score_dict_BLEU[i] = BLEUscore\r\n",
        "\r\n",
        "end = time.time()\r\n",
        "print(\"This took {:.2f} minutes\".format((end-start)/60))\r\n",
        "with open('/content/gdrive/My Drive/TxMM/GPT-2_results/hp_scores_BLEU.json', 'w') as fp:\r\n",
        "  json.dump(score_dict_BLEU, fp)\r\n",
        "\r\n",
        "del score_dict_BLEU"
      ],
      "execution_count": null,
      "outputs": []
    },
    {
      "cell_type": "markdown",
      "metadata": {
        "id": "vMvZdudnUujN"
      },
      "source": [
        "## ROUGE score\r\n",
        "Higher is more similar."
      ]
    },
    {
      "cell_type": "code",
      "metadata": {
        "id": "9jg-Ti1IUvGg"
      },
      "source": [
        "score_dict_ROUGE = {}\r\n",
        "start = time.time()\r\n",
        "\r\n",
        "for i in range(0, 100):\r\n",
        "  gen_text = generated_text[str(i)]\r\n",
        "  scorer = rouge_scorer.RougeScorer(['rouge3'], use_stemmer=True)\r\n",
        "\r\n",
        "  ROUGEscore = scorer.score(text, gen_text)\r\n",
        "  score_dict_ROUGE[i] = {\"P\": ROUGEscore[\"rouge3\"][0], \"R\": ROUGEscore[\"rouge3\"][1], \"F1\": ROUGEscore[\"rouge3\"][2]}\r\n",
        "\r\n",
        "end = time.time()\r\n",
        "print(\"This took {:.2f} minutes\".format((end-start)/60))\r\n",
        "with open('/content/gdrive/My Drive/TxMM/GPT-2_results/hp_scores_ROUGE.json', 'w') as fp:\r\n",
        "  json.dump(score_dict_ROUGE, fp)\r\n",
        "\r\n",
        "del score_dict_ROUGE"
      ],
      "execution_count": null,
      "outputs": []
    },
    {
      "cell_type": "markdown",
      "metadata": {
        "id": "Dqc1jFIgVYsO"
      },
      "source": [
        "## BERT scores\r\n",
        "Higher is more similar (cosine similarity is used)."
      ]
    },
    {
      "cell_type": "markdown",
      "metadata": {
        "id": "0STjqazPVVu0"
      },
      "source": [
        "Split the reference text up into about chunks of 512 tokens, aka 3200 steps of about 1900 characters. For each chunk of tokens, calculate the average BERT embedding and add to list. Later we will compare the token of the generated text to each of these 3200 tokens and add the cosine similarity score to be able to score this generated text using BERT."
      ]
    },
    {
      "cell_type": "code",
      "metadata": {
        "id": "2Hn0ZnN_VqFJ"
      },
      "source": [
        "score_dict_BERT = {}\r\n",
        "start = time.time()\r\n",
        "\r\n",
        "for i in range(0, 100):\r\n",
        "  gen_text = generated_text[str(i)]\r\n",
        "\r\n",
        "  # create BERT embedding\r\n",
        "  inputs = BERT_tokenizer(gen_text, truncation=True, return_tensors=\"pt\")\r\n",
        "  outputs = BERT_model(**inputs)\r\n",
        "\r\n",
        "  last_hidden_states = outputs.last_hidden_state\r\n",
        "  avg_embedding = torch.mean(last_hidden_states, dim=1)\r\n",
        "  avg_embedding = torch.squeeze(avg_embedding)\r\n",
        "  avg_embedding = avg_embedding.detach().numpy()\r\n",
        "\r\n",
        "  # compare gen_text with ref_text\r\n",
        "  sim = BERTscore(ref_text_embeddings, avg_embedding )\r\n",
        "\r\n",
        "  score_dict_BERT[i] = int(sim[0][0])\r\n",
        "\r\n",
        "end = time.time()\r\n",
        "print(\"This took {:.2f} minutes\".format((end-start)/60))\r\n",
        "\r\n",
        "with open('/content/gdrive/My Drive/TxMM/GPT-2_results/hp_scores_BERT.json', 'w') as fp:\r\n",
        "  json.dump(score_dict_BERT, fp)\r\n",
        "\r\n",
        "del score_dict_BERT"
      ],
      "execution_count": null,
      "outputs": []
    },
    {
      "cell_type": "code",
      "metadata": {
        "id": "Qu2mcAKcSJ1P"
      },
      "source": [
        ""
      ],
      "execution_count": null,
      "outputs": []
    }
  ]
}