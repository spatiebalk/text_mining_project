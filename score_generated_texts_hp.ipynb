{
  "nbformat": 4,
  "nbformat_minor": 0,
  "metadata": {
    "colab": {
      "name": "score-generated-texts-hp.ipynb",
      "provenance": [],
      "collapsed_sections": [],
      "toc_visible": true,
      "include_colab_link": true
    },
    "language_info": {
      "codemirror_mode": {
        "name": "ipython",
        "version": 3
      },
      "file_extension": ".py",
      "mimetype": "text/x-python",
      "name": "python",
      "nbconvert_exporter": "python",
      "pygments_lexer": "ipython3",
      "version": "3.6.7"
    },
    "kernelspec": {
      "name": "python3",
      "display_name": "Python 3"
    },
    "accelerator": "GPU",
    "widgets": {
      "application/vnd.jupyter.widget-state+json": {
        "bd9b86b8aecb4b54bd9807e841b69a63": {
          "model_module": "@jupyter-widgets/controls",
          "model_name": "HBoxModel",
          "state": {
            "_view_name": "HBoxView",
            "_dom_classes": [],
            "_model_name": "HBoxModel",
            "_view_module": "@jupyter-widgets/controls",
            "_model_module_version": "1.5.0",
            "_view_count": null,
            "_view_module_version": "1.5.0",
            "box_style": "",
            "layout": "IPY_MODEL_bdf38f87154d47c8a505740beb21c254",
            "_model_module": "@jupyter-widgets/controls",
            "children": [
              "IPY_MODEL_2a84de3dd3974b07bede392cc9ff77aa",
              "IPY_MODEL_7cf8f438a46b4e149ce783b8bc914483"
            ]
          }
        },
        "bdf38f87154d47c8a505740beb21c254": {
          "model_module": "@jupyter-widgets/base",
          "model_name": "LayoutModel",
          "state": {
            "_view_name": "LayoutView",
            "grid_template_rows": null,
            "right": null,
            "justify_content": null,
            "_view_module": "@jupyter-widgets/base",
            "overflow": null,
            "_model_module_version": "1.2.0",
            "_view_count": null,
            "flex_flow": null,
            "width": null,
            "min_width": null,
            "border": null,
            "align_items": null,
            "bottom": null,
            "_model_module": "@jupyter-widgets/base",
            "top": null,
            "grid_column": null,
            "overflow_y": null,
            "overflow_x": null,
            "grid_auto_flow": null,
            "grid_area": null,
            "grid_template_columns": null,
            "flex": null,
            "_model_name": "LayoutModel",
            "justify_items": null,
            "grid_row": null,
            "max_height": null,
            "align_content": null,
            "visibility": null,
            "align_self": null,
            "height": null,
            "min_height": null,
            "padding": null,
            "grid_auto_rows": null,
            "grid_gap": null,
            "max_width": null,
            "order": null,
            "_view_module_version": "1.2.0",
            "grid_template_areas": null,
            "object_position": null,
            "object_fit": null,
            "grid_auto_columns": null,
            "margin": null,
            "display": null,
            "left": null
          }
        },
        "2a84de3dd3974b07bede392cc9ff77aa": {
          "model_module": "@jupyter-widgets/controls",
          "model_name": "FloatProgressModel",
          "state": {
            "_view_name": "ProgressView",
            "style": "IPY_MODEL_e8f79bc9c91b42e181f839490aa0f9a7",
            "_dom_classes": [],
            "description": "Downloading: 100%",
            "_model_name": "FloatProgressModel",
            "bar_style": "success",
            "max": 231508,
            "_view_module": "@jupyter-widgets/controls",
            "_model_module_version": "1.5.0",
            "value": 231508,
            "_view_count": null,
            "_view_module_version": "1.5.0",
            "orientation": "horizontal",
            "min": 0,
            "description_tooltip": null,
            "_model_module": "@jupyter-widgets/controls",
            "layout": "IPY_MODEL_88c2b9598321432f851d3eff7050bb25"
          }
        },
        "7cf8f438a46b4e149ce783b8bc914483": {
          "model_module": "@jupyter-widgets/controls",
          "model_name": "HTMLModel",
          "state": {
            "_view_name": "HTMLView",
            "style": "IPY_MODEL_225612621f84478ebb556c5a291f4c78",
            "_dom_classes": [],
            "description": "",
            "_model_name": "HTMLModel",
            "placeholder": "​",
            "_view_module": "@jupyter-widgets/controls",
            "_model_module_version": "1.5.0",
            "value": " 232k/232k [00:00&lt;00:00, 3.23MB/s]",
            "_view_count": null,
            "_view_module_version": "1.5.0",
            "description_tooltip": null,
            "_model_module": "@jupyter-widgets/controls",
            "layout": "IPY_MODEL_96b02c96e59348b8bace9a9220a8a754"
          }
        },
        "e8f79bc9c91b42e181f839490aa0f9a7": {
          "model_module": "@jupyter-widgets/controls",
          "model_name": "ProgressStyleModel",
          "state": {
            "_view_name": "StyleView",
            "_model_name": "ProgressStyleModel",
            "description_width": "initial",
            "_view_module": "@jupyter-widgets/base",
            "_model_module_version": "1.5.0",
            "_view_count": null,
            "_view_module_version": "1.2.0",
            "bar_color": null,
            "_model_module": "@jupyter-widgets/controls"
          }
        },
        "88c2b9598321432f851d3eff7050bb25": {
          "model_module": "@jupyter-widgets/base",
          "model_name": "LayoutModel",
          "state": {
            "_view_name": "LayoutView",
            "grid_template_rows": null,
            "right": null,
            "justify_content": null,
            "_view_module": "@jupyter-widgets/base",
            "overflow": null,
            "_model_module_version": "1.2.0",
            "_view_count": null,
            "flex_flow": null,
            "width": null,
            "min_width": null,
            "border": null,
            "align_items": null,
            "bottom": null,
            "_model_module": "@jupyter-widgets/base",
            "top": null,
            "grid_column": null,
            "overflow_y": null,
            "overflow_x": null,
            "grid_auto_flow": null,
            "grid_area": null,
            "grid_template_columns": null,
            "flex": null,
            "_model_name": "LayoutModel",
            "justify_items": null,
            "grid_row": null,
            "max_height": null,
            "align_content": null,
            "visibility": null,
            "align_self": null,
            "height": null,
            "min_height": null,
            "padding": null,
            "grid_auto_rows": null,
            "grid_gap": null,
            "max_width": null,
            "order": null,
            "_view_module_version": "1.2.0",
            "grid_template_areas": null,
            "object_position": null,
            "object_fit": null,
            "grid_auto_columns": null,
            "margin": null,
            "display": null,
            "left": null
          }
        },
        "225612621f84478ebb556c5a291f4c78": {
          "model_module": "@jupyter-widgets/controls",
          "model_name": "DescriptionStyleModel",
          "state": {
            "_view_name": "StyleView",
            "_model_name": "DescriptionStyleModel",
            "description_width": "",
            "_view_module": "@jupyter-widgets/base",
            "_model_module_version": "1.5.0",
            "_view_count": null,
            "_view_module_version": "1.2.0",
            "_model_module": "@jupyter-widgets/controls"
          }
        },
        "96b02c96e59348b8bace9a9220a8a754": {
          "model_module": "@jupyter-widgets/base",
          "model_name": "LayoutModel",
          "state": {
            "_view_name": "LayoutView",
            "grid_template_rows": null,
            "right": null,
            "justify_content": null,
            "_view_module": "@jupyter-widgets/base",
            "overflow": null,
            "_model_module_version": "1.2.0",
            "_view_count": null,
            "flex_flow": null,
            "width": null,
            "min_width": null,
            "border": null,
            "align_items": null,
            "bottom": null,
            "_model_module": "@jupyter-widgets/base",
            "top": null,
            "grid_column": null,
            "overflow_y": null,
            "overflow_x": null,
            "grid_auto_flow": null,
            "grid_area": null,
            "grid_template_columns": null,
            "flex": null,
            "_model_name": "LayoutModel",
            "justify_items": null,
            "grid_row": null,
            "max_height": null,
            "align_content": null,
            "visibility": null,
            "align_self": null,
            "height": null,
            "min_height": null,
            "padding": null,
            "grid_auto_rows": null,
            "grid_gap": null,
            "max_width": null,
            "order": null,
            "_view_module_version": "1.2.0",
            "grid_template_areas": null,
            "object_position": null,
            "object_fit": null,
            "grid_auto_columns": null,
            "margin": null,
            "display": null,
            "left": null
          }
        },
        "e9f48b7a2ac74b74af2292d7247a7600": {
          "model_module": "@jupyter-widgets/controls",
          "model_name": "HBoxModel",
          "state": {
            "_view_name": "HBoxView",
            "_dom_classes": [],
            "_model_name": "HBoxModel",
            "_view_module": "@jupyter-widgets/controls",
            "_model_module_version": "1.5.0",
            "_view_count": null,
            "_view_module_version": "1.5.0",
            "box_style": "",
            "layout": "IPY_MODEL_5f6c15ad026940558ea943f79b7dd4b3",
            "_model_module": "@jupyter-widgets/controls",
            "children": [
              "IPY_MODEL_a1a700251846465e896ab01b1a10ff07",
              "IPY_MODEL_5c15cb7bc4bf4a71a4ced86b4bf8c0aa"
            ]
          }
        },
        "5f6c15ad026940558ea943f79b7dd4b3": {
          "model_module": "@jupyter-widgets/base",
          "model_name": "LayoutModel",
          "state": {
            "_view_name": "LayoutView",
            "grid_template_rows": null,
            "right": null,
            "justify_content": null,
            "_view_module": "@jupyter-widgets/base",
            "overflow": null,
            "_model_module_version": "1.2.0",
            "_view_count": null,
            "flex_flow": null,
            "width": null,
            "min_width": null,
            "border": null,
            "align_items": null,
            "bottom": null,
            "_model_module": "@jupyter-widgets/base",
            "top": null,
            "grid_column": null,
            "overflow_y": null,
            "overflow_x": null,
            "grid_auto_flow": null,
            "grid_area": null,
            "grid_template_columns": null,
            "flex": null,
            "_model_name": "LayoutModel",
            "justify_items": null,
            "grid_row": null,
            "max_height": null,
            "align_content": null,
            "visibility": null,
            "align_self": null,
            "height": null,
            "min_height": null,
            "padding": null,
            "grid_auto_rows": null,
            "grid_gap": null,
            "max_width": null,
            "order": null,
            "_view_module_version": "1.2.0",
            "grid_template_areas": null,
            "object_position": null,
            "object_fit": null,
            "grid_auto_columns": null,
            "margin": null,
            "display": null,
            "left": null
          }
        },
        "a1a700251846465e896ab01b1a10ff07": {
          "model_module": "@jupyter-widgets/controls",
          "model_name": "FloatProgressModel",
          "state": {
            "_view_name": "ProgressView",
            "style": "IPY_MODEL_32479532b8b5474693d3c6bdf1ead531",
            "_dom_classes": [],
            "description": "Downloading: 100%",
            "_model_name": "FloatProgressModel",
            "bar_style": "success",
            "max": 433,
            "_view_module": "@jupyter-widgets/controls",
            "_model_module_version": "1.5.0",
            "value": 433,
            "_view_count": null,
            "_view_module_version": "1.5.0",
            "orientation": "horizontal",
            "min": 0,
            "description_tooltip": null,
            "_model_module": "@jupyter-widgets/controls",
            "layout": "IPY_MODEL_67fa0812e84e426d8617af336f5d7a96"
          }
        },
        "5c15cb7bc4bf4a71a4ced86b4bf8c0aa": {
          "model_module": "@jupyter-widgets/controls",
          "model_name": "HTMLModel",
          "state": {
            "_view_name": "HTMLView",
            "style": "IPY_MODEL_820421153a7f43e283672c3b31f93e7c",
            "_dom_classes": [],
            "description": "",
            "_model_name": "HTMLModel",
            "placeholder": "​",
            "_view_module": "@jupyter-widgets/controls",
            "_model_module_version": "1.5.0",
            "value": " 433/433 [00:00&lt;00:00, 1.76kB/s]",
            "_view_count": null,
            "_view_module_version": "1.5.0",
            "description_tooltip": null,
            "_model_module": "@jupyter-widgets/controls",
            "layout": "IPY_MODEL_1fec6005ecfb46da82d324aefee92ab0"
          }
        },
        "32479532b8b5474693d3c6bdf1ead531": {
          "model_module": "@jupyter-widgets/controls",
          "model_name": "ProgressStyleModel",
          "state": {
            "_view_name": "StyleView",
            "_model_name": "ProgressStyleModel",
            "description_width": "initial",
            "_view_module": "@jupyter-widgets/base",
            "_model_module_version": "1.5.0",
            "_view_count": null,
            "_view_module_version": "1.2.0",
            "bar_color": null,
            "_model_module": "@jupyter-widgets/controls"
          }
        },
        "67fa0812e84e426d8617af336f5d7a96": {
          "model_module": "@jupyter-widgets/base",
          "model_name": "LayoutModel",
          "state": {
            "_view_name": "LayoutView",
            "grid_template_rows": null,
            "right": null,
            "justify_content": null,
            "_view_module": "@jupyter-widgets/base",
            "overflow": null,
            "_model_module_version": "1.2.0",
            "_view_count": null,
            "flex_flow": null,
            "width": null,
            "min_width": null,
            "border": null,
            "align_items": null,
            "bottom": null,
            "_model_module": "@jupyter-widgets/base",
            "top": null,
            "grid_column": null,
            "overflow_y": null,
            "overflow_x": null,
            "grid_auto_flow": null,
            "grid_area": null,
            "grid_template_columns": null,
            "flex": null,
            "_model_name": "LayoutModel",
            "justify_items": null,
            "grid_row": null,
            "max_height": null,
            "align_content": null,
            "visibility": null,
            "align_self": null,
            "height": null,
            "min_height": null,
            "padding": null,
            "grid_auto_rows": null,
            "grid_gap": null,
            "max_width": null,
            "order": null,
            "_view_module_version": "1.2.0",
            "grid_template_areas": null,
            "object_position": null,
            "object_fit": null,
            "grid_auto_columns": null,
            "margin": null,
            "display": null,
            "left": null
          }
        },
        "820421153a7f43e283672c3b31f93e7c": {
          "model_module": "@jupyter-widgets/controls",
          "model_name": "DescriptionStyleModel",
          "state": {
            "_view_name": "StyleView",
            "_model_name": "DescriptionStyleModel",
            "description_width": "",
            "_view_module": "@jupyter-widgets/base",
            "_model_module_version": "1.5.0",
            "_view_count": null,
            "_view_module_version": "1.2.0",
            "_model_module": "@jupyter-widgets/controls"
          }
        },
        "1fec6005ecfb46da82d324aefee92ab0": {
          "model_module": "@jupyter-widgets/base",
          "model_name": "LayoutModel",
          "state": {
            "_view_name": "LayoutView",
            "grid_template_rows": null,
            "right": null,
            "justify_content": null,
            "_view_module": "@jupyter-widgets/base",
            "overflow": null,
            "_model_module_version": "1.2.0",
            "_view_count": null,
            "flex_flow": null,
            "width": null,
            "min_width": null,
            "border": null,
            "align_items": null,
            "bottom": null,
            "_model_module": "@jupyter-widgets/base",
            "top": null,
            "grid_column": null,
            "overflow_y": null,
            "overflow_x": null,
            "grid_auto_flow": null,
            "grid_area": null,
            "grid_template_columns": null,
            "flex": null,
            "_model_name": "LayoutModel",
            "justify_items": null,
            "grid_row": null,
            "max_height": null,
            "align_content": null,
            "visibility": null,
            "align_self": null,
            "height": null,
            "min_height": null,
            "padding": null,
            "grid_auto_rows": null,
            "grid_gap": null,
            "max_width": null,
            "order": null,
            "_view_module_version": "1.2.0",
            "grid_template_areas": null,
            "object_position": null,
            "object_fit": null,
            "grid_auto_columns": null,
            "margin": null,
            "display": null,
            "left": null
          }
        },
        "7c0932a6ce984f2eb90bd21495781e76": {
          "model_module": "@jupyter-widgets/controls",
          "model_name": "HBoxModel",
          "state": {
            "_view_name": "HBoxView",
            "_dom_classes": [],
            "_model_name": "HBoxModel",
            "_view_module": "@jupyter-widgets/controls",
            "_model_module_version": "1.5.0",
            "_view_count": null,
            "_view_module_version": "1.5.0",
            "box_style": "",
            "layout": "IPY_MODEL_746b183062d648bc9679940b2b863115",
            "_model_module": "@jupyter-widgets/controls",
            "children": [
              "IPY_MODEL_e578a807da3e46cba6d2bcaee113f0aa",
              "IPY_MODEL_21eb2f41aabf453aa70128f01594d28b"
            ]
          }
        },
        "746b183062d648bc9679940b2b863115": {
          "model_module": "@jupyter-widgets/base",
          "model_name": "LayoutModel",
          "state": {
            "_view_name": "LayoutView",
            "grid_template_rows": null,
            "right": null,
            "justify_content": null,
            "_view_module": "@jupyter-widgets/base",
            "overflow": null,
            "_model_module_version": "1.2.0",
            "_view_count": null,
            "flex_flow": null,
            "width": null,
            "min_width": null,
            "border": null,
            "align_items": null,
            "bottom": null,
            "_model_module": "@jupyter-widgets/base",
            "top": null,
            "grid_column": null,
            "overflow_y": null,
            "overflow_x": null,
            "grid_auto_flow": null,
            "grid_area": null,
            "grid_template_columns": null,
            "flex": null,
            "_model_name": "LayoutModel",
            "justify_items": null,
            "grid_row": null,
            "max_height": null,
            "align_content": null,
            "visibility": null,
            "align_self": null,
            "height": null,
            "min_height": null,
            "padding": null,
            "grid_auto_rows": null,
            "grid_gap": null,
            "max_width": null,
            "order": null,
            "_view_module_version": "1.2.0",
            "grid_template_areas": null,
            "object_position": null,
            "object_fit": null,
            "grid_auto_columns": null,
            "margin": null,
            "display": null,
            "left": null
          }
        },
        "e578a807da3e46cba6d2bcaee113f0aa": {
          "model_module": "@jupyter-widgets/controls",
          "model_name": "FloatProgressModel",
          "state": {
            "_view_name": "ProgressView",
            "style": "IPY_MODEL_916b2c15655c40e8a352a66fff89f859",
            "_dom_classes": [],
            "description": "Downloading: 100%",
            "_model_name": "FloatProgressModel",
            "bar_style": "success",
            "max": 440473133,
            "_view_module": "@jupyter-widgets/controls",
            "_model_module_version": "1.5.0",
            "value": 440473133,
            "_view_count": null,
            "_view_module_version": "1.5.0",
            "orientation": "horizontal",
            "min": 0,
            "description_tooltip": null,
            "_model_module": "@jupyter-widgets/controls",
            "layout": "IPY_MODEL_9d8caceed7a349488ed783c04f4ade81"
          }
        },
        "21eb2f41aabf453aa70128f01594d28b": {
          "model_module": "@jupyter-widgets/controls",
          "model_name": "HTMLModel",
          "state": {
            "_view_name": "HTMLView",
            "style": "IPY_MODEL_e57cf88066fd40d6a7d0ac733f62de0a",
            "_dom_classes": [],
            "description": "",
            "_model_name": "HTMLModel",
            "placeholder": "​",
            "_view_module": "@jupyter-widgets/controls",
            "_model_module_version": "1.5.0",
            "value": " 440M/440M [00:07&lt;00:00, 58.9MB/s]",
            "_view_count": null,
            "_view_module_version": "1.5.0",
            "description_tooltip": null,
            "_model_module": "@jupyter-widgets/controls",
            "layout": "IPY_MODEL_1183578f81b141669f3b484cc08bb61e"
          }
        },
        "916b2c15655c40e8a352a66fff89f859": {
          "model_module": "@jupyter-widgets/controls",
          "model_name": "ProgressStyleModel",
          "state": {
            "_view_name": "StyleView",
            "_model_name": "ProgressStyleModel",
            "description_width": "initial",
            "_view_module": "@jupyter-widgets/base",
            "_model_module_version": "1.5.0",
            "_view_count": null,
            "_view_module_version": "1.2.0",
            "bar_color": null,
            "_model_module": "@jupyter-widgets/controls"
          }
        },
        "9d8caceed7a349488ed783c04f4ade81": {
          "model_module": "@jupyter-widgets/base",
          "model_name": "LayoutModel",
          "state": {
            "_view_name": "LayoutView",
            "grid_template_rows": null,
            "right": null,
            "justify_content": null,
            "_view_module": "@jupyter-widgets/base",
            "overflow": null,
            "_model_module_version": "1.2.0",
            "_view_count": null,
            "flex_flow": null,
            "width": null,
            "min_width": null,
            "border": null,
            "align_items": null,
            "bottom": null,
            "_model_module": "@jupyter-widgets/base",
            "top": null,
            "grid_column": null,
            "overflow_y": null,
            "overflow_x": null,
            "grid_auto_flow": null,
            "grid_area": null,
            "grid_template_columns": null,
            "flex": null,
            "_model_name": "LayoutModel",
            "justify_items": null,
            "grid_row": null,
            "max_height": null,
            "align_content": null,
            "visibility": null,
            "align_self": null,
            "height": null,
            "min_height": null,
            "padding": null,
            "grid_auto_rows": null,
            "grid_gap": null,
            "max_width": null,
            "order": null,
            "_view_module_version": "1.2.0",
            "grid_template_areas": null,
            "object_position": null,
            "object_fit": null,
            "grid_auto_columns": null,
            "margin": null,
            "display": null,
            "left": null
          }
        },
        "e57cf88066fd40d6a7d0ac733f62de0a": {
          "model_module": "@jupyter-widgets/controls",
          "model_name": "DescriptionStyleModel",
          "state": {
            "_view_name": "StyleView",
            "_model_name": "DescriptionStyleModel",
            "description_width": "",
            "_view_module": "@jupyter-widgets/base",
            "_model_module_version": "1.5.0",
            "_view_count": null,
            "_view_module_version": "1.2.0",
            "_model_module": "@jupyter-widgets/controls"
          }
        },
        "1183578f81b141669f3b484cc08bb61e": {
          "model_module": "@jupyter-widgets/base",
          "model_name": "LayoutModel",
          "state": {
            "_view_name": "LayoutView",
            "grid_template_rows": null,
            "right": null,
            "justify_content": null,
            "_view_module": "@jupyter-widgets/base",
            "overflow": null,
            "_model_module_version": "1.2.0",
            "_view_count": null,
            "flex_flow": null,
            "width": null,
            "min_width": null,
            "border": null,
            "align_items": null,
            "bottom": null,
            "_model_module": "@jupyter-widgets/base",
            "top": null,
            "grid_column": null,
            "overflow_y": null,
            "overflow_x": null,
            "grid_auto_flow": null,
            "grid_area": null,
            "grid_template_columns": null,
            "flex": null,
            "_model_name": "LayoutModel",
            "justify_items": null,
            "grid_row": null,
            "max_height": null,
            "align_content": null,
            "visibility": null,
            "align_self": null,
            "height": null,
            "min_height": null,
            "padding": null,
            "grid_auto_rows": null,
            "grid_gap": null,
            "max_width": null,
            "order": null,
            "_view_module_version": "1.2.0",
            "grid_template_areas": null,
            "object_position": null,
            "object_fit": null,
            "grid_auto_columns": null,
            "margin": null,
            "display": null,
            "left": null
          }
        }
      }
    }
  },
  "cells": [
    {
      "cell_type": "markdown",
      "metadata": {
        "id": "view-in-github",
        "colab_type": "text"
      },
      "source": [
        "<a href=\"https://colab.research.google.com/github/spatiebalk/text_mining_project/blob/master/score_generated_texts_hp.ipynb\" target=\"_parent\"><img src=\"https://colab.research.google.com/assets/colab-badge.svg\" alt=\"Open In Colab\"/></a>"
      ]
    },
    {
      "cell_type": "markdown",
      "metadata": {
        "id": "Xrgq5Sa-Mjy9"
      },
      "source": [
        "## Scoring generated texts"
      ]
    },
    {
      "cell_type": "markdown",
      "metadata": {
        "id": "ARj1U5OsMjzI"
      },
      "source": [
        "Inputs to `score` are a list of candidate sentences and a list of reference sentences. "
      ]
    },
    {
      "cell_type": "code",
      "metadata": {
        "id": "SH1lJxsIMjzJ",
        "colab": {
          "base_uri": "https://localhost:8080/"
        },
        "outputId": "325a8a06-4cde-45f6-fe83-71b8d9e2612b"
      },
      "source": [
        "from google.colab import drive\n",
        "drive.mount('/content/gdrive')"
      ],
      "execution_count": 1,
      "outputs": [
        {
          "output_type": "stream",
          "text": [
            "Mounted at /content/gdrive\n"
          ],
          "name": "stdout"
        }
      ]
    },
    {
      "cell_type": "code",
      "metadata": {
        "colab": {
          "base_uri": "https://localhost:8080/"
        },
        "id": "V8KTQvko_DPy",
        "outputId": "0665b1eb-0914-4a1e-cb1e-baed7e5df38a"
      },
      "source": [
        "# needed imports\r\n",
        "import nltk\r\n",
        "nltk.download('punkt')\r\n",
        "from nltk.tokenize import word_tokenize\r\n",
        "import time \r\n",
        "import json\r\n",
        "import nltk.data\r\n",
        "sent_detector = nltk.data.load('tokenizers/punkt/english.pickle')"
      ],
      "execution_count": 2,
      "outputs": [
        {
          "output_type": "stream",
          "text": [
            "[nltk_data] Downloading package punkt to /root/nltk_data...\n",
            "[nltk_data]   Unzipping tokenizers/punkt.zip.\n"
          ],
          "name": "stdout"
        }
      ]
    },
    {
      "cell_type": "code",
      "metadata": {
        "id": "jGBKaetJVCIk"
      },
      "source": [
        "text = open('/content/gdrive/My Drive/TxMM/harrypotter.txt').read()\r\n",
        "text_tokens = [word_tokenize(sent) for sent in sent_detector.tokenize(text.strip())]"
      ],
      "execution_count": 3,
      "outputs": []
    },
    {
      "cell_type": "code",
      "metadata": {
        "colab": {
          "base_uri": "https://localhost:8080/"
        },
        "id": "IfkXJsKupFjg",
        "outputId": "cd0caf4b-17d4-40ec-da2d-48779580a69e"
      },
      "source": [
        "from nltk.translate.bleu_score import sentence_bleu\r\n",
        "!pip install rouge-score\r\n",
        "from rouge_score import rouge_scorer\r\n",
        "!pip install transformers\r\n",
        "import torch\r\n",
        "from transformers import BertTokenizer, BertModel\r\n",
        "import numpy as np\r\n",
        "from tqdm import tqdm\r\n",
        "from sklearn.metrics.pairwise import cosine_similarity"
      ],
      "execution_count": 4,
      "outputs": [
        {
          "output_type": "stream",
          "text": [
            "Collecting rouge-score\n",
            "  Downloading https://files.pythonhosted.org/packages/1f/56/a81022436c08b9405a5247b71635394d44fe7e1dbedc4b28c740e09c2840/rouge_score-0.0.4-py2.py3-none-any.whl\n",
            "Requirement already satisfied: absl-py in /usr/local/lib/python3.6/dist-packages (from rouge-score) (0.10.0)\n",
            "Requirement already satisfied: nltk in /usr/local/lib/python3.6/dist-packages (from rouge-score) (3.2.5)\n",
            "Requirement already satisfied: six>=1.14.0 in /usr/local/lib/python3.6/dist-packages (from rouge-score) (1.15.0)\n",
            "Requirement already satisfied: numpy in /usr/local/lib/python3.6/dist-packages (from rouge-score) (1.19.4)\n",
            "Installing collected packages: rouge-score\n",
            "Successfully installed rouge-score-0.0.4\n",
            "Collecting transformers\n",
            "\u001b[?25l  Downloading https://files.pythonhosted.org/packages/50/0c/7d5950fcd80b029be0a8891727ba21e0cd27692c407c51261c3c921f6da3/transformers-4.1.1-py3-none-any.whl (1.5MB)\n",
            "\u001b[K     |████████████████████████████████| 1.5MB 12.7MB/s \n",
            "\u001b[?25hCollecting tokenizers==0.9.4\n",
            "\u001b[?25l  Downloading https://files.pythonhosted.org/packages/0f/1c/e789a8b12e28be5bc1ce2156cf87cb522b379be9cadc7ad8091a4cc107c4/tokenizers-0.9.4-cp36-cp36m-manylinux2010_x86_64.whl (2.9MB)\n",
            "\u001b[K     |████████████████████████████████| 2.9MB 46.8MB/s \n",
            "\u001b[?25hRequirement already satisfied: filelock in /usr/local/lib/python3.6/dist-packages (from transformers) (3.0.12)\n",
            "Requirement already satisfied: dataclasses; python_version < \"3.7\" in /usr/local/lib/python3.6/dist-packages (from transformers) (0.8)\n",
            "Requirement already satisfied: tqdm>=4.27 in /usr/local/lib/python3.6/dist-packages (from transformers) (4.41.1)\n",
            "Requirement already satisfied: requests in /usr/local/lib/python3.6/dist-packages (from transformers) (2.23.0)\n",
            "Requirement already satisfied: numpy in /usr/local/lib/python3.6/dist-packages (from transformers) (1.19.4)\n",
            "Requirement already satisfied: packaging in /usr/local/lib/python3.6/dist-packages (from transformers) (20.8)\n",
            "Collecting sacremoses\n",
            "\u001b[?25l  Downloading https://files.pythonhosted.org/packages/7d/34/09d19aff26edcc8eb2a01bed8e98f13a1537005d31e95233fd48216eed10/sacremoses-0.0.43.tar.gz (883kB)\n",
            "\u001b[K     |████████████████████████████████| 890kB 54.7MB/s \n",
            "\u001b[?25hRequirement already satisfied: regex!=2019.12.17 in /usr/local/lib/python3.6/dist-packages (from transformers) (2019.12.20)\n",
            "Requirement already satisfied: urllib3!=1.25.0,!=1.25.1,<1.26,>=1.21.1 in /usr/local/lib/python3.6/dist-packages (from requests->transformers) (1.24.3)\n",
            "Requirement already satisfied: chardet<4,>=3.0.2 in /usr/local/lib/python3.6/dist-packages (from requests->transformers) (3.0.4)\n",
            "Requirement already satisfied: idna<3,>=2.5 in /usr/local/lib/python3.6/dist-packages (from requests->transformers) (2.10)\n",
            "Requirement already satisfied: certifi>=2017.4.17 in /usr/local/lib/python3.6/dist-packages (from requests->transformers) (2020.12.5)\n",
            "Requirement already satisfied: pyparsing>=2.0.2 in /usr/local/lib/python3.6/dist-packages (from packaging->transformers) (2.4.7)\n",
            "Requirement already satisfied: six in /usr/local/lib/python3.6/dist-packages (from sacremoses->transformers) (1.15.0)\n",
            "Requirement already satisfied: click in /usr/local/lib/python3.6/dist-packages (from sacremoses->transformers) (7.1.2)\n",
            "Requirement already satisfied: joblib in /usr/local/lib/python3.6/dist-packages (from sacremoses->transformers) (1.0.0)\n",
            "Building wheels for collected packages: sacremoses\n",
            "  Building wheel for sacremoses (setup.py) ... \u001b[?25l\u001b[?25hdone\n",
            "  Created wheel for sacremoses: filename=sacremoses-0.0.43-cp36-none-any.whl size=893261 sha256=0aa2de19c67616f668cd1808ef8a545a932efa013503f08186b968b27d64e1a5\n",
            "  Stored in directory: /root/.cache/pip/wheels/29/3c/fd/7ce5c3f0666dab31a50123635e6fb5e19ceb42ce38d4e58f45\n",
            "Successfully built sacremoses\n",
            "Installing collected packages: tokenizers, sacremoses, transformers\n",
            "Successfully installed sacremoses-0.0.43 tokenizers-0.9.4 transformers-4.1.1\n"
          ],
          "name": "stdout"
        }
      ]
    },
    {
      "cell_type": "code",
      "metadata": {
        "colab": {
          "base_uri": "https://localhost:8080/",
          "height": 164,
          "referenced_widgets": [
            "bd9b86b8aecb4b54bd9807e841b69a63",
            "bdf38f87154d47c8a505740beb21c254",
            "2a84de3dd3974b07bede392cc9ff77aa",
            "7cf8f438a46b4e149ce783b8bc914483",
            "e8f79bc9c91b42e181f839490aa0f9a7",
            "88c2b9598321432f851d3eff7050bb25",
            "225612621f84478ebb556c5a291f4c78",
            "96b02c96e59348b8bace9a9220a8a754",
            "e9f48b7a2ac74b74af2292d7247a7600",
            "5f6c15ad026940558ea943f79b7dd4b3",
            "a1a700251846465e896ab01b1a10ff07",
            "5c15cb7bc4bf4a71a4ced86b4bf8c0aa",
            "32479532b8b5474693d3c6bdf1ead531",
            "67fa0812e84e426d8617af336f5d7a96",
            "820421153a7f43e283672c3b31f93e7c",
            "1fec6005ecfb46da82d324aefee92ab0",
            "7c0932a6ce984f2eb90bd21495781e76",
            "746b183062d648bc9679940b2b863115",
            "e578a807da3e46cba6d2bcaee113f0aa",
            "21eb2f41aabf453aa70128f01594d28b",
            "916b2c15655c40e8a352a66fff89f859",
            "9d8caceed7a349488ed783c04f4ade81",
            "e57cf88066fd40d6a7d0ac733f62de0a",
            "1183578f81b141669f3b484cc08bb61e"
          ]
        },
        "id": "0GVwhBEPEFrS",
        "outputId": "7b227da5-b3c1-424e-f49e-41923cad1d8f"
      },
      "source": [
        "BERT_tokenizer = BertTokenizer.from_pretrained('bert-base-uncased')\r\n",
        "BERT_model = BertModel.from_pretrained('bert-base-uncased')"
      ],
      "execution_count": 5,
      "outputs": [
        {
          "output_type": "display_data",
          "data": {
            "application/vnd.jupyter.widget-view+json": {
              "model_id": "bd9b86b8aecb4b54bd9807e841b69a63",
              "version_minor": 0,
              "version_major": 2
            },
            "text/plain": [
              "HBox(children=(FloatProgress(value=0.0, description='Downloading', max=231508.0, style=ProgressStyle(descripti…"
            ]
          },
          "metadata": {
            "tags": []
          }
        },
        {
          "output_type": "stream",
          "text": [
            "\n"
          ],
          "name": "stdout"
        },
        {
          "output_type": "display_data",
          "data": {
            "application/vnd.jupyter.widget-view+json": {
              "model_id": "e9f48b7a2ac74b74af2292d7247a7600",
              "version_minor": 0,
              "version_major": 2
            },
            "text/plain": [
              "HBox(children=(FloatProgress(value=0.0, description='Downloading', max=433.0, style=ProgressStyle(description_…"
            ]
          },
          "metadata": {
            "tags": []
          }
        },
        {
          "output_type": "stream",
          "text": [
            "\n"
          ],
          "name": "stdout"
        },
        {
          "output_type": "display_data",
          "data": {
            "application/vnd.jupyter.widget-view+json": {
              "model_id": "7c0932a6ce984f2eb90bd21495781e76",
              "version_minor": 0,
              "version_major": 2
            },
            "text/plain": [
              "HBox(children=(FloatProgress(value=0.0, description='Downloading', max=440473133.0, style=ProgressStyle(descri…"
            ]
          },
          "metadata": {
            "tags": []
          }
        },
        {
          "output_type": "stream",
          "text": [
            "\n"
          ],
          "name": "stdout"
        }
      ]
    },
    {
      "cell_type": "markdown",
      "metadata": {
        "id": "vju-AghOUS4z"
      },
      "source": [
        "# GRU"
      ]
    },
    {
      "cell_type": "code",
      "metadata": {
        "id": "oJ_toy3YUW0P"
      },
      "source": [
        "with open('/content/gdrive/My Drive/TxMM/GRU_results/hp_generated_texts.json') as json_file: \r\n",
        "    generated_text = json.load(json_file) "
      ],
      "execution_count": 6,
      "outputs": []
    },
    {
      "cell_type": "markdown",
      "metadata": {
        "id": "Ve1nqhHjC7NU"
      },
      "source": [
        "## BLEU score\r\n",
        "Between 0 and 1, where 1 is similar."
      ]
    },
    {
      "cell_type": "code",
      "metadata": {
        "colab": {
          "base_uri": "https://localhost:8080/"
        },
        "id": "qwQo8nvjzocH",
        "outputId": "054f17da-e7d7-455d-d506-e79fc53f92aa"
      },
      "source": [
        "score_dict_BLEU = {}\r\n",
        "start = time.time()\r\n",
        "\r\n",
        "for i in range(0, 100):\r\n",
        "  gen_text = generated_text[str(i)]\r\n",
        "  gen_text_sent = word_tokenize(gen_text)\r\n",
        "\r\n",
        "  BLEUscore = sentence_bleu(text_tokens, gen_text_sent, weights = (0, 0, 1, 0))\r\n",
        "  score_dict_BLEU[i] = BLEUscore\r\n",
        "\r\n",
        "end = time.time()\r\n",
        "print(\"This took {:.2f} minutes\".format((end-start)/60))\r\n",
        "# with open('/content/gdrive/My Drive/TxMM/GRU_results/hp_scores_BLEU.json', 'w') as fp:\r\n",
        "#   json.dump(score_dict_BLEU, fp)\r\n",
        "\r\n",
        "del score_dict_BLEU"
      ],
      "execution_count": 8,
      "outputs": [
        {
          "output_type": "stream",
          "text": [
            "1016\n"
          ],
          "name": "stdout"
        }
      ]
    },
    {
      "cell_type": "markdown",
      "metadata": {
        "id": "H7p34tdRDAam"
      },
      "source": [
        "## ROUGE score\r\n",
        "Higher is more similar."
      ]
    },
    {
      "cell_type": "code",
      "metadata": {
        "id": "BFndA87gXx-S",
        "colab": {
          "base_uri": "https://localhost:8080/"
        },
        "outputId": "f1555f85-8838-4caf-b6aa-23a759aa6789"
      },
      "source": [
        "score_dict_ROUGE = {}\r\n",
        "start = time.time()\r\n",
        "\r\n",
        "for i in range(0, 100):\r\n",
        "  gen_text = generated_text[str(i)]\r\n",
        "  scorer = rouge_scorer.RougeScorer(['rouge3'], use_stemmer=True)\r\n",
        "\r\n",
        "  ROUGEscore = scorer.score(text, gen_text)\r\n",
        "  score_dict_ROUGE[i] = {\"P\": ROUGEscore[\"rouge3\"][0], \"R\": ROUGEscore[\"rouge3\"][1], \"F1\": ROUGEscore[\"rouge3\"][2]}\r\n",
        "\r\n",
        "end = time.time()\r\n",
        "print(\"This took {:.2f} minutes\".format((end-start)/60))\r\n",
        "# with open('/content/gdrive/My Drive/TxMM/GRU_results/hp_scores_ROUGE.json', 'w') as fp:\r\n",
        "#   json.dump(score_dict_ROUGE, fp)\r\n",
        "\r\n",
        "del score_dict_ROUGE"
      ],
      "execution_count": null,
      "outputs": [
        {
          "output_type": "stream",
          "text": [
            "This took 0.22 minutes\n"
          ],
          "name": "stdout"
        }
      ]
    },
    {
      "cell_type": "markdown",
      "metadata": {
        "id": "I2MrFzfZ8DC2"
      },
      "source": [
        "## BERT scores\r\n",
        "Higher is more similar (cosine similarity is used)."
      ]
    },
    {
      "cell_type": "markdown",
      "metadata": {
        "id": "nyg6lNQ0Rmr4"
      },
      "source": [
        "Split the reference text up into about chunks of 512 tokens, aka 3200 steps of about 1900 characters. For each chunk of tokens, calculate the average BERT embedding and add to list. Later we will compare the token of the generated text to each of these 3200 tokens and add the cosine similarity score to be able to score this generated text using BERT."
      ]
    },
    {
      "cell_type": "code",
      "metadata": {
        "colab": {
          "base_uri": "https://localhost:8080/"
        },
        "id": "Sz-U6Jw98PvY",
        "outputId": "c0715e79-7a34-4576-9f45-679dab3543cd"
      },
      "source": [
        "ref_text_embeddings = []\r\n",
        "i = 0\r\n",
        "\r\n",
        "steps = 3200\r\n",
        "par_len = int(len(text)/3200)\r\n",
        "\r\n",
        "assert steps * par_len <= len(text)\r\n",
        "\r\n",
        "for i in tqdm(range(0, steps)):\r\n",
        "\r\n",
        "  par = text[i*par_len:i*par_len+par_len]\r\n",
        "  inputs = BERT_tokenizer(par, truncation=True, return_tensors=\"pt\")\r\n",
        "  outputs = BERT_model(**inputs)\r\n",
        "\r\n",
        "  last_hidden_states = outputs.last_hidden_state\r\n",
        "  avg_embedding = torch.mean(last_hidden_states, dim=1)\r\n",
        "  avg_embedding = torch.squeeze(avg_embedding)\r\n",
        "  avg_embedding = avg_embedding.detach().numpy()\r\n",
        "\r\n",
        "  ref_text_embeddings.append(avg_embedding)"
      ],
      "execution_count": null,
      "outputs": [
        {
          "output_type": "stream",
          "text": [
            "100%|██████████| 3200/3200 [1:30:38<00:00,  1.70s/it]\n"
          ],
          "name": "stderr"
        }
      ]
    },
    {
      "cell_type": "code",
      "metadata": {
        "id": "Mfl4g1EK8FU-"
      },
      "source": [
        "def BERTscore(ref_text_embeddings, gen_text):\r\n",
        "  sim = 0\r\n",
        "  for embed in ref_text_embeddings:\r\n",
        "    cos = cosine_similarity(embed.reshape(1, -1), gen_text.reshape(1, -1))\r\n",
        "    sim += cos[0][0]\r\n",
        "\r\n",
        "  float_len = float(len(ref_text_embeddings))\r\n",
        "  avg_sim = sim/float_len\r\n",
        "  assert isinstance(avg_sim, float), \"Not a float score\"\r\n",
        "  return avg_sim"
      ],
      "execution_count": null,
      "outputs": []
    },
    {
      "cell_type": "code",
      "metadata": {
        "id": "eHhcPanapND8"
      },
      "source": [
        "score_dict_BERT = {}\r\n",
        "start = time.time()\r\n",
        "\r\n",
        "for i in range(0, 100):\r\n",
        "  gen_text = generated_text[str(i)]\r\n",
        "\r\n",
        "  # create BERT embedding\r\n",
        "  inputs = BERT_tokenizer(gen_text, truncation=True, return_tensors=\"pt\")\r\n",
        "  outputs = BERT_model(**inputs)\r\n",
        "\r\n",
        "  last_hidden_states = outputs.last_hidden_state\r\n",
        "  avg_embedding = torch.mean(last_hidden_states, dim=1)\r\n",
        "  avg_embedding = torch.squeeze(avg_embedding)\r\n",
        "  avg_embedding = avg_embedding.detach().numpy()\r\n",
        "\r\n",
        "  # compare gen_text with ref_text\r\n",
        "  sim = BERTscore(ref_text_embeddings, avg_embedding )\r\n",
        "\r\n",
        "  score_dict_BERT[i] = sim\r\n",
        "\r\n",
        "end = time.time()\r\n",
        "print(\"This took {:.2f} minutes\".format((end-start)/60))\r\n",
        "\r\n",
        "# with open('/content/gdrive/My Drive/TxMM/GRU_results/hp_scores_BERT.json', 'w') as fp:\r\n",
        "#   json.dump(score_dict_BERT, fp)\r\n",
        "\r\n",
        "del score_dict_BERT"
      ],
      "execution_count": null,
      "outputs": []
    },
    {
      "cell_type": "markdown",
      "metadata": {
        "id": "bZa0GIybUevT"
      },
      "source": [
        "# GPT-2"
      ]
    },
    {
      "cell_type": "code",
      "metadata": {
        "id": "ev3KE0qxUfyM"
      },
      "source": [
        "with open('/content/gdrive/My Drive/TxMM/GPT-2_results/hp_generated_texts.json') as json_file: \r\n",
        "    generated_text = json.load(json_file)     "
      ],
      "execution_count": 9,
      "outputs": []
    },
    {
      "cell_type": "markdown",
      "metadata": {
        "id": "4lamV8zeUnQV"
      },
      "source": [
        "## BLEU score\r\n",
        "Between 0 and 1, where 1 is similar."
      ]
    },
    {
      "cell_type": "code",
      "metadata": {
        "id": "cUNUz0uiUn0O"
      },
      "source": [
        "score_dict_BLEU = {}\r\n",
        "start = time.time()\r\n",
        "\r\n",
        "for i in range(0, 100):\r\n",
        "  gen_text = generated_text[str(i)]\r\n",
        "  gen_text = gen_text[:1020]\r\n",
        "  gen_text_sent = word_tokenize(gen_text)\r\n",
        "\r\n",
        "  BLEUscore = sentence_bleu(text_tokens, gen_text_sent, weights = (0, 0, 1, 0))\r\n",
        "  score_dict_BLEU[i] = BLEUscore\r\n",
        "\r\n",
        "end = time.time()\r\n",
        "print(\"This took {:.2f} minutes\".format((end-start)/60))\r\n",
        "with open('/content/gdrive/My Drive/TxMM/GPT-2_results/hp_scores_BLEU.json', 'w') as fp:\r\n",
        "  json.dump(score_dict_BLEU, fp)\r\n",
        "\r\n",
        "del score_dict_BLEU"
      ],
      "execution_count": null,
      "outputs": []
    },
    {
      "cell_type": "markdown",
      "metadata": {
        "id": "vMvZdudnUujN"
      },
      "source": [
        "## ROUGE score\r\n",
        "Higher is more similar."
      ]
    },
    {
      "cell_type": "code",
      "metadata": {
        "id": "9jg-Ti1IUvGg"
      },
      "source": [
        "score_dict_ROUGE = {}\r\n",
        "start = time.time()\r\n",
        "\r\n",
        "for i in range(0, 100):\r\n",
        "  gen_text = generated_text[str(i)]\r\n",
        "  gen_text = gen_text[:1020]\r\n",
        "  scorer = rouge_scorer.RougeScorer(['rouge3'], use_stemmer=True)\r\n",
        "\r\n",
        "  ROUGEscore = scorer.score(text, gen_text)\r\n",
        "  score_dict_ROUGE[i] = {\"P\": ROUGEscore[\"rouge3\"][0], \"R\": ROUGEscore[\"rouge3\"][1], \"F1\": ROUGEscore[\"rouge3\"][2]}\r\n",
        "\r\n",
        "end = time.time()\r\n",
        "print(\"This took {:.2f} minutes\".format((end-start)/60))\r\n",
        "with open('/content/gdrive/My Drive/TxMM/GPT-2_results/hp_scores_ROUGE.json', 'w') as fp:\r\n",
        "  json.dump(score_dict_ROUGE, fp)\r\n",
        "\r\n",
        "del score_dict_ROUGE"
      ],
      "execution_count": null,
      "outputs": []
    },
    {
      "cell_type": "markdown",
      "metadata": {
        "id": "Dqc1jFIgVYsO"
      },
      "source": [
        "## BERT scores\r\n",
        "Higher is more similar (cosine similarity is used)."
      ]
    },
    {
      "cell_type": "markdown",
      "metadata": {
        "id": "0STjqazPVVu0"
      },
      "source": [
        "Split the reference text up into about chunks of 512 tokens, aka 3200 steps of about 1900 characters. For each chunk of tokens, calculate the average BERT embedding and add to list. Later we will compare the token of the generated text to each of these 3200 tokens and add the cosine similarity score to be able to score this generated text using BERT."
      ]
    },
    {
      "cell_type": "code",
      "metadata": {
        "id": "2Hn0ZnN_VqFJ"
      },
      "source": [
        "score_dict_BERT = {}\r\n",
        "start = time.time()\r\n",
        "\r\n",
        "for i in range(0, 100):\r\n",
        "  gen_text = generated_text[str(i)]\r\n",
        "  gen_text = gen_text[:1020]\r\n",
        "\r\n",
        "  # create BERT embedding\r\n",
        "  inputs = BERT_tokenizer(gen_text, truncation=True, return_tensors=\"pt\")\r\n",
        "  outputs = BERT_model(**inputs)\r\n",
        "\r\n",
        "  last_hidden_states = outputs.last_hidden_state\r\n",
        "  avg_embedding = torch.mean(last_hidden_states, dim=1)\r\n",
        "  avg_embedding = torch.squeeze(avg_embedding)\r\n",
        "  avg_embedding = avg_embedding.detach().numpy()\r\n",
        "\r\n",
        "  # compare gen_text with ref_text\r\n",
        "  sim = BERTscore(ref_text_embeddings, avg_embedding )\r\n",
        "\r\n",
        "  score_dict_BERT[i] = int(sim[0][0])\r\n",
        "\r\n",
        "end = time.time()\r\n",
        "print(\"This took {:.2f} minutes\".format((end-start)/60))\r\n",
        "\r\n",
        "with open('/content/gdrive/My Drive/TxMM/GPT-2_results/hp_scores_BERT.json', 'w') as fp:\r\n",
        "  json.dump(score_dict_BERT, fp)\r\n",
        "\r\n",
        "del score_dict_BERT"
      ],
      "execution_count": null,
      "outputs": []
    },
    {
      "cell_type": "code",
      "metadata": {
        "id": "Qu2mcAKcSJ1P"
      },
      "source": [
        ""
      ],
      "execution_count": null,
      "outputs": []
    }
  ]
}